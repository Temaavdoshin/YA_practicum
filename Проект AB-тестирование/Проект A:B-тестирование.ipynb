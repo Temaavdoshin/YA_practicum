{
 "cells": [
  {
   "cell_type": "markdown",
   "metadata": {},
   "source": [
    "# Проект A/B-тестирование"
   ]
  },
  {
   "cell_type": "markdown",
   "metadata": {},
   "source": [
    "## Постановка задачи"
   ]
  },
  {
   "cell_type": "markdown",
   "metadata": {},
   "source": [
    "Ваша задача — провести оценку результатов A/B-теста. В вашем распоряжении есть датасет с действиями пользователей, техническое задание и несколько вспомогательных датасетов.\n",
    "\n",
    "- Оцените корректность проведения теста\n",
    "- Проанализируйте результаты теста\n",
    "\n",
    "Чтобы оценить корректность проведения теста, проверьте:\n",
    "\n",
    "- пересечение тестовой аудитории с конкурирующим тестом,\n",
    "- совпадение теста и маркетинговых событий, другие проблемы временных границ теста."
   ]
  },
  {
   "cell_type": "markdown",
   "metadata": {},
   "source": [
    "## Техническое задание"
   ]
  },
  {
   "cell_type": "markdown",
   "metadata": {},
   "source": [
    "- Название теста: `recommender_system_test`;\n",
    "- группы: А — контрольная, B — новая платёжная воронка;\n",
    "- дата запуска: 2020-12-07;\n",
    "- дата остановки набора новых пользователей: 2020-12-21;\n",
    "- дата остановки: 2021-01-04;\n",
    "- аудитория: 15% новых пользователей из региона EU;\n",
    "- назначение теста: тестирование изменений, связанных с внедрением улучшенной рекомендательной системы;\n",
    "- ожидаемое количество участников теста: 6000.\n",
    "- ожидаемый эффект: за 14 дней с момента регистрации пользователи покажут улучшение каждой метрики не менее, чем на 10%:\n",
    "    - конверсии в просмотр карточек товаров — событие `product_page`,\n",
    "    - просмотры корзины — `product_cart`,\n",
    "    - покупки — `purchase`."
   ]
  },
  {
   "cell_type": "markdown",
   "metadata": {},
   "source": [
    "### Данные\n",
    "\n",
    "[final_ab_events.csv](https://disk.yandex.ru/d/pgKgZ9lRp0Enwg)<br> https://code.s3.yandex.net/datasets/final_ab_events.csv\n",
    "\n",
    "[ab_project_marketing_events.csv](https://disk.yandex.ru/d/ZVC7GUYYckKnGQ) <br> https://code.s3.yandex.net/datasets/ab_project_marketing_events.csv\n",
    "\n",
    "[final_ab_new_users.csv](https://disk.yandex.ru/d/Qrto8Gerpu424g) <br> https://code.s3.yandex.net/datasets/final_ab_new_users.csv\n",
    "\n",
    "[final_ab_participants.csv](https://disk.yandex.ru/d/nhGUR3ZkNIG4VA) <br> https://code.s3.yandex.net/datasets/final_ab_participants.csv"
   ]
  },
  {
   "cell_type": "markdown",
   "metadata": {},
   "source": [
    "### Описание данных\n",
    "\n",
    "`ab_project_marketing_events.csv` — календарь маркетинговых событий на 2020 год.\n",
    "\n",
    "Структура файла:\n",
    "\n",
    "- `name` — название маркетингового события;\n",
    "- `regions` — регионы, в которых будет проводиться рекламная кампания;\n",
    "- `start_dt` — дата начала кампании;\n",
    "- `finish_dt` — дата завершения кампании.\n",
    "\n",
    "`final_ab_new_users.csv` — пользователи, зарегистрировавшиеся с 7 по 21 декабря 2020 года.\n",
    "\n",
    "Структура файла:\n",
    "\n",
    "- `user_id` — идентификатор пользователя;\n",
    "- `first_date` — дата регистрации;\n",
    "- `region` — регион пользователя;\n",
    "- `device` — устройство, с которого происходила регистрация.\n",
    "\n",
    "`final_ab_events.csv` — действия новых пользователей в период с 7 декабря 2020 по 4 января 2021 года.\n",
    "\n",
    "Структура файла:\n",
    "\n",
    "- `user_id` — идентификатор пользователя;\n",
    "- `event_dt` — дата и время покупки;\n",
    "- `event_name` — тип события;\n",
    "- `details` — дополнительные данные о событии. Например, для покупок, `purchase,` в этом поле хранится стоимость покупки в долларах.\n",
    "\n",
    "`final_ab_participants.csv` — таблица участников тестов.\n",
    "\n",
    "Структура файла:\n",
    "\n",
    "- `user_id` — идентификатор пользователя;\n",
    "- `ab_test` — название теста;\n",
    "- `group` — группа пользователя"
   ]
  },
  {
   "cell_type": "markdown",
   "metadata": {},
   "source": [
    "## Как сделать задание?\n",
    "\n",
    "- Опишите цели исследования\n",
    "- Исследуйте данные:\n",
    "    - Требуется ли преобразование типов?\n",
    "    - Опишите природу пропущенных значений и дубликатов, если их обнаружите.\n",
    "- Оцените корректность проведения теста. Обратите внимание на:\n",
    "    - Соответствие данных требованиям технического задания. Проверьте корректность всех пунктов технического задания.\n",
    "    - Время проведения теста. Убедитесь, что оно не совпадает с маркетинговыми и другими активностями.\n",
    "    - Аудиторию теста. Удостоверьтесь, что нет пересечений с конкурирующим тестом и нет пользователей, участвующих в двух группах теста одновременно. Проверьте равномерность распределения по тестовым группам и правильность их формирования.\n",
    "- Проведите исследовательский анализ данных:\n",
    "    - Количество событий на пользователя одинаково распределены в выборках?\n",
    "    - Как число событий в выборках распределено по дням?\n",
    "    - Как меняется конверсия в воронке в выборках на разных этапах?\n",
    "    - Какие особенности данных нужно учесть, прежде чем приступать к A/B-тестированию?\n",
    "- Оцените результаты A/B-тестирования\n",
    "    - Что можно сказать про результаты A/В-тестирования?\n",
    "    - Проверьте статистическую разницу долей z-критерием.\n",
    "- Опишите выводы по этапу исследовательского анализа данных и по проведённой оценке результатов A/B-тестирования. Сделайте общее заключение о корректности проведения теста."
   ]
  },
  {
   "cell_type": "markdown",
   "metadata": {},
   "source": [
    "# Описание цели исследования"
   ]
  },
  {
   "cell_type": "markdown",
   "metadata": {},
   "source": [
    "<b>Задача:</b> провести оценку A\\B-тестирования новой рекомендательной системы товаров для пользователей. Оценить изменились ли продажи после внедрения изменений или нет.<br>\n",
    "\n",
    "Ожидаемый эффект: за 14 дней с момента регистрации пользователи покажут улучшение каждой метрики не менее, чем на 10%:<br>\n",
    "\n",
    "конверсии в просмотр карточек товаров — событие product_page,<br>\n",
    "просмотры корзины — product_cart,<br>\n",
    "покупки — purchase.<br>"
   ]
  },
  {
   "cell_type": "markdown",
   "metadata": {},
   "source": [
    "## Загрузка и подготовка данных\n"
   ]
  },
  {
   "cell_type": "code",
   "execution_count": 1,
   "metadata": {},
   "outputs": [],
   "source": [
    "import numpy as np\n",
    "import pandas as pd\n",
    "import matplotlib.pyplot as plt\n",
    "import seaborn as sns\n",
    "sns.set()\n",
    "import plotly.graph_objects as go\n",
    "import plotly.express as px\n",
    "import math as mth\n",
    "from scipy import stats as st\n",
    "import warnings\n",
    "warnings.filterwarnings('ignore')"
   ]
  },
  {
   "cell_type": "markdown",
   "metadata": {},
   "source": [
    "## Чтение таблиц\n"
   ]
  },
  {
   "cell_type": "code",
   "execution_count": null,
   "metadata": {},
   "outputs": [],
   "source": []
  },
  {
   "cell_type": "markdown",
   "metadata": {},
   "source": [
    "\n",
    "[final_ab_events.csv](https://disk.yandex.ru/d/pgKgZ9lRp0Enwg)<br> https://code.s3.yandex.net/datasets/final_ab_events.csv\n",
    "\n",
    "[ab_project_marketing_events.csv](https://disk.yandex.ru/d/ZVC7GUYYckKnGQ) <br> https://code.s3.yandex.net/datasets/ab_project_marketing_events.csv\n",
    "\n",
    "[final_ab_new_users.csv](https://disk.yandex.ru/d/Qrto8Gerpu424g) <br> https://code.s3.yandex.net/datasets/final_ab_new_users.csv\n",
    "\n",
    "[final_ab_participants.csv](https://disk.yandex.ru/d/nhGUR3ZkNIG4VA) <br> https://code.s3.yandex.net/datasets/final_ab_participants.csv"
   ]
  },
  {
   "cell_type": "code",
   "execution_count": 2,
   "metadata": {},
   "outputs": [],
   "source": [
    "marketing_events = pd.read_csv('https://code.s3.yandex.net/datasets/ab_project_marketing_events.csv')\n",
    "#marketing_events = pd.read_csv('/Users/artemavdosin/Desktop/ABtest/ab_project_marketing_events.csv')\n",
    "final_events = pd.read_csv('https://code.s3.yandex.net/datasets/final_ab_events.csv')\n",
    "#final_events = pd.read_csv('/Users/artemavdosin/Desktop/ABtest/final_ab_events.csv')\n",
    "new_users = pd.read_csv('https://code.s3.yandex.net/datasets/final_ab_new_users.csv')\n",
    "#new_users = pd.read_csv('/Users/artemavdosin/Desktop/ABtest/final_ab_new_users.csv')\n",
    "participants = pd.read_csv('https://code.s3.yandex.net/datasets/final_ab_participants.csv')\n",
    "#participants = pd.read_csv('/Users/artemavdosin/Desktop/ABtest/final_ab_participants.csv')\n",
    "\n"
   ]
  },
  {
   "cell_type": "markdown",
   "metadata": {},
   "source": [
    "<b>Календарь маркетинговых событий на 2020 год.</b>"
   ]
  },
  {
   "cell_type": "code",
   "execution_count": 3,
   "metadata": {},
   "outputs": [
    {
     "data": {
      "text/html": [
       "<div>\n",
       "<style scoped>\n",
       "    .dataframe tbody tr th:only-of-type {\n",
       "        vertical-align: middle;\n",
       "    }\n",
       "\n",
       "    .dataframe tbody tr th {\n",
       "        vertical-align: top;\n",
       "    }\n",
       "\n",
       "    .dataframe thead th {\n",
       "        text-align: right;\n",
       "    }\n",
       "</style>\n",
       "<table border=\"1\" class=\"dataframe\">\n",
       "  <thead>\n",
       "    <tr style=\"text-align: right;\">\n",
       "      <th></th>\n",
       "      <th>name</th>\n",
       "      <th>regions</th>\n",
       "      <th>start_dt</th>\n",
       "      <th>finish_dt</th>\n",
       "    </tr>\n",
       "  </thead>\n",
       "  <tbody>\n",
       "    <tr>\n",
       "      <th>0</th>\n",
       "      <td>Christmas&amp;New Year Promo</td>\n",
       "      <td>EU, N.America</td>\n",
       "      <td>2020-12-25</td>\n",
       "      <td>2021-01-03</td>\n",
       "    </tr>\n",
       "    <tr>\n",
       "      <th>1</th>\n",
       "      <td>St. Valentine's Day Giveaway</td>\n",
       "      <td>EU, CIS, APAC, N.America</td>\n",
       "      <td>2020-02-14</td>\n",
       "      <td>2020-02-16</td>\n",
       "    </tr>\n",
       "    <tr>\n",
       "      <th>2</th>\n",
       "      <td>St. Patric's Day Promo</td>\n",
       "      <td>EU, N.America</td>\n",
       "      <td>2020-03-17</td>\n",
       "      <td>2020-03-19</td>\n",
       "    </tr>\n",
       "    <tr>\n",
       "      <th>3</th>\n",
       "      <td>Easter Promo</td>\n",
       "      <td>EU, CIS, APAC, N.America</td>\n",
       "      <td>2020-04-12</td>\n",
       "      <td>2020-04-19</td>\n",
       "    </tr>\n",
       "    <tr>\n",
       "      <th>4</th>\n",
       "      <td>4th of July Promo</td>\n",
       "      <td>N.America</td>\n",
       "      <td>2020-07-04</td>\n",
       "      <td>2020-07-11</td>\n",
       "    </tr>\n",
       "  </tbody>\n",
       "</table>\n",
       "</div>"
      ],
      "text/plain": [
       "                           name                   regions    start_dt  \\\n",
       "0      Christmas&New Year Promo             EU, N.America  2020-12-25   \n",
       "1  St. Valentine's Day Giveaway  EU, CIS, APAC, N.America  2020-02-14   \n",
       "2        St. Patric's Day Promo             EU, N.America  2020-03-17   \n",
       "3                  Easter Promo  EU, CIS, APAC, N.America  2020-04-12   \n",
       "4             4th of July Promo                 N.America  2020-07-04   \n",
       "\n",
       "    finish_dt  \n",
       "0  2021-01-03  \n",
       "1  2020-02-16  \n",
       "2  2020-03-19  \n",
       "3  2020-04-19  \n",
       "4  2020-07-11  "
      ]
     },
     "execution_count": 3,
     "metadata": {},
     "output_type": "execute_result"
    }
   ],
   "source": [
    "marketing_events.head()"
   ]
  },
  {
   "cell_type": "markdown",
   "metadata": {},
   "source": [
    "Структура файла:<br>\n",
    "\n",
    "name — название маркетингового события;<br>\n",
    "regions — регионы, в которых будет проводиться рекламная кампания;<br>\n",
    "start_dt — дата начала кампании;<br>\n",
    "finish_dt — дата завершения кампании.<br>"
   ]
  },
  {
   "cell_type": "markdown",
   "metadata": {},
   "source": [
    "<b>Действия новых пользователей в период с 7 декабря 2020 по 4 января 2021 года.</b>"
   ]
  },
  {
   "cell_type": "code",
   "execution_count": 4,
   "metadata": {},
   "outputs": [
    {
     "data": {
      "text/html": [
       "<div>\n",
       "<style scoped>\n",
       "    .dataframe tbody tr th:only-of-type {\n",
       "        vertical-align: middle;\n",
       "    }\n",
       "\n",
       "    .dataframe tbody tr th {\n",
       "        vertical-align: top;\n",
       "    }\n",
       "\n",
       "    .dataframe thead th {\n",
       "        text-align: right;\n",
       "    }\n",
       "</style>\n",
       "<table border=\"1\" class=\"dataframe\">\n",
       "  <thead>\n",
       "    <tr style=\"text-align: right;\">\n",
       "      <th></th>\n",
       "      <th>user_id</th>\n",
       "      <th>event_dt</th>\n",
       "      <th>event_name</th>\n",
       "      <th>details</th>\n",
       "    </tr>\n",
       "  </thead>\n",
       "  <tbody>\n",
       "    <tr>\n",
       "      <th>0</th>\n",
       "      <td>E1BDDCE0DAFA2679</td>\n",
       "      <td>2020-12-07 20:22:03</td>\n",
       "      <td>purchase</td>\n",
       "      <td>99.99</td>\n",
       "    </tr>\n",
       "    <tr>\n",
       "      <th>1</th>\n",
       "      <td>7B6452F081F49504</td>\n",
       "      <td>2020-12-07 09:22:53</td>\n",
       "      <td>purchase</td>\n",
       "      <td>9.99</td>\n",
       "    </tr>\n",
       "    <tr>\n",
       "      <th>2</th>\n",
       "      <td>9CD9F34546DF254C</td>\n",
       "      <td>2020-12-07 12:59:29</td>\n",
       "      <td>purchase</td>\n",
       "      <td>4.99</td>\n",
       "    </tr>\n",
       "    <tr>\n",
       "      <th>3</th>\n",
       "      <td>96F27A054B191457</td>\n",
       "      <td>2020-12-07 04:02:40</td>\n",
       "      <td>purchase</td>\n",
       "      <td>4.99</td>\n",
       "    </tr>\n",
       "    <tr>\n",
       "      <th>4</th>\n",
       "      <td>1FD7660FDF94CA1F</td>\n",
       "      <td>2020-12-07 10:15:09</td>\n",
       "      <td>purchase</td>\n",
       "      <td>4.99</td>\n",
       "    </tr>\n",
       "  </tbody>\n",
       "</table>\n",
       "</div>"
      ],
      "text/plain": [
       "            user_id             event_dt event_name  details\n",
       "0  E1BDDCE0DAFA2679  2020-12-07 20:22:03   purchase    99.99\n",
       "1  7B6452F081F49504  2020-12-07 09:22:53   purchase     9.99\n",
       "2  9CD9F34546DF254C  2020-12-07 12:59:29   purchase     4.99\n",
       "3  96F27A054B191457  2020-12-07 04:02:40   purchase     4.99\n",
       "4  1FD7660FDF94CA1F  2020-12-07 10:15:09   purchase     4.99"
      ]
     },
     "execution_count": 4,
     "metadata": {},
     "output_type": "execute_result"
    }
   ],
   "source": [
    "final_events.head()"
   ]
  },
  {
   "cell_type": "markdown",
   "metadata": {},
   "source": [
    "Структура файла:<br>\n",
    "    \n",
    "user_id — идентификатор пользователя;<br>\n",
    "event_dt — дата и время покупки;<br>\n",
    "event_name — тип события;<br>\n",
    "details — дополнительные данные о событии. Например, для покупок, purchase, в этом поле хранится стоимость покупки в долларах.<br>"
   ]
  },
  {
   "cell_type": "markdown",
   "metadata": {},
   "source": [
    "<b>Пользователи, зарегистрировавшиеся с 7 по 21 декабря 2020 года.</b>"
   ]
  },
  {
   "cell_type": "code",
   "execution_count": 5,
   "metadata": {},
   "outputs": [
    {
     "data": {
      "text/html": [
       "<div>\n",
       "<style scoped>\n",
       "    .dataframe tbody tr th:only-of-type {\n",
       "        vertical-align: middle;\n",
       "    }\n",
       "\n",
       "    .dataframe tbody tr th {\n",
       "        vertical-align: top;\n",
       "    }\n",
       "\n",
       "    .dataframe thead th {\n",
       "        text-align: right;\n",
       "    }\n",
       "</style>\n",
       "<table border=\"1\" class=\"dataframe\">\n",
       "  <thead>\n",
       "    <tr style=\"text-align: right;\">\n",
       "      <th></th>\n",
       "      <th>user_id</th>\n",
       "      <th>first_date</th>\n",
       "      <th>region</th>\n",
       "      <th>device</th>\n",
       "    </tr>\n",
       "  </thead>\n",
       "  <tbody>\n",
       "    <tr>\n",
       "      <th>0</th>\n",
       "      <td>D72A72121175D8BE</td>\n",
       "      <td>2020-12-07</td>\n",
       "      <td>EU</td>\n",
       "      <td>PC</td>\n",
       "    </tr>\n",
       "    <tr>\n",
       "      <th>1</th>\n",
       "      <td>F1C668619DFE6E65</td>\n",
       "      <td>2020-12-07</td>\n",
       "      <td>N.America</td>\n",
       "      <td>Android</td>\n",
       "    </tr>\n",
       "    <tr>\n",
       "      <th>2</th>\n",
       "      <td>2E1BF1D4C37EA01F</td>\n",
       "      <td>2020-12-07</td>\n",
       "      <td>EU</td>\n",
       "      <td>PC</td>\n",
       "    </tr>\n",
       "    <tr>\n",
       "      <th>3</th>\n",
       "      <td>50734A22C0C63768</td>\n",
       "      <td>2020-12-07</td>\n",
       "      <td>EU</td>\n",
       "      <td>iPhone</td>\n",
       "    </tr>\n",
       "    <tr>\n",
       "      <th>4</th>\n",
       "      <td>E1BDDCE0DAFA2679</td>\n",
       "      <td>2020-12-07</td>\n",
       "      <td>N.America</td>\n",
       "      <td>iPhone</td>\n",
       "    </tr>\n",
       "  </tbody>\n",
       "</table>\n",
       "</div>"
      ],
      "text/plain": [
       "            user_id  first_date     region   device\n",
       "0  D72A72121175D8BE  2020-12-07         EU       PC\n",
       "1  F1C668619DFE6E65  2020-12-07  N.America  Android\n",
       "2  2E1BF1D4C37EA01F  2020-12-07         EU       PC\n",
       "3  50734A22C0C63768  2020-12-07         EU   iPhone\n",
       "4  E1BDDCE0DAFA2679  2020-12-07  N.America   iPhone"
      ]
     },
     "execution_count": 5,
     "metadata": {},
     "output_type": "execute_result"
    }
   ],
   "source": [
    "new_users.head()"
   ]
  },
  {
   "cell_type": "markdown",
   "metadata": {},
   "source": [
    "Структура файла:<br>\n",
    "\n",
    "user_id — идентификатор пользователя;<br>\n",
    "first_date — дата регистрации;<br>\n",
    "region — регион пользователя;<br>\n",
    "device — устройство, с которого происходила регистрация.<br>"
   ]
  },
  {
   "cell_type": "markdown",
   "metadata": {},
   "source": [
    "<b>Таблица участников тестов</b>"
   ]
  },
  {
   "cell_type": "code",
   "execution_count": 6,
   "metadata": {},
   "outputs": [
    {
     "data": {
      "text/html": [
       "<div>\n",
       "<style scoped>\n",
       "    .dataframe tbody tr th:only-of-type {\n",
       "        vertical-align: middle;\n",
       "    }\n",
       "\n",
       "    .dataframe tbody tr th {\n",
       "        vertical-align: top;\n",
       "    }\n",
       "\n",
       "    .dataframe thead th {\n",
       "        text-align: right;\n",
       "    }\n",
       "</style>\n",
       "<table border=\"1\" class=\"dataframe\">\n",
       "  <thead>\n",
       "    <tr style=\"text-align: right;\">\n",
       "      <th></th>\n",
       "      <th>user_id</th>\n",
       "      <th>group</th>\n",
       "      <th>ab_test</th>\n",
       "    </tr>\n",
       "  </thead>\n",
       "  <tbody>\n",
       "    <tr>\n",
       "      <th>0</th>\n",
       "      <td>D1ABA3E2887B6A73</td>\n",
       "      <td>A</td>\n",
       "      <td>recommender_system_test</td>\n",
       "    </tr>\n",
       "    <tr>\n",
       "      <th>1</th>\n",
       "      <td>A7A3664BD6242119</td>\n",
       "      <td>A</td>\n",
       "      <td>recommender_system_test</td>\n",
       "    </tr>\n",
       "    <tr>\n",
       "      <th>2</th>\n",
       "      <td>DABC14FDDFADD29E</td>\n",
       "      <td>A</td>\n",
       "      <td>recommender_system_test</td>\n",
       "    </tr>\n",
       "    <tr>\n",
       "      <th>3</th>\n",
       "      <td>04988C5DF189632E</td>\n",
       "      <td>A</td>\n",
       "      <td>recommender_system_test</td>\n",
       "    </tr>\n",
       "    <tr>\n",
       "      <th>4</th>\n",
       "      <td>482F14783456D21B</td>\n",
       "      <td>B</td>\n",
       "      <td>recommender_system_test</td>\n",
       "    </tr>\n",
       "  </tbody>\n",
       "</table>\n",
       "</div>"
      ],
      "text/plain": [
       "            user_id group                  ab_test\n",
       "0  D1ABA3E2887B6A73     A  recommender_system_test\n",
       "1  A7A3664BD6242119     A  recommender_system_test\n",
       "2  DABC14FDDFADD29E     A  recommender_system_test\n",
       "3  04988C5DF189632E     A  recommender_system_test\n",
       "4  482F14783456D21B     B  recommender_system_test"
      ]
     },
     "execution_count": 6,
     "metadata": {},
     "output_type": "execute_result"
    }
   ],
   "source": [
    "participants.head()"
   ]
  },
  {
   "cell_type": "code",
   "execution_count": null,
   "metadata": {},
   "outputs": [],
   "source": []
  },
  {
   "cell_type": "markdown",
   "metadata": {},
   "source": [
    "Структура файла:<br>\n",
    "\n",
    "user_id — идентификатор пользователя;<br>\n",
    "ab_test — название теста;<br>\n",
    "group — группа пользователя.<br>"
   ]
  },
  {
   "cell_type": "markdown",
   "metadata": {},
   "source": [
    "## Предобработка данных\n"
   ]
  },
  {
   "cell_type": "markdown",
   "metadata": {},
   "source": [
    "### Предобработка Календарь маркетинговых событий на 2020 год. "
   ]
  },
  {
   "cell_type": "markdown",
   "metadata": {},
   "source": [
    "### Исследуйте данные:"
   ]
  },
  {
   "cell_type": "markdown",
   "metadata": {},
   "source": [
    "- Требуется ли преобразование типов?"
   ]
  },
  {
   "cell_type": "markdown",
   "metadata": {},
   "source": [
    "- Опишите природу пропущенных значений и дубликатов, если их обнаружите."
   ]
  },
  {
   "cell_type": "code",
   "execution_count": 7,
   "metadata": {},
   "outputs": [
    {
     "name": "stdout",
     "output_type": "stream",
     "text": [
      "<class 'pandas.core.frame.DataFrame'>\n",
      "RangeIndex: 14 entries, 0 to 13\n",
      "Data columns (total 4 columns):\n",
      " #   Column     Non-Null Count  Dtype \n",
      "---  ------     --------------  ----- \n",
      " 0   name       14 non-null     object\n",
      " 1   regions    14 non-null     object\n",
      " 2   start_dt   14 non-null     object\n",
      " 3   finish_dt  14 non-null     object\n",
      "dtypes: object(4)\n",
      "memory usage: 576.0+ bytes\n"
     ]
    }
   ],
   "source": [
    "marketing_events.info()"
   ]
  },
  {
   "cell_type": "code",
   "execution_count": 8,
   "metadata": {},
   "outputs": [
    {
     "name": "stdout",
     "output_type": "stream",
     "text": [
      "0\n"
     ]
    }
   ],
   "source": [
    "#Поиск дубликатов \n",
    "print(marketing_events.duplicated().sum())"
   ]
  },
  {
   "cell_type": "markdown",
   "metadata": {},
   "source": [
    "- В таблице marketing_events нет пропусков и дубликтов.\n",
    "- У столбцов со временем неправильный тип данных."
   ]
  },
  {
   "cell_type": "code",
   "execution_count": 9,
   "metadata": {},
   "outputs": [
    {
     "data": {
      "text/html": [
       "<div>\n",
       "<style scoped>\n",
       "    .dataframe tbody tr th:only-of-type {\n",
       "        vertical-align: middle;\n",
       "    }\n",
       "\n",
       "    .dataframe tbody tr th {\n",
       "        vertical-align: top;\n",
       "    }\n",
       "\n",
       "    .dataframe thead th {\n",
       "        text-align: right;\n",
       "    }\n",
       "</style>\n",
       "<table border=\"1\" class=\"dataframe\">\n",
       "  <thead>\n",
       "    <tr style=\"text-align: right;\">\n",
       "      <th></th>\n",
       "      <th>name</th>\n",
       "      <th>regions</th>\n",
       "      <th>start_dt</th>\n",
       "      <th>finish_dt</th>\n",
       "    </tr>\n",
       "  </thead>\n",
       "  <tbody>\n",
       "    <tr>\n",
       "      <th>0</th>\n",
       "      <td>Christmas&amp;New Year Promo</td>\n",
       "      <td>EU, N.America</td>\n",
       "      <td>2020-12-25</td>\n",
       "      <td>2021-01-03</td>\n",
       "    </tr>\n",
       "    <tr>\n",
       "      <th>1</th>\n",
       "      <td>St. Valentine's Day Giveaway</td>\n",
       "      <td>EU, CIS, APAC, N.America</td>\n",
       "      <td>2020-02-14</td>\n",
       "      <td>2020-02-16</td>\n",
       "    </tr>\n",
       "    <tr>\n",
       "      <th>2</th>\n",
       "      <td>St. Patric's Day Promo</td>\n",
       "      <td>EU, N.America</td>\n",
       "      <td>2020-03-17</td>\n",
       "      <td>2020-03-19</td>\n",
       "    </tr>\n",
       "    <tr>\n",
       "      <th>3</th>\n",
       "      <td>Easter Promo</td>\n",
       "      <td>EU, CIS, APAC, N.America</td>\n",
       "      <td>2020-04-12</td>\n",
       "      <td>2020-04-19</td>\n",
       "    </tr>\n",
       "    <tr>\n",
       "      <th>4</th>\n",
       "      <td>4th of July Promo</td>\n",
       "      <td>N.America</td>\n",
       "      <td>2020-07-04</td>\n",
       "      <td>2020-07-11</td>\n",
       "    </tr>\n",
       "  </tbody>\n",
       "</table>\n",
       "</div>"
      ],
      "text/plain": [
       "                           name                   regions   start_dt  \\\n",
       "0      Christmas&New Year Promo             EU, N.America 2020-12-25   \n",
       "1  St. Valentine's Day Giveaway  EU, CIS, APAC, N.America 2020-02-14   \n",
       "2        St. Patric's Day Promo             EU, N.America 2020-03-17   \n",
       "3                  Easter Promo  EU, CIS, APAC, N.America 2020-04-12   \n",
       "4             4th of July Promo                 N.America 2020-07-04   \n",
       "\n",
       "   finish_dt  \n",
       "0 2021-01-03  \n",
       "1 2020-02-16  \n",
       "2 2020-03-19  \n",
       "3 2020-04-19  \n",
       "4 2020-07-11  "
      ]
     },
     "metadata": {},
     "output_type": "display_data"
    },
    {
     "name": "stdout",
     "output_type": "stream",
     "text": [
      " \n",
      "<class 'pandas.core.frame.DataFrame'>\n",
      "RangeIndex: 14 entries, 0 to 13\n",
      "Data columns (total 4 columns):\n",
      " #   Column     Non-Null Count  Dtype         \n",
      "---  ------     --------------  -----         \n",
      " 0   name       14 non-null     object        \n",
      " 1   regions    14 non-null     object        \n",
      " 2   start_dt   14 non-null     datetime64[ns]\n",
      " 3   finish_dt  14 non-null     datetime64[ns]\n",
      "dtypes: datetime64[ns](2), object(2)\n",
      "memory usage: 576.0+ bytes\n"
     ]
    },
    {
     "data": {
      "text/plain": [
       "None"
      ]
     },
     "metadata": {},
     "output_type": "display_data"
    }
   ],
   "source": [
    "marketing_events['start_dt'] = pd.to_datetime(marketing_events['start_dt'])\n",
    "marketing_events['finish_dt'] = pd.to_datetime(marketing_events['finish_dt'])\n",
    "display(marketing_events.head())\n",
    "print(' ')\n",
    "display(marketing_events.info())"
   ]
  },
  {
   "cell_type": "markdown",
   "metadata": {},
   "source": [
    "Датасет готов"
   ]
  },
  {
   "cell_type": "markdown",
   "metadata": {},
   "source": [
    "### Предобработка Действия новых пользователей в период с 7 декабря 2020 по 4 января 2021 года."
   ]
  },
  {
   "cell_type": "code",
   "execution_count": 10,
   "metadata": {},
   "outputs": [
    {
     "name": "stdout",
     "output_type": "stream",
     "text": [
      "<class 'pandas.core.frame.DataFrame'>\n",
      "RangeIndex: 440317 entries, 0 to 440316\n",
      "Data columns (total 4 columns):\n",
      " #   Column      Non-Null Count   Dtype  \n",
      "---  ------      --------------   -----  \n",
      " 0   user_id     440317 non-null  object \n",
      " 1   event_dt    440317 non-null  object \n",
      " 2   event_name  440317 non-null  object \n",
      " 3   details     62740 non-null   float64\n",
      "dtypes: float64(1), object(3)\n",
      "memory usage: 13.4+ MB\n"
     ]
    }
   ],
   "source": [
    "final_events.info()"
   ]
  },
  {
   "cell_type": "code",
   "execution_count": 11,
   "metadata": {},
   "outputs": [
    {
     "name": "stdout",
     "output_type": "stream",
     "text": [
      "0\n"
     ]
    }
   ],
   "source": [
    "#Поиск дубликатов \n",
    "print(final_events.duplicated().sum())"
   ]
  },
  {
   "cell_type": "code",
   "execution_count": 12,
   "metadata": {},
   "outputs": [
    {
     "name": "stdout",
     "output_type": "stream",
     "text": [
      "user_id        0.000000\n",
      "event_dt       0.000000\n",
      "event_name     0.000000\n",
      "details       85.751175\n",
      "dtype: float64\n"
     ]
    }
   ],
   "source": [
    "print(final_events.isnull().sum()*100/len(final_events))"
   ]
  },
  {
   "cell_type": "markdown",
   "metadata": {},
   "source": [
    "- Имеются пропуски в details. Нужно посмотреть, соответствует ли это  ТЗ.\n",
    "- Нужно исправить тип данных у столбца с датой.\n"
   ]
  },
  {
   "cell_type": "code",
   "execution_count": 13,
   "metadata": {},
   "outputs": [
    {
     "data": {
      "text/plain": [
       "event_name\n",
       "login                                 [nan]\n",
       "product_cart                          [nan]\n",
       "product_page                          [nan]\n",
       "purchase        [99.99, 9.99, 4.99, 499.99]\n",
       "Name: details, dtype: object"
      ]
     },
     "metadata": {},
     "output_type": "display_data"
    }
   ],
   "source": [
    "final_events_nan = final_events.groupby('event_name')['details'].unique()\n",
    "display(final_events_nan)"
   ]
  },
  {
   "cell_type": "markdown",
   "metadata": {},
   "source": [
    "Данные в столбце с событиями: оплата, корзина с товаром, страница с товаром, вход. Пропуски в\n",
    "данных находятся в деталях к событиям не подтверждающихся оплатой или иными дополнительными\n",
    "фиксациями переход от события к событию и есть подтверждающая деталь технического задания. Удалить пропуски в details не стоит. "
   ]
  },
  {
   "cell_type": "code",
   "execution_count": 14,
   "metadata": {},
   "outputs": [
    {
     "name": "stdout",
     "output_type": "stream",
     "text": [
      "<class 'pandas.core.frame.DataFrame'>\n",
      "RangeIndex: 440317 entries, 0 to 440316\n",
      "Data columns (total 4 columns):\n",
      " #   Column      Non-Null Count   Dtype         \n",
      "---  ------      --------------   -----         \n",
      " 0   user_id     440317 non-null  object        \n",
      " 1   event_dt    440317 non-null  datetime64[ns]\n",
      " 2   event_name  440317 non-null  object        \n",
      " 3   details     62740 non-null   float64       \n",
      "dtypes: datetime64[ns](1), float64(1), object(2)\n",
      "memory usage: 13.4+ MB\n"
     ]
    },
    {
     "data": {
      "text/plain": [
       "None"
      ]
     },
     "metadata": {},
     "output_type": "display_data"
    }
   ],
   "source": [
    "final_events['event_dt'] = pd.to_datetime(final_events['event_dt'])\n",
    "\n",
    "display(final_events.info())"
   ]
  },
  {
   "cell_type": "markdown",
   "metadata": {},
   "source": [
    "Датасет готов"
   ]
  },
  {
   "cell_type": "markdown",
   "metadata": {},
   "source": [
    "### Предобработка Пользователи, зарегистрировавшиеся с 7 по 21 декабря 2020 года."
   ]
  },
  {
   "cell_type": "code",
   "execution_count": 15,
   "metadata": {},
   "outputs": [
    {
     "name": "stdout",
     "output_type": "stream",
     "text": [
      "<class 'pandas.core.frame.DataFrame'>\n",
      "RangeIndex: 61733 entries, 0 to 61732\n",
      "Data columns (total 4 columns):\n",
      " #   Column      Non-Null Count  Dtype \n",
      "---  ------      --------------  ----- \n",
      " 0   user_id     61733 non-null  object\n",
      " 1   first_date  61733 non-null  object\n",
      " 2   region      61733 non-null  object\n",
      " 3   device      61733 non-null  object\n",
      "dtypes: object(4)\n",
      "memory usage: 1.9+ MB\n"
     ]
    }
   ],
   "source": [
    "new_users.info()"
   ]
  },
  {
   "cell_type": "code",
   "execution_count": 16,
   "metadata": {},
   "outputs": [
    {
     "name": "stdout",
     "output_type": "stream",
     "text": [
      "0\n"
     ]
    }
   ],
   "source": [
    "print(new_users.duplicated().sum())"
   ]
  },
  {
   "cell_type": "markdown",
   "metadata": {},
   "source": [
    "- Дубликатов и пропусков нет \n",
    "- Нужно изменить тип данных у столбца с датой "
   ]
  },
  {
   "cell_type": "code",
   "execution_count": 17,
   "metadata": {},
   "outputs": [
    {
     "name": "stdout",
     "output_type": "stream",
     "text": [
      "<class 'pandas.core.frame.DataFrame'>\n",
      "RangeIndex: 61733 entries, 0 to 61732\n",
      "Data columns (total 4 columns):\n",
      " #   Column      Non-Null Count  Dtype         \n",
      "---  ------      --------------  -----         \n",
      " 0   user_id     61733 non-null  object        \n",
      " 1   first_date  61733 non-null  datetime64[ns]\n",
      " 2   region      61733 non-null  object        \n",
      " 3   device      61733 non-null  object        \n",
      "dtypes: datetime64[ns](1), object(3)\n",
      "memory usage: 1.9+ MB\n"
     ]
    },
    {
     "data": {
      "text/plain": [
       "None"
      ]
     },
     "metadata": {},
     "output_type": "display_data"
    }
   ],
   "source": [
    "new_users['first_date'] = pd.to_datetime(new_users['first_date'])\n",
    "display(new_users.info())"
   ]
  },
  {
   "cell_type": "markdown",
   "metadata": {},
   "source": [
    "Датасет готов"
   ]
  },
  {
   "cell_type": "markdown",
   "metadata": {},
   "source": [
    "Вывод\n",
    "- Дубликатов в данных нет \n",
    "- Все даннае с датой приведены к корректному типу данных \n",
    "- Обнарузены пропуски в даннных деталях событий, это соответствует ТЗ и удалению не подлежат"
   ]
  },
  {
   "cell_type": "markdown",
   "metadata": {},
   "source": [
    "- Пропустов и дубликатов нет. \n",
    "- Все типы данных верны\n",
    "\n",
    "С данными можно работать"
   ]
  },
  {
   "cell_type": "markdown",
   "metadata": {},
   "source": [
    "### Проверка технического задания \n",
    "\n",
    "\n",
    "- Оцените корректность проведения теста. Обратите внимание на:\n",
    "    - Соответствие данных требованиям технического задания. Проверьте корректность всех пунктов технического задания.\n",
    "    - Время проведения теста. Убедитесь, что оно не совпадает с маркетинговыми и другими активностями.\n",
    "    - Аудиторию теста. Удостоверьтесь, что нет пересечений с конкурирующим тестом и нет пользователей, участвующих в двух группах теста одновременно. Проверьте равномерность распределения по тестовым группам и правильность их формирования.\n",
    "    \n",
    "    \n",
    "\n",
    "- Название теста: `recommender_system_test`;\n",
    "- группы: А — контрольная, B — новая платёжная воронка;\n",
    "- дата запуска: 2020-12-07;\n",
    "- дата остановки набора новых пользователей: 2020-12-21;\n",
    "- дата остановки: 2021-01-04;\n",
    "- аудитория: 15% новых пользователей из региона EU;\n",
    "- назначение теста: тестирование изменений, связанных с внедрением улучшенной рекомендательной системы;\n",
    "- ожидаемое количество участников теста: 6000.\n",
    "- ожидаемый эффект: за 14 дней с момента регистрации пользователи покажут улучшение каждой метрики не менее, чем на 10%:\n",
    "    - конверсии в просмотр карточек товаров — событие `product_page`,\n",
    "    - просмотры корзины — `product_cart`,\n",
    "    - покупки — `purchase`.\n"
   ]
  },
  {
   "cell_type": "markdown",
   "metadata": {},
   "source": [
    "#### Название теста: recommender_system_test\n",
    "группы: А — контрольная, B — новая платёжная воронка;"
   ]
  },
  {
   "cell_type": "code",
   "execution_count": 18,
   "metadata": {
    "scrolled": true
   },
   "outputs": [
    {
     "data": {
      "text/html": [
       "<div>\n",
       "<style scoped>\n",
       "    .dataframe tbody tr th:only-of-type {\n",
       "        vertical-align: middle;\n",
       "    }\n",
       "\n",
       "    .dataframe tbody tr th {\n",
       "        vertical-align: top;\n",
       "    }\n",
       "\n",
       "    .dataframe thead th {\n",
       "        text-align: right;\n",
       "    }\n",
       "</style>\n",
       "<table border=\"1\" class=\"dataframe\">\n",
       "  <thead>\n",
       "    <tr style=\"text-align: right;\">\n",
       "      <th></th>\n",
       "      <th>user_id</th>\n",
       "      <th>group</th>\n",
       "      <th>ab_test</th>\n",
       "    </tr>\n",
       "  </thead>\n",
       "  <tbody>\n",
       "    <tr>\n",
       "      <th>0</th>\n",
       "      <td>D1ABA3E2887B6A73</td>\n",
       "      <td>A</td>\n",
       "      <td>recommender_system_test</td>\n",
       "    </tr>\n",
       "    <tr>\n",
       "      <th>1</th>\n",
       "      <td>A7A3664BD6242119</td>\n",
       "      <td>A</td>\n",
       "      <td>recommender_system_test</td>\n",
       "    </tr>\n",
       "    <tr>\n",
       "      <th>2</th>\n",
       "      <td>DABC14FDDFADD29E</td>\n",
       "      <td>A</td>\n",
       "      <td>recommender_system_test</td>\n",
       "    </tr>\n",
       "    <tr>\n",
       "      <th>3</th>\n",
       "      <td>04988C5DF189632E</td>\n",
       "      <td>A</td>\n",
       "      <td>recommender_system_test</td>\n",
       "    </tr>\n",
       "    <tr>\n",
       "      <th>4</th>\n",
       "      <td>482F14783456D21B</td>\n",
       "      <td>B</td>\n",
       "      <td>recommender_system_test</td>\n",
       "    </tr>\n",
       "  </tbody>\n",
       "</table>\n",
       "</div>"
      ],
      "text/plain": [
       "            user_id group                  ab_test\n",
       "0  D1ABA3E2887B6A73     A  recommender_system_test\n",
       "1  A7A3664BD6242119     A  recommender_system_test\n",
       "2  DABC14FDDFADD29E     A  recommender_system_test\n",
       "3  04988C5DF189632E     A  recommender_system_test\n",
       "4  482F14783456D21B     B  recommender_system_test"
      ]
     },
     "execution_count": 18,
     "metadata": {},
     "output_type": "execute_result"
    }
   ],
   "source": [
    "participants.head()"
   ]
  },
  {
   "cell_type": "code",
   "execution_count": 19,
   "metadata": {},
   "outputs": [
    {
     "data": {
      "text/html": [
       "<div>\n",
       "<style scoped>\n",
       "    .dataframe tbody tr th:only-of-type {\n",
       "        vertical-align: middle;\n",
       "    }\n",
       "\n",
       "    .dataframe tbody tr th {\n",
       "        vertical-align: top;\n",
       "    }\n",
       "\n",
       "    .dataframe thead th {\n",
       "        text-align: right;\n",
       "    }\n",
       "</style>\n",
       "<table border=\"1\" class=\"dataframe\">\n",
       "  <thead>\n",
       "    <tr style=\"text-align: right;\">\n",
       "      <th></th>\n",
       "      <th></th>\n",
       "      <th>ab_test</th>\n",
       "    </tr>\n",
       "    <tr>\n",
       "      <th>ab_test</th>\n",
       "      <th>group</th>\n",
       "      <th></th>\n",
       "    </tr>\n",
       "  </thead>\n",
       "  <tbody>\n",
       "    <tr>\n",
       "      <th rowspan=\"2\" valign=\"top\">interface_eu_test</th>\n",
       "      <th>A</th>\n",
       "      <td>5831</td>\n",
       "    </tr>\n",
       "    <tr>\n",
       "      <th>B</th>\n",
       "      <td>5736</td>\n",
       "    </tr>\n",
       "    <tr>\n",
       "      <th rowspan=\"2\" valign=\"top\">recommender_system_test</th>\n",
       "      <th>A</th>\n",
       "      <td>3824</td>\n",
       "    </tr>\n",
       "    <tr>\n",
       "      <th>B</th>\n",
       "      <td>2877</td>\n",
       "    </tr>\n",
       "  </tbody>\n",
       "</table>\n",
       "</div>"
      ],
      "text/plain": [
       "                               ab_test\n",
       "ab_test                 group         \n",
       "interface_eu_test       A         5831\n",
       "                        B         5736\n",
       "recommender_system_test A         3824\n",
       "                        B         2877"
      ]
     },
     "execution_count": 19,
     "metadata": {},
     "output_type": "execute_result"
    }
   ],
   "source": [
    "participants.groupby(['ab_test', 'group']).agg({'ab_test': 'count'})"
   ]
  },
  {
   "cell_type": "markdown",
   "metadata": {},
   "source": [
    "Видим, что в таблице участников теста, есть две тестовые группы interface_eu_test и recommender_system_test"
   ]
  },
  {
   "cell_type": "code",
   "execution_count": 20,
   "metadata": {},
   "outputs": [
    {
     "name": "stdout",
     "output_type": "stream",
     "text": [
      "Исследование наличия пользователей, на попадание в обе группы:\n"
     ]
    },
    {
     "data": {
      "text/html": [
       "<div>\n",
       "<style scoped>\n",
       "    .dataframe tbody tr th:only-of-type {\n",
       "        vertical-align: middle;\n",
       "    }\n",
       "\n",
       "    .dataframe tbody tr th {\n",
       "        vertical-align: top;\n",
       "    }\n",
       "\n",
       "    .dataframe thead th {\n",
       "        text-align: right;\n",
       "    }\n",
       "</style>\n",
       "<table border=\"1\" class=\"dataframe\">\n",
       "  <thead>\n",
       "    <tr style=\"text-align: right;\">\n",
       "      <th></th>\n",
       "      <th>user_id</th>\n",
       "      <th>group</th>\n",
       "    </tr>\n",
       "  </thead>\n",
       "  <tbody>\n",
       "    <tr>\n",
       "      <th>7402</th>\n",
       "      <td>72742C5F312A1FEC</td>\n",
       "      <td>2</td>\n",
       "    </tr>\n",
       "    <tr>\n",
       "      <th>11050</th>\n",
       "      <td>A929DCBED46E31D1</td>\n",
       "      <td>2</td>\n",
       "    </tr>\n",
       "    <tr>\n",
       "      <th>5068</th>\n",
       "      <td>4E971B47912497CE</td>\n",
       "      <td>2</td>\n",
       "    </tr>\n",
       "    <tr>\n",
       "      <th>7780</th>\n",
       "      <td>786EB537736D5055</td>\n",
       "      <td>2</td>\n",
       "    </tr>\n",
       "    <tr>\n",
       "      <th>5882</th>\n",
       "      <td>5B4EFE916AD19741</td>\n",
       "      <td>2</td>\n",
       "    </tr>\n",
       "    <tr>\n",
       "      <th>...</th>\n",
       "      <td>...</td>\n",
       "      <td>...</td>\n",
       "    </tr>\n",
       "    <tr>\n",
       "      <th>5680</th>\n",
       "      <td>57E796E81DD60883</td>\n",
       "      <td>1</td>\n",
       "    </tr>\n",
       "    <tr>\n",
       "      <th>5681</th>\n",
       "      <td>57E945ACB21E1DA8</td>\n",
       "      <td>1</td>\n",
       "    </tr>\n",
       "    <tr>\n",
       "      <th>5682</th>\n",
       "      <td>57EEF3B13ABF1FE2</td>\n",
       "      <td>1</td>\n",
       "    </tr>\n",
       "    <tr>\n",
       "      <th>5684</th>\n",
       "      <td>57FD266D6A09BCD2</td>\n",
       "      <td>1</td>\n",
       "    </tr>\n",
       "    <tr>\n",
       "      <th>16665</th>\n",
       "      <td>FFF58BC33966EB51</td>\n",
       "      <td>1</td>\n",
       "    </tr>\n",
       "  </tbody>\n",
       "</table>\n",
       "<p>16666 rows × 2 columns</p>\n",
       "</div>"
      ],
      "text/plain": [
       "                user_id  group\n",
       "7402   72742C5F312A1FEC      2\n",
       "11050  A929DCBED46E31D1      2\n",
       "5068   4E971B47912497CE      2\n",
       "7780   786EB537736D5055      2\n",
       "5882   5B4EFE916AD19741      2\n",
       "...                 ...    ...\n",
       "5680   57E796E81DD60883      1\n",
       "5681   57E945ACB21E1DA8      1\n",
       "5682   57EEF3B13ABF1FE2      1\n",
       "5684   57FD266D6A09BCD2      1\n",
       "16665  FFF58BC33966EB51      1\n",
       "\n",
       "[16666 rows x 2 columns]"
      ]
     },
     "metadata": {},
     "output_type": "display_data"
    }
   ],
   "source": [
    "print('Исследование наличия пользователей, на попадание в обе группы:')\n",
    "display(participants.groupby('user_id').agg({'group':'nunique'}).reset_index().sort_values('group', ascending=False))"
   ]
  },
  {
   "cell_type": "code",
   "execution_count": 21,
   "metadata": {},
   "outputs": [
    {
     "name": "stdout",
     "output_type": "stream",
     "text": [
      "Исследование наличия пользователей, на попадание в обе группы для необходимого теста:\n"
     ]
    },
    {
     "data": {
      "text/html": [
       "<div>\n",
       "<style scoped>\n",
       "    .dataframe tbody tr th:only-of-type {\n",
       "        vertical-align: middle;\n",
       "    }\n",
       "\n",
       "    .dataframe tbody tr th {\n",
       "        vertical-align: top;\n",
       "    }\n",
       "\n",
       "    .dataframe thead th {\n",
       "        text-align: right;\n",
       "    }\n",
       "</style>\n",
       "<table border=\"1\" class=\"dataframe\">\n",
       "  <thead>\n",
       "    <tr style=\"text-align: right;\">\n",
       "      <th></th>\n",
       "      <th>user_id</th>\n",
       "      <th>group</th>\n",
       "    </tr>\n",
       "  </thead>\n",
       "  <tbody>\n",
       "    <tr>\n",
       "      <th>0</th>\n",
       "      <td>000ABE35EE11412F</td>\n",
       "      <td>1</td>\n",
       "    </tr>\n",
       "    <tr>\n",
       "      <th>4502</th>\n",
       "      <td>AB3E2847DF7EC531</td>\n",
       "      <td>1</td>\n",
       "    </tr>\n",
       "    <tr>\n",
       "      <th>4474</th>\n",
       "      <td>AA703FB9F9004F86</td>\n",
       "      <td>1</td>\n",
       "    </tr>\n",
       "    <tr>\n",
       "      <th>4473</th>\n",
       "      <td>AA703605654827AE</td>\n",
       "      <td>1</td>\n",
       "    </tr>\n",
       "    <tr>\n",
       "      <th>4472</th>\n",
       "      <td>AA5A1803D3FA76B4</td>\n",
       "      <td>1</td>\n",
       "    </tr>\n",
       "    <tr>\n",
       "      <th>...</th>\n",
       "      <td>...</td>\n",
       "      <td>...</td>\n",
       "    </tr>\n",
       "    <tr>\n",
       "      <th>2231</th>\n",
       "      <td>56AEC8FDA4BCA549</td>\n",
       "      <td>1</td>\n",
       "    </tr>\n",
       "    <tr>\n",
       "      <th>2230</th>\n",
       "      <td>569CEF5F441978B3</td>\n",
       "      <td>1</td>\n",
       "    </tr>\n",
       "    <tr>\n",
       "      <th>2229</th>\n",
       "      <td>5698C00E2A472E8E</td>\n",
       "      <td>1</td>\n",
       "    </tr>\n",
       "    <tr>\n",
       "      <th>2228</th>\n",
       "      <td>568C35FDE36F7C26</td>\n",
       "      <td>1</td>\n",
       "    </tr>\n",
       "    <tr>\n",
       "      <th>6700</th>\n",
       "      <td>FFF28D02B1EACBE1</td>\n",
       "      <td>1</td>\n",
       "    </tr>\n",
       "  </tbody>\n",
       "</table>\n",
       "<p>6701 rows × 2 columns</p>\n",
       "</div>"
      ],
      "text/plain": [
       "               user_id  group\n",
       "0     000ABE35EE11412F      1\n",
       "4502  AB3E2847DF7EC531      1\n",
       "4474  AA703FB9F9004F86      1\n",
       "4473  AA703605654827AE      1\n",
       "4472  AA5A1803D3FA76B4      1\n",
       "...                ...    ...\n",
       "2231  56AEC8FDA4BCA549      1\n",
       "2230  569CEF5F441978B3      1\n",
       "2229  5698C00E2A472E8E      1\n",
       "2228  568C35FDE36F7C26      1\n",
       "6700  FFF28D02B1EACBE1      1\n",
       "\n",
       "[6701 rows x 2 columns]"
      ]
     },
     "metadata": {},
     "output_type": "display_data"
    }
   ],
   "source": [
    "print('Исследование наличия пользователей, на попадание в обе группы для необходимого теста:')\n",
    "participants_test=participants[participants['ab_test']=='recommender_system_test']\n",
    "display(participants_test.groupby('user_id').agg({'group':'nunique'}).reset_index().sort_values('group', ascending=False))\n"
   ]
  },
  {
   "cell_type": "code",
   "execution_count": 22,
   "metadata": {},
   "outputs": [
    {
     "name": "stdout",
     "output_type": "stream",
     "text": [
      "\n",
      "Количество пользователей в группах для двух тестов:\n"
     ]
    },
    {
     "data": {
      "text/plain": [
       "group\n",
       "A    9173\n",
       "B    8269\n",
       "Name: user_id, dtype: int64"
      ]
     },
     "metadata": {},
     "output_type": "display_data"
    },
    {
     "data": {
      "text/html": [
       "<div>\n",
       "<style scoped>\n",
       "    .dataframe tbody tr th:only-of-type {\n",
       "        vertical-align: middle;\n",
       "    }\n",
       "\n",
       "    .dataframe tbody tr th {\n",
       "        vertical-align: top;\n",
       "    }\n",
       "\n",
       "    .dataframe thead th {\n",
       "        text-align: right;\n",
       "    }\n",
       "</style>\n",
       "<table border=\"1\" class=\"dataframe\">\n",
       "  <thead>\n",
       "    <tr style=\"text-align: right;\">\n",
       "      <th></th>\n",
       "      <th>user_id</th>\n",
       "      <th>group</th>\n",
       "      <th>ab_test</th>\n",
       "    </tr>\n",
       "  </thead>\n",
       "  <tbody>\n",
       "    <tr>\n",
       "      <th>0</th>\n",
       "      <td>D1ABA3E2887B6A73</td>\n",
       "      <td>A</td>\n",
       "      <td>recommender_system_test</td>\n",
       "    </tr>\n",
       "    <tr>\n",
       "      <th>1</th>\n",
       "      <td>A7A3664BD6242119</td>\n",
       "      <td>A</td>\n",
       "      <td>recommender_system_test</td>\n",
       "    </tr>\n",
       "    <tr>\n",
       "      <th>2</th>\n",
       "      <td>DABC14FDDFADD29E</td>\n",
       "      <td>A</td>\n",
       "      <td>recommender_system_test</td>\n",
       "    </tr>\n",
       "    <tr>\n",
       "      <th>3</th>\n",
       "      <td>04988C5DF189632E</td>\n",
       "      <td>A</td>\n",
       "      <td>recommender_system_test</td>\n",
       "    </tr>\n",
       "    <tr>\n",
       "      <th>4</th>\n",
       "      <td>482F14783456D21B</td>\n",
       "      <td>B</td>\n",
       "      <td>recommender_system_test</td>\n",
       "    </tr>\n",
       "    <tr>\n",
       "      <th>...</th>\n",
       "      <td>...</td>\n",
       "      <td>...</td>\n",
       "      <td>...</td>\n",
       "    </tr>\n",
       "    <tr>\n",
       "      <th>18263</th>\n",
       "      <td>1D302F8688B91781</td>\n",
       "      <td>B</td>\n",
       "      <td>interface_eu_test</td>\n",
       "    </tr>\n",
       "    <tr>\n",
       "      <th>18264</th>\n",
       "      <td>3DE51B726983B657</td>\n",
       "      <td>A</td>\n",
       "      <td>interface_eu_test</td>\n",
       "    </tr>\n",
       "    <tr>\n",
       "      <th>18265</th>\n",
       "      <td>F501F79D332BE86C</td>\n",
       "      <td>A</td>\n",
       "      <td>interface_eu_test</td>\n",
       "    </tr>\n",
       "    <tr>\n",
       "      <th>18266</th>\n",
       "      <td>63FBE257B05F2245</td>\n",
       "      <td>A</td>\n",
       "      <td>interface_eu_test</td>\n",
       "    </tr>\n",
       "    <tr>\n",
       "      <th>18267</th>\n",
       "      <td>79F9ABFB029CF724</td>\n",
       "      <td>B</td>\n",
       "      <td>interface_eu_test</td>\n",
       "    </tr>\n",
       "  </tbody>\n",
       "</table>\n",
       "<p>18268 rows × 3 columns</p>\n",
       "</div>"
      ],
      "text/plain": [
       "                user_id group                  ab_test\n",
       "0      D1ABA3E2887B6A73     A  recommender_system_test\n",
       "1      A7A3664BD6242119     A  recommender_system_test\n",
       "2      DABC14FDDFADD29E     A  recommender_system_test\n",
       "3      04988C5DF189632E     A  recommender_system_test\n",
       "4      482F14783456D21B     B  recommender_system_test\n",
       "...                 ...   ...                      ...\n",
       "18263  1D302F8688B91781     B        interface_eu_test\n",
       "18264  3DE51B726983B657     A        interface_eu_test\n",
       "18265  F501F79D332BE86C     A        interface_eu_test\n",
       "18266  63FBE257B05F2245     A        interface_eu_test\n",
       "18267  79F9ABFB029CF724     B        interface_eu_test\n",
       "\n",
       "[18268 rows x 3 columns]"
      ]
     },
     "metadata": {},
     "output_type": "display_data"
    }
   ],
   "source": [
    "print()\n",
    "print('Количество пользователей в группах для двух тестов:')\n",
    "display(participants.groupby('group')['user_id'].nunique())\n",
    "display(participants)"
   ]
  },
  {
   "cell_type": "code",
   "execution_count": null,
   "metadata": {},
   "outputs": [],
   "source": []
  },
  {
   "cell_type": "code",
   "execution_count": 23,
   "metadata": {},
   "outputs": [
    {
     "name": "stdout",
     "output_type": "stream",
     "text": [
      "Уникальность пользователей в группах для двух тестов:\n"
     ]
    },
    {
     "data": {
      "text/plain": [
       "user_id\n",
       "0002CE61FF2C4011       [A]\n",
       "000ABE35EE11412F       [A]\n",
       "001064FEAAB631A1       [B]\n",
       "0010A1C096941592       [A]\n",
       "001C05E87D336C59       [A]\n",
       "                     ...  \n",
       "FFE858A7845F005E       [A]\n",
       "FFED90241D04503F       [B]\n",
       "FFEFC0E55C1CCD4F       [B]\n",
       "FFF28D02B1EACBE1    [B, A]\n",
       "FFF58BC33966EB51       [B]\n",
       "Name: group, Length: 16666, dtype: object"
      ]
     },
     "metadata": {},
     "output_type": "display_data"
    },
    {
     "name": "stdout",
     "output_type": "stream",
     "text": [
      "\n"
     ]
    }
   ],
   "source": [
    "print('Уникальность пользователей в группах для двух тестов:')\n",
    "display(participants.groupby('user_id')['group'].unique())\n",
    "print()"
   ]
  },
  {
   "cell_type": "code",
   "execution_count": 24,
   "metadata": {},
   "outputs": [
    {
     "name": "stdout",
     "output_type": "stream",
     "text": [
      "Количество уникальных пользователей в тесте recommender_system_test в группах:\n"
     ]
    },
    {
     "data": {
      "text/plain": [
       "group\n",
       "A    9173\n",
       "B    8269\n",
       "Name: user_id, dtype: int64"
      ]
     },
     "execution_count": 24,
     "metadata": {},
     "output_type": "execute_result"
    }
   ],
   "source": [
    "print('Количество уникальных пользователей в тесте recommender_system_test в группах:')\n",
    "participants.groupby('group')['user_id'].nunique()"
   ]
  },
  {
   "cell_type": "code",
   "execution_count": null,
   "metadata": {},
   "outputs": [],
   "source": []
  },
  {
   "cell_type": "markdown",
   "metadata": {},
   "source": [
    "В датасете с изучаемым тестом нет уникальных пользователей попавших в обе группы теста, но\n",
    "количество участников группы В на 1000 пользователей меньше."
   ]
  },
  {
   "cell_type": "code",
   "execution_count": 25,
   "metadata": {},
   "outputs": [
    {
     "name": "stdout",
     "output_type": "stream",
     "text": [
      "Количество пересечений между разными тестами: 1602\n"
     ]
    }
   ],
   "source": [
    "\n",
    "test1 = participants.query('ab_test == \"recommender_system_test\"')\n",
    "test2 = participants.query('ab_test == \"interface_eu_test\"')\n",
    "\n",
    "ff = test1.merge(test2, on='user_id', how='inner')\n",
    "\n",
    "unique_users = ff['user_id'].unique().tolist()\n",
    "print('Количество пересечений между разными тестами:',len(unique_users))"
   ]
  },
  {
   "cell_type": "code",
   "execution_count": null,
   "metadata": {},
   "outputs": [],
   "source": []
  },
  {
   "cell_type": "markdown",
   "metadata": {},
   "source": [
    "#### Проверка дат запуска и остановки тестов\n",
    "- дата запуска: 2020-12-07;\n",
    "- дата остановки набора новых пользователей: 2020-12-21;\n",
    "- дата остановки: 2021-01-04;"
   ]
  },
  {
   "cell_type": "markdown",
   "metadata": {},
   "source": [
    "<b>Объединённый датасет с информацией о клиентах и их регистрации, и информацией о тесте и тестируемой\n",
    "группе.</b>"
   ]
  },
  {
   "cell_type": "code",
   "execution_count": 26,
   "metadata": {},
   "outputs": [
    {
     "data": {
      "text/html": [
       "<div>\n",
       "<style scoped>\n",
       "    .dataframe tbody tr th:only-of-type {\n",
       "        vertical-align: middle;\n",
       "    }\n",
       "\n",
       "    .dataframe tbody tr th {\n",
       "        vertical-align: top;\n",
       "    }\n",
       "\n",
       "    .dataframe thead th {\n",
       "        text-align: right;\n",
       "    }\n",
       "</style>\n",
       "<table border=\"1\" class=\"dataframe\">\n",
       "  <thead>\n",
       "    <tr style=\"text-align: right;\">\n",
       "      <th></th>\n",
       "      <th>user_id</th>\n",
       "      <th>first_date</th>\n",
       "      <th>region</th>\n",
       "      <th>device</th>\n",
       "      <th>group</th>\n",
       "      <th>ab_test</th>\n",
       "    </tr>\n",
       "  </thead>\n",
       "  <tbody>\n",
       "    <tr>\n",
       "      <th>0</th>\n",
       "      <td>D72A72121175D8BE</td>\n",
       "      <td>2020-12-07</td>\n",
       "      <td>EU</td>\n",
       "      <td>PC</td>\n",
       "      <td>A</td>\n",
       "      <td>recommender_system_test</td>\n",
       "    </tr>\n",
       "    <tr>\n",
       "      <th>1</th>\n",
       "      <td>F1C668619DFE6E65</td>\n",
       "      <td>2020-12-07</td>\n",
       "      <td>N.America</td>\n",
       "      <td>Android</td>\n",
       "      <td>NaN</td>\n",
       "      <td>NaN</td>\n",
       "    </tr>\n",
       "    <tr>\n",
       "      <th>2</th>\n",
       "      <td>2E1BF1D4C37EA01F</td>\n",
       "      <td>2020-12-07</td>\n",
       "      <td>EU</td>\n",
       "      <td>PC</td>\n",
       "      <td>A</td>\n",
       "      <td>interface_eu_test</td>\n",
       "    </tr>\n",
       "    <tr>\n",
       "      <th>3</th>\n",
       "      <td>50734A22C0C63768</td>\n",
       "      <td>2020-12-07</td>\n",
       "      <td>EU</td>\n",
       "      <td>iPhone</td>\n",
       "      <td>B</td>\n",
       "      <td>interface_eu_test</td>\n",
       "    </tr>\n",
       "    <tr>\n",
       "      <th>4</th>\n",
       "      <td>E1BDDCE0DAFA2679</td>\n",
       "      <td>2020-12-07</td>\n",
       "      <td>N.America</td>\n",
       "      <td>iPhone</td>\n",
       "      <td>NaN</td>\n",
       "      <td>NaN</td>\n",
       "    </tr>\n",
       "  </tbody>\n",
       "</table>\n",
       "</div>"
      ],
      "text/plain": [
       "            user_id first_date     region   device group  \\\n",
       "0  D72A72121175D8BE 2020-12-07         EU       PC     A   \n",
       "1  F1C668619DFE6E65 2020-12-07  N.America  Android   NaN   \n",
       "2  2E1BF1D4C37EA01F 2020-12-07         EU       PC     A   \n",
       "3  50734A22C0C63768 2020-12-07         EU   iPhone     B   \n",
       "4  E1BDDCE0DAFA2679 2020-12-07  N.America   iPhone   NaN   \n",
       "\n",
       "                   ab_test  \n",
       "0  recommender_system_test  \n",
       "1                      NaN  \n",
       "2        interface_eu_test  \n",
       "3        interface_eu_test  \n",
       "4                      NaN  "
      ]
     },
     "metadata": {},
     "output_type": "display_data"
    },
    {
     "name": "stdout",
     "output_type": "stream",
     "text": [
      "<class 'pandas.core.frame.DataFrame'>\n",
      "Int64Index: 63335 entries, 0 to 63334\n",
      "Data columns (total 6 columns):\n",
      " #   Column      Non-Null Count  Dtype         \n",
      "---  ------      --------------  -----         \n",
      " 0   user_id     63335 non-null  object        \n",
      " 1   first_date  63335 non-null  datetime64[ns]\n",
      " 2   region      63335 non-null  object        \n",
      " 3   device      63335 non-null  object        \n",
      " 4   group       18268 non-null  object        \n",
      " 5   ab_test     18268 non-null  object        \n",
      "dtypes: datetime64[ns](1), object(5)\n",
      "memory usage: 3.4+ MB\n"
     ]
    }
   ],
   "source": [
    "data = new_users.merge(participants, on='user_id', how='left')\n",
    "display(data.head())\n",
    "data.info()"
   ]
  },
  {
   "cell_type": "markdown",
   "metadata": {},
   "source": [
    "В датасете много пропущенных данных о виде теста и нахождения пользователя в группе, не все\n",
    "пользователи были разделены или данные пользователи были зарегистрированы ранее."
   ]
  },
  {
   "cell_type": "markdown",
   "metadata": {},
   "source": [
    "<b>Объединённый датасет с информацией о событии совершенном пользователем</b>"
   ]
  },
  {
   "cell_type": "code",
   "execution_count": 27,
   "metadata": {},
   "outputs": [],
   "source": [
    "data = data.merge(final_events, on='user_id', how='left')"
   ]
  },
  {
   "cell_type": "code",
   "execution_count": 28,
   "metadata": {},
   "outputs": [
    {
     "data": {
      "text/html": [
       "<div>\n",
       "<style scoped>\n",
       "    .dataframe tbody tr th:only-of-type {\n",
       "        vertical-align: middle;\n",
       "    }\n",
       "\n",
       "    .dataframe tbody tr th {\n",
       "        vertical-align: top;\n",
       "    }\n",
       "\n",
       "    .dataframe thead th {\n",
       "        text-align: right;\n",
       "    }\n",
       "</style>\n",
       "<table border=\"1\" class=\"dataframe\">\n",
       "  <thead>\n",
       "    <tr style=\"text-align: right;\">\n",
       "      <th></th>\n",
       "      <th>user_id</th>\n",
       "      <th>first_date</th>\n",
       "      <th>region</th>\n",
       "      <th>device</th>\n",
       "      <th>group</th>\n",
       "      <th>ab_test</th>\n",
       "      <th>event_dt</th>\n",
       "      <th>event_name</th>\n",
       "      <th>details</th>\n",
       "    </tr>\n",
       "  </thead>\n",
       "  <tbody>\n",
       "    <tr>\n",
       "      <th>449946</th>\n",
       "      <td>1C7D23927835213F</td>\n",
       "      <td>2020-12-20</td>\n",
       "      <td>EU</td>\n",
       "      <td>iPhone</td>\n",
       "      <td>B</td>\n",
       "      <td>interface_eu_test</td>\n",
       "      <td>2020-12-23 15:47:23</td>\n",
       "      <td>product_page</td>\n",
       "      <td>NaN</td>\n",
       "    </tr>\n",
       "    <tr>\n",
       "      <th>449947</th>\n",
       "      <td>1C7D23927835213F</td>\n",
       "      <td>2020-12-20</td>\n",
       "      <td>EU</td>\n",
       "      <td>iPhone</td>\n",
       "      <td>B</td>\n",
       "      <td>interface_eu_test</td>\n",
       "      <td>2020-12-25 12:31:05</td>\n",
       "      <td>product_page</td>\n",
       "      <td>NaN</td>\n",
       "    </tr>\n",
       "    <tr>\n",
       "      <th>449948</th>\n",
       "      <td>1C7D23927835213F</td>\n",
       "      <td>2020-12-20</td>\n",
       "      <td>EU</td>\n",
       "      <td>iPhone</td>\n",
       "      <td>B</td>\n",
       "      <td>interface_eu_test</td>\n",
       "      <td>2020-12-27 03:51:36</td>\n",
       "      <td>product_page</td>\n",
       "      <td>NaN</td>\n",
       "    </tr>\n",
       "    <tr>\n",
       "      <th>449949</th>\n",
       "      <td>1C7D23927835213F</td>\n",
       "      <td>2020-12-20</td>\n",
       "      <td>EU</td>\n",
       "      <td>iPhone</td>\n",
       "      <td>B</td>\n",
       "      <td>interface_eu_test</td>\n",
       "      <td>2020-12-20 14:14:28</td>\n",
       "      <td>login</td>\n",
       "      <td>NaN</td>\n",
       "    </tr>\n",
       "    <tr>\n",
       "      <th>449950</th>\n",
       "      <td>1C7D23927835213F</td>\n",
       "      <td>2020-12-20</td>\n",
       "      <td>EU</td>\n",
       "      <td>iPhone</td>\n",
       "      <td>B</td>\n",
       "      <td>interface_eu_test</td>\n",
       "      <td>2020-12-21 04:31:15</td>\n",
       "      <td>login</td>\n",
       "      <td>NaN</td>\n",
       "    </tr>\n",
       "    <tr>\n",
       "      <th>449951</th>\n",
       "      <td>1C7D23927835213F</td>\n",
       "      <td>2020-12-20</td>\n",
       "      <td>EU</td>\n",
       "      <td>iPhone</td>\n",
       "      <td>B</td>\n",
       "      <td>interface_eu_test</td>\n",
       "      <td>2020-12-23 15:47:23</td>\n",
       "      <td>login</td>\n",
       "      <td>NaN</td>\n",
       "    </tr>\n",
       "    <tr>\n",
       "      <th>449952</th>\n",
       "      <td>1C7D23927835213F</td>\n",
       "      <td>2020-12-20</td>\n",
       "      <td>EU</td>\n",
       "      <td>iPhone</td>\n",
       "      <td>B</td>\n",
       "      <td>interface_eu_test</td>\n",
       "      <td>2020-12-25 12:31:04</td>\n",
       "      <td>login</td>\n",
       "      <td>NaN</td>\n",
       "    </tr>\n",
       "    <tr>\n",
       "      <th>449953</th>\n",
       "      <td>1C7D23927835213F</td>\n",
       "      <td>2020-12-20</td>\n",
       "      <td>EU</td>\n",
       "      <td>iPhone</td>\n",
       "      <td>B</td>\n",
       "      <td>interface_eu_test</td>\n",
       "      <td>2020-12-27 03:51:35</td>\n",
       "      <td>login</td>\n",
       "      <td>NaN</td>\n",
       "    </tr>\n",
       "    <tr>\n",
       "      <th>449954</th>\n",
       "      <td>8F04273BB2860229</td>\n",
       "      <td>2020-12-20</td>\n",
       "      <td>EU</td>\n",
       "      <td>Android</td>\n",
       "      <td>NaN</td>\n",
       "      <td>NaN</td>\n",
       "      <td>2020-12-20 03:17:17</td>\n",
       "      <td>product_cart</td>\n",
       "      <td>NaN</td>\n",
       "    </tr>\n",
       "    <tr>\n",
       "      <th>449955</th>\n",
       "      <td>8F04273BB2860229</td>\n",
       "      <td>2020-12-20</td>\n",
       "      <td>EU</td>\n",
       "      <td>Android</td>\n",
       "      <td>NaN</td>\n",
       "      <td>NaN</td>\n",
       "      <td>2020-12-20 03:17:17</td>\n",
       "      <td>login</td>\n",
       "      <td>NaN</td>\n",
       "    </tr>\n",
       "  </tbody>\n",
       "</table>\n",
       "</div>"
      ],
      "text/plain": [
       "                 user_id first_date region   device group            ab_test  \\\n",
       "449946  1C7D23927835213F 2020-12-20     EU   iPhone     B  interface_eu_test   \n",
       "449947  1C7D23927835213F 2020-12-20     EU   iPhone     B  interface_eu_test   \n",
       "449948  1C7D23927835213F 2020-12-20     EU   iPhone     B  interface_eu_test   \n",
       "449949  1C7D23927835213F 2020-12-20     EU   iPhone     B  interface_eu_test   \n",
       "449950  1C7D23927835213F 2020-12-20     EU   iPhone     B  interface_eu_test   \n",
       "449951  1C7D23927835213F 2020-12-20     EU   iPhone     B  interface_eu_test   \n",
       "449952  1C7D23927835213F 2020-12-20     EU   iPhone     B  interface_eu_test   \n",
       "449953  1C7D23927835213F 2020-12-20     EU   iPhone     B  interface_eu_test   \n",
       "449954  8F04273BB2860229 2020-12-20     EU  Android   NaN                NaN   \n",
       "449955  8F04273BB2860229 2020-12-20     EU  Android   NaN                NaN   \n",
       "\n",
       "                  event_dt    event_name  details  \n",
       "449946 2020-12-23 15:47:23  product_page      NaN  \n",
       "449947 2020-12-25 12:31:05  product_page      NaN  \n",
       "449948 2020-12-27 03:51:36  product_page      NaN  \n",
       "449949 2020-12-20 14:14:28         login      NaN  \n",
       "449950 2020-12-21 04:31:15         login      NaN  \n",
       "449951 2020-12-23 15:47:23         login      NaN  \n",
       "449952 2020-12-25 12:31:04         login      NaN  \n",
       "449953 2020-12-27 03:51:35         login      NaN  \n",
       "449954 2020-12-20 03:17:17  product_cart      NaN  \n",
       "449955 2020-12-20 03:17:17         login      NaN  "
      ]
     },
     "metadata": {},
     "output_type": "display_data"
    },
    {
     "name": "stdout",
     "output_type": "stream",
     "text": [
      "<class 'pandas.core.frame.DataFrame'>\n",
      "Int64Index: 449956 entries, 0 to 449955\n",
      "Data columns (total 9 columns):\n",
      " #   Column      Non-Null Count   Dtype         \n",
      "---  ------      --------------   -----         \n",
      " 0   user_id     449956 non-null  object        \n",
      " 1   first_date  449956 non-null  datetime64[ns]\n",
      " 2   region      449956 non-null  object        \n",
      " 3   device      449956 non-null  object        \n",
      " 4   group       110368 non-null  object        \n",
      " 5   ab_test     110368 non-null  object        \n",
      " 6   event_dt    446211 non-null  datetime64[ns]\n",
      " 7   event_name  446211 non-null  object        \n",
      " 8   details     63588 non-null   float64       \n",
      "dtypes: datetime64[ns](2), float64(1), object(6)\n",
      "memory usage: 34.3+ MB\n"
     ]
    }
   ],
   "source": [
    "display(data.tail(10))\n",
    "data.info()"
   ]
  },
  {
   "cell_type": "code",
   "execution_count": null,
   "metadata": {},
   "outputs": [],
   "source": []
  },
  {
   "cell_type": "markdown",
   "metadata": {},
   "source": [
    "#### Проверка на дату завершения набора новых пользователей нашего теста"
   ]
  },
  {
   "cell_type": "markdown",
   "metadata": {},
   "source": [
    " По ТЗ дата остановки набора новых пользователей: 2020-12-21. Нам следует отфильтровать события с лайфтаймом больше, чем горизонт событий. (т.е. удалить строки, в которых события больше 14 дней)"
   ]
  },
  {
   "cell_type": "code",
   "execution_count": 29,
   "metadata": {},
   "outputs": [
    {
     "ename": "ValueError",
     "evalue": "unknown type timedelta64[ns]",
     "output_type": "error",
     "traceback": [
      "\u001b[0;31m---------------------------------------------------------------------------\u001b[0m",
      "\u001b[0;31mValueError\u001b[0m                                Traceback (most recent call last)",
      "\u001b[0;32m<ipython-input-29-1e4899a2416f>\u001b[0m in \u001b[0;36m<module>\u001b[0;34m\u001b[0m\n\u001b[1;32m      1\u001b[0m \u001b[0mdata\u001b[0m\u001b[0;34m[\u001b[0m\u001b[0;34m'event_dt'\u001b[0m\u001b[0;34m]\u001b[0m \u001b[0;34m=\u001b[0m \u001b[0mpd\u001b[0m\u001b[0;34m.\u001b[0m\u001b[0mto_datetime\u001b[0m\u001b[0;34m(\u001b[0m\u001b[0mdata\u001b[0m\u001b[0;34m[\u001b[0m\u001b[0;34m'event_dt'\u001b[0m\u001b[0;34m]\u001b[0m\u001b[0;34m)\u001b[0m\u001b[0;34m\u001b[0m\u001b[0;34m\u001b[0m\u001b[0m\n\u001b[1;32m      2\u001b[0m \u001b[0mdata\u001b[0m\u001b[0;34m[\u001b[0m\u001b[0;34m'days'\u001b[0m\u001b[0;34m]\u001b[0m \u001b[0;34m=\u001b[0m \u001b[0mdata\u001b[0m\u001b[0;34m[\u001b[0m\u001b[0;34m'event_dt'\u001b[0m\u001b[0;34m]\u001b[0m\u001b[0;34m-\u001b[0m\u001b[0mdata\u001b[0m\u001b[0;34m[\u001b[0m\u001b[0;34m'first_date'\u001b[0m\u001b[0;34m]\u001b[0m\u001b[0;34m\u001b[0m\u001b[0;34m\u001b[0m\u001b[0m\n\u001b[0;32m----> 3\u001b[0;31m \u001b[0mdata\u001b[0m\u001b[0;34m=\u001b[0m\u001b[0mdata\u001b[0m\u001b[0;34m.\u001b[0m\u001b[0mquery\u001b[0m\u001b[0;34m(\u001b[0m\u001b[0;34m'days<=\"14 days\" or days==\"NaT\"'\u001b[0m\u001b[0;34m)\u001b[0m\u001b[0;34m\u001b[0m\u001b[0;34m\u001b[0m\u001b[0m\n\u001b[0m\u001b[1;32m      4\u001b[0m \u001b[0;32mdel\u001b[0m \u001b[0mdata\u001b[0m\u001b[0;34m[\u001b[0m\u001b[0;34m'days'\u001b[0m\u001b[0;34m]\u001b[0m\u001b[0;34m\u001b[0m\u001b[0;34m\u001b[0m\u001b[0m\n\u001b[1;32m      5\u001b[0m \u001b[0;34m\u001b[0m\u001b[0m\n",
      "\u001b[0;32m~/opt/anaconda3/lib/python3.8/site-packages/pandas/core/frame.py\u001b[0m in \u001b[0;36mquery\u001b[0;34m(self, expr, inplace, **kwargs)\u001b[0m\n\u001b[1;32m   4109\u001b[0m         \u001b[0mkwargs\u001b[0m\u001b[0;34m[\u001b[0m\u001b[0;34m\"level\"\u001b[0m\u001b[0;34m]\u001b[0m \u001b[0;34m=\u001b[0m \u001b[0mkwargs\u001b[0m\u001b[0;34m.\u001b[0m\u001b[0mpop\u001b[0m\u001b[0;34m(\u001b[0m\u001b[0;34m\"level\"\u001b[0m\u001b[0;34m,\u001b[0m \u001b[0;36m0\u001b[0m\u001b[0;34m)\u001b[0m \u001b[0;34m+\u001b[0m \u001b[0;36m1\u001b[0m\u001b[0;34m\u001b[0m\u001b[0;34m\u001b[0m\u001b[0m\n\u001b[1;32m   4110\u001b[0m         \u001b[0mkwargs\u001b[0m\u001b[0;34m[\u001b[0m\u001b[0;34m\"target\"\u001b[0m\u001b[0;34m]\u001b[0m \u001b[0;34m=\u001b[0m \u001b[0;32mNone\u001b[0m\u001b[0;34m\u001b[0m\u001b[0;34m\u001b[0m\u001b[0m\n\u001b[0;32m-> 4111\u001b[0;31m         \u001b[0mres\u001b[0m \u001b[0;34m=\u001b[0m \u001b[0mself\u001b[0m\u001b[0;34m.\u001b[0m\u001b[0meval\u001b[0m\u001b[0;34m(\u001b[0m\u001b[0mexpr\u001b[0m\u001b[0;34m,\u001b[0m \u001b[0;34m**\u001b[0m\u001b[0mkwargs\u001b[0m\u001b[0;34m)\u001b[0m\u001b[0;34m\u001b[0m\u001b[0;34m\u001b[0m\u001b[0m\n\u001b[0m\u001b[1;32m   4112\u001b[0m \u001b[0;34m\u001b[0m\u001b[0m\n\u001b[1;32m   4113\u001b[0m         \u001b[0;32mtry\u001b[0m\u001b[0;34m:\u001b[0m\u001b[0;34m\u001b[0m\u001b[0;34m\u001b[0m\u001b[0m\n",
      "\u001b[0;32m~/opt/anaconda3/lib/python3.8/site-packages/pandas/core/frame.py\u001b[0m in \u001b[0;36meval\u001b[0;34m(self, expr, inplace, **kwargs)\u001b[0m\n\u001b[1;32m   4238\u001b[0m         \u001b[0mkwargs\u001b[0m\u001b[0;34m[\u001b[0m\u001b[0;34m\"resolvers\"\u001b[0m\u001b[0;34m]\u001b[0m \u001b[0;34m=\u001b[0m \u001b[0mtuple\u001b[0m\u001b[0;34m(\u001b[0m\u001b[0mkwargs\u001b[0m\u001b[0;34m.\u001b[0m\u001b[0mget\u001b[0m\u001b[0;34m(\u001b[0m\u001b[0;34m\"resolvers\"\u001b[0m\u001b[0;34m,\u001b[0m \u001b[0;34m(\u001b[0m\u001b[0;34m)\u001b[0m\u001b[0;34m)\u001b[0m\u001b[0;34m)\u001b[0m \u001b[0;34m+\u001b[0m \u001b[0mresolvers\u001b[0m\u001b[0;34m\u001b[0m\u001b[0;34m\u001b[0m\u001b[0m\n\u001b[1;32m   4239\u001b[0m \u001b[0;34m\u001b[0m\u001b[0m\n\u001b[0;32m-> 4240\u001b[0;31m         \u001b[0;32mreturn\u001b[0m \u001b[0m_eval\u001b[0m\u001b[0;34m(\u001b[0m\u001b[0mexpr\u001b[0m\u001b[0;34m,\u001b[0m \u001b[0minplace\u001b[0m\u001b[0;34m=\u001b[0m\u001b[0minplace\u001b[0m\u001b[0;34m,\u001b[0m \u001b[0;34m**\u001b[0m\u001b[0mkwargs\u001b[0m\u001b[0;34m)\u001b[0m\u001b[0;34m\u001b[0m\u001b[0;34m\u001b[0m\u001b[0m\n\u001b[0m\u001b[1;32m   4241\u001b[0m \u001b[0;34m\u001b[0m\u001b[0m\n\u001b[1;32m   4242\u001b[0m     \u001b[0;32mdef\u001b[0m \u001b[0mselect_dtypes\u001b[0m\u001b[0;34m(\u001b[0m\u001b[0mself\u001b[0m\u001b[0;34m,\u001b[0m \u001b[0minclude\u001b[0m\u001b[0;34m=\u001b[0m\u001b[0;32mNone\u001b[0m\u001b[0;34m,\u001b[0m \u001b[0mexclude\u001b[0m\u001b[0;34m=\u001b[0m\u001b[0;32mNone\u001b[0m\u001b[0;34m)\u001b[0m \u001b[0;34m->\u001b[0m \u001b[0mDataFrame\u001b[0m\u001b[0;34m:\u001b[0m\u001b[0;34m\u001b[0m\u001b[0;34m\u001b[0m\u001b[0m\n",
      "\u001b[0;32m~/opt/anaconda3/lib/python3.8/site-packages/pandas/core/computation/eval.py\u001b[0m in \u001b[0;36meval\u001b[0;34m(expr, parser, engine, truediv, local_dict, global_dict, resolvers, level, target, inplace)\u001b[0m\n\u001b[1;32m    353\u001b[0m         \u001b[0meng\u001b[0m \u001b[0;34m=\u001b[0m \u001b[0mENGINES\u001b[0m\u001b[0;34m[\u001b[0m\u001b[0mengine\u001b[0m\u001b[0;34m]\u001b[0m\u001b[0;34m\u001b[0m\u001b[0;34m\u001b[0m\u001b[0m\n\u001b[1;32m    354\u001b[0m         \u001b[0meng_inst\u001b[0m \u001b[0;34m=\u001b[0m \u001b[0meng\u001b[0m\u001b[0;34m(\u001b[0m\u001b[0mparsed_expr\u001b[0m\u001b[0;34m)\u001b[0m\u001b[0;34m\u001b[0m\u001b[0;34m\u001b[0m\u001b[0m\n\u001b[0;32m--> 355\u001b[0;31m         \u001b[0mret\u001b[0m \u001b[0;34m=\u001b[0m \u001b[0meng_inst\u001b[0m\u001b[0;34m.\u001b[0m\u001b[0mevaluate\u001b[0m\u001b[0;34m(\u001b[0m\u001b[0;34m)\u001b[0m\u001b[0;34m\u001b[0m\u001b[0;34m\u001b[0m\u001b[0m\n\u001b[0m\u001b[1;32m    356\u001b[0m \u001b[0;34m\u001b[0m\u001b[0m\n\u001b[1;32m    357\u001b[0m         \u001b[0;32mif\u001b[0m \u001b[0mparsed_expr\u001b[0m\u001b[0;34m.\u001b[0m\u001b[0massigner\u001b[0m \u001b[0;32mis\u001b[0m \u001b[0;32mNone\u001b[0m\u001b[0;34m:\u001b[0m\u001b[0;34m\u001b[0m\u001b[0;34m\u001b[0m\u001b[0m\n",
      "\u001b[0;32m~/opt/anaconda3/lib/python3.8/site-packages/pandas/core/computation/engines.py\u001b[0m in \u001b[0;36mevaluate\u001b[0;34m(self)\u001b[0m\n\u001b[1;32m     78\u001b[0m \u001b[0;34m\u001b[0m\u001b[0m\n\u001b[1;32m     79\u001b[0m         \u001b[0;31m# make sure no names in resolvers and locals/globals clash\u001b[0m\u001b[0;34m\u001b[0m\u001b[0;34m\u001b[0m\u001b[0;34m\u001b[0m\u001b[0m\n\u001b[0;32m---> 80\u001b[0;31m         \u001b[0mres\u001b[0m \u001b[0;34m=\u001b[0m \u001b[0mself\u001b[0m\u001b[0;34m.\u001b[0m\u001b[0m_evaluate\u001b[0m\u001b[0;34m(\u001b[0m\u001b[0;34m)\u001b[0m\u001b[0;34m\u001b[0m\u001b[0;34m\u001b[0m\u001b[0m\n\u001b[0m\u001b[1;32m     81\u001b[0m         return reconstruct_object(\n\u001b[1;32m     82\u001b[0m             \u001b[0mself\u001b[0m\u001b[0;34m.\u001b[0m\u001b[0mresult_type\u001b[0m\u001b[0;34m,\u001b[0m \u001b[0mres\u001b[0m\u001b[0;34m,\u001b[0m \u001b[0mself\u001b[0m\u001b[0;34m.\u001b[0m\u001b[0maligned_axes\u001b[0m\u001b[0;34m,\u001b[0m \u001b[0mself\u001b[0m\u001b[0;34m.\u001b[0m\u001b[0mexpr\u001b[0m\u001b[0;34m.\u001b[0m\u001b[0mterms\u001b[0m\u001b[0;34m.\u001b[0m\u001b[0mreturn_type\u001b[0m\u001b[0;34m\u001b[0m\u001b[0;34m\u001b[0m\u001b[0m\n",
      "\u001b[0;32m~/opt/anaconda3/lib/python3.8/site-packages/pandas/core/computation/engines.py\u001b[0m in \u001b[0;36m_evaluate\u001b[0;34m(self)\u001b[0m\n\u001b[1;32m    119\u001b[0m         \u001b[0mscope\u001b[0m \u001b[0;34m=\u001b[0m \u001b[0menv\u001b[0m\u001b[0;34m.\u001b[0m\u001b[0mfull_scope\u001b[0m\u001b[0;34m\u001b[0m\u001b[0;34m\u001b[0m\u001b[0m\n\u001b[1;32m    120\u001b[0m         \u001b[0m_check_ne_builtin_clash\u001b[0m\u001b[0;34m(\u001b[0m\u001b[0mself\u001b[0m\u001b[0;34m.\u001b[0m\u001b[0mexpr\u001b[0m\u001b[0;34m)\u001b[0m\u001b[0;34m\u001b[0m\u001b[0;34m\u001b[0m\u001b[0m\n\u001b[0;32m--> 121\u001b[0;31m         \u001b[0;32mreturn\u001b[0m \u001b[0mne\u001b[0m\u001b[0;34m.\u001b[0m\u001b[0mevaluate\u001b[0m\u001b[0;34m(\u001b[0m\u001b[0ms\u001b[0m\u001b[0;34m,\u001b[0m \u001b[0mlocal_dict\u001b[0m\u001b[0;34m=\u001b[0m\u001b[0mscope\u001b[0m\u001b[0;34m)\u001b[0m\u001b[0;34m\u001b[0m\u001b[0;34m\u001b[0m\u001b[0m\n\u001b[0m\u001b[1;32m    122\u001b[0m \u001b[0;34m\u001b[0m\u001b[0m\n\u001b[1;32m    123\u001b[0m \u001b[0;34m\u001b[0m\u001b[0m\n",
      "\u001b[0;32m~/opt/anaconda3/lib/python3.8/site-packages/numexpr/necompiler.py\u001b[0m in \u001b[0;36mevaluate\u001b[0;34m(ex, local_dict, global_dict, out, order, casting, **kwargs)\u001b[0m\n\u001b[1;32m    819\u001b[0m \u001b[0;34m\u001b[0m\u001b[0m\n\u001b[1;32m    820\u001b[0m     \u001b[0;31m# Create a signature\u001b[0m\u001b[0;34m\u001b[0m\u001b[0;34m\u001b[0m\u001b[0;34m\u001b[0m\u001b[0m\n\u001b[0;32m--> 821\u001b[0;31m     signature = [(name, getType(arg)) for (name, arg) in\n\u001b[0m\u001b[1;32m    822\u001b[0m                  zip(names, arguments)]\n\u001b[1;32m    823\u001b[0m \u001b[0;34m\u001b[0m\u001b[0m\n",
      "\u001b[0;32m~/opt/anaconda3/lib/python3.8/site-packages/numexpr/necompiler.py\u001b[0m in \u001b[0;36m<listcomp>\u001b[0;34m(.0)\u001b[0m\n\u001b[1;32m    819\u001b[0m \u001b[0;34m\u001b[0m\u001b[0m\n\u001b[1;32m    820\u001b[0m     \u001b[0;31m# Create a signature\u001b[0m\u001b[0;34m\u001b[0m\u001b[0;34m\u001b[0m\u001b[0;34m\u001b[0m\u001b[0m\n\u001b[0;32m--> 821\u001b[0;31m     signature = [(name, getType(arg)) for (name, arg) in\n\u001b[0m\u001b[1;32m    822\u001b[0m                  zip(names, arguments)]\n\u001b[1;32m    823\u001b[0m \u001b[0;34m\u001b[0m\u001b[0m\n",
      "\u001b[0;32m~/opt/anaconda3/lib/python3.8/site-packages/numexpr/necompiler.py\u001b[0m in \u001b[0;36mgetType\u001b[0;34m(a)\u001b[0m\n\u001b[1;32m    701\u001b[0m     \u001b[0;32mif\u001b[0m \u001b[0mkind\u001b[0m \u001b[0;34m==\u001b[0m \u001b[0;34m'S'\u001b[0m\u001b[0;34m:\u001b[0m\u001b[0;34m\u001b[0m\u001b[0;34m\u001b[0m\u001b[0m\n\u001b[1;32m    702\u001b[0m         \u001b[0;32mreturn\u001b[0m \u001b[0mbytes\u001b[0m\u001b[0;34m\u001b[0m\u001b[0;34m\u001b[0m\u001b[0m\n\u001b[0;32m--> 703\u001b[0;31m     \u001b[0;32mraise\u001b[0m \u001b[0mValueError\u001b[0m\u001b[0;34m(\u001b[0m\u001b[0;34m\"unknown type %s\"\u001b[0m \u001b[0;34m%\u001b[0m \u001b[0ma\u001b[0m\u001b[0;34m.\u001b[0m\u001b[0mdtype\u001b[0m\u001b[0;34m.\u001b[0m\u001b[0mname\u001b[0m\u001b[0;34m)\u001b[0m\u001b[0;34m\u001b[0m\u001b[0;34m\u001b[0m\u001b[0m\n\u001b[0m\u001b[1;32m    704\u001b[0m \u001b[0;34m\u001b[0m\u001b[0m\n\u001b[1;32m    705\u001b[0m \u001b[0;34m\u001b[0m\u001b[0m\n",
      "\u001b[0;31mValueError\u001b[0m: unknown type timedelta64[ns]"
     ]
    }
   ],
   "source": [
    "data['event_dt'] = pd.to_datetime(data['event_dt'])\n",
    "data['days'] = data['event_dt']-data['first_date']\n",
    "data=data.query('days<=\"14 days\" or days==\"NaT\"')\n",
    "del data['days']\n",
    "\n"
   ]
  },
  {
   "cell_type": "markdown",
   "metadata": {},
   "source": []
  },
  {
   "cell_type": "markdown",
   "metadata": {},
   "source": []
  },
  {
   "cell_type": "markdown",
   "metadata": {},
   "source": [
    "<b>Добавление данных из таблицы с маркетинговыми событиями:</b>"
   ]
  },
  {
   "cell_type": "code",
   "execution_count": null,
   "metadata": {},
   "outputs": [],
   "source": [
    "data['first_date_month']=data['first_date'].astype('datetime64[M]')\n",
    "marketing_events['start_dt_month']=marketing_events['start_dt'].astype('datetime64[M]')\n",
    "marketing_events\n"
   ]
  },
  {
   "cell_type": "code",
   "execution_count": null,
   "metadata": {},
   "outputs": [],
   "source": [
    "# посмотрим на маркетинговые события в период АБ теста\n",
    "marketing_events = marketing_events.query('start_dt >= \"2020-12-07\" and finish_dt <= \"2021-01-04\"')\n",
    "print('События маркетинговых активностей в период теста')\n",
    "marketing_events"
   ]
  },
  {
   "cell_type": "code",
   "execution_count": null,
   "metadata": {},
   "outputs": [],
   "source": [
    "data = data.merge(marketing_events, left_on='first_date_month', right_on='start_dt_month')"
   ]
  },
  {
   "cell_type": "code",
   "execution_count": null,
   "metadata": {},
   "outputs": [],
   "source": [
    "display(data.head())"
   ]
  },
  {
   "cell_type": "markdown",
   "metadata": {},
   "source": [
    "<b>Вывод по общему датафрейму:</b>\n",
    "- Со временем проведения теста совпадают две маркетинговые кампании проводящиеся на разные регионы, на\n",
    "СНГ и Европу и Северную Америку. \n",
    "- Камапания направленная на EU началась 25 декабря и закончилась 03 января. \n",
    "- Конечный период совпадает с окончанием теста, но не совпадает с началом. \n",
    "- Данная акция даже поназванию, скорее направлена на поддержание спроса в период с рождества в Европе с 25 декабря до нового\n",
    "года, из-за иссякающего у европейцев спроса после рождественских покупок.\n"
   ]
  },
  {
   "cell_type": "markdown",
   "metadata": {},
   "source": [
    "#### Ожидаемое количество участников теста: 6000"
   ]
  },
  {
   "cell_type": "markdown",
   "metadata": {},
   "source": [
    "<b>Доля пользователей попавших в группы А и В:</b>"
   ]
  },
  {
   "cell_type": "code",
   "execution_count": null,
   "metadata": {},
   "outputs": [],
   "source": [
    "# групировка для пользователей попавших в обе группы\n",
    "participants_group= participants.groupby(['user_id']).agg({'group': 'nunique'}).reset_index().sort_values('group', ascending=False)\n",
    "\n",
    "# общее количество пользователей попавших в тесты:\n",
    "print('Oбщее количество пользователей попавших в тесты')\n",
    "participants_users = participants_group['user_id'].count()\n",
    "print(participants_users)\n",
    "print()"
   ]
  },
  {
   "cell_type": "markdown",
   "metadata": {},
   "source": [
    "Это соответствует техническому заданию"
   ]
  },
  {
   "cell_type": "code",
   "execution_count": null,
   "metadata": {},
   "outputs": [],
   "source": [
    "# количество пользователей попавших в две группы:\n",
    "participants_a_b = participants_group[participants_group['group'] > 1]['user_id'].count()\n",
    "print('Oбщее количество пользователей попавших в обе группы')\n",
    "print(participants_a_b)\n",
    "print()"
   ]
  },
  {
   "cell_type": "code",
   "execution_count": null,
   "metadata": {},
   "outputs": [],
   "source": [
    "participants_a_b_2 = participants.groupby('group')['user_id'].nunique().sum()-participants['user_id'].nunique()"
   ]
  },
  {
   "cell_type": "code",
   "execution_count": null,
   "metadata": {},
   "outputs": [],
   "source": [
    "print('Oбщее количество пользователей попавших в обе группы')\n",
    "print(participants_a_b_2)"
   ]
  },
  {
   "cell_type": "code",
   "execution_count": null,
   "metadata": {},
   "outputs": [],
   "source": [
    "# доля пользователей попавших в обе группы\n",
    "print('Доля пользователей попавших в обе группы')\n",
    "participants_ratio = round(participants_a_b_2/participants_users*100, 2)\n",
    "print(participants_ratio, '%')\n",
    "print()"
   ]
  },
  {
   "cell_type": "markdown",
   "metadata": {},
   "source": [
    "- Доля пользователей попавших в обе группы относительно относительно всех пользователей крайне мала и так\n",
    "как группы при этом находятся в разных тестах, данное разделение не отразится на результатах теста."
   ]
  },
  {
   "cell_type": "markdown",
   "metadata": {},
   "source": [
    "#### Аудитория: \n",
    "- 15% новых пользователей из региона EU;\n",
    "- назначение теста: тестирование изменений, связанных с внедрением улучшенной рекомендательной системы;\n",
    "- ожидаемое количество участников теста: 6000."
   ]
  },
  {
   "cell_type": "code",
   "execution_count": null,
   "metadata": {},
   "outputs": [],
   "source": [
    "data.head()"
   ]
  },
  {
   "cell_type": "code",
   "execution_count": null,
   "metadata": {},
   "outputs": [],
   "source": [
    "new_users.head()"
   ]
  },
  {
   "cell_type": "code",
   "execution_count": null,
   "metadata": {},
   "outputs": [],
   "source": [
    "print('Аудитория пользователей из региоа EU и тестирование изменений, связанных с внедрением улучшенной рекомендательной системы;')\n",
    "sample = data.query('ab_test==\"recommender_system_test\" and region== \"EU\" and  start_dt >= \"2020-12-07\" and finish_dt <= \"2021-01-04\"')['user_id'].nunique()\n",
    "population = new_users.query('region== \"EU\" and first_date > \"2020-12-07\"')['user_id'].nunique()\n",
    "print(round(sample/population, 2))\n",
    "\n"
   ]
  },
  {
   "cell_type": "markdown",
   "metadata": {},
   "source": [
    "Это соответствует нашему техническому заданию\n"
   ]
  },
  {
   "cell_type": "code",
   "execution_count": null,
   "metadata": {},
   "outputs": [],
   "source": [
    "users_eu = data[data['region']=='EU']['user_id'].nunique()\n",
    "print('Количество пользователей из EU')\n",
    "print(population)\n",
    "print()\n",
    "print('Количество пользователей из EU попавших в тест')\n",
    "print(sample)\n",
    "print()\n",
    "# доля пользователей попавших в тест\n",
    "print('Доля пользователей EU попавших в тест')\n",
    "print(round(sample/population, 3), '%')\n",
    "print()\n",
    "# доля пользователей попавших в тест\n",
    "print('Количество пользователей EU ожидаемых в тесте:')\n",
    "users_eu_wait = population*0.15\n",
    "print(users_eu_wait)\n",
    "print()"
   ]
  },
  {
   "cell_type": "markdown",
   "metadata": {},
   "source": [
    "Количество пользователей больше чем 6000. Это соответствует ТЗ "
   ]
  },
  {
   "cell_type": "markdown",
   "metadata": {},
   "source": []
  },
  {
   "cell_type": "code",
   "execution_count": null,
   "metadata": {},
   "outputs": [],
   "source": [
    "#Проверка на дату завершения набора новых пользователей нашего теста\n",
    "# В тесте не должны участвовать пользователи с датой регистрации после 2020-12-21 \n",
    "data = data.query('first_date<=\"2020-12-21\"')"
   ]
  },
  {
   "cell_type": "markdown",
   "metadata": {},
   "source": [
    "#### Общий вывод по проверке технического задания "
   ]
  },
  {
   "cell_type": "markdown",
   "metadata": {},
   "source": [
    "\n",
    "В данных было обнаружено два теста \n",
    "interface_eu_test и recommender_system_test - нас интересует рекомендательная система\n",
    "\n",
    "Количество пересечений между разными тестами recommender_system_test и interface_eu_test: 1602\n",
    "\n",
    "Были отфильтрованы события с лайфтаймом больше, чем горизонт событий 14 дней \n",
    "Со временем проведения теста совпадают две маркетинговые кампании проводились на разные регионы, на СНГ и Европу и Северную Америку.\n",
    "Кампания направленная на EU началась 25 декабря и закончилась 03 января.\n",
    "Конечный период совпадает с окончанием теста, но не совпадает с началом.\n",
    "Данная акция даже по названию, скорее направлена на поддержание спроса в период с рождества в Европе с 25 декабря до нового года, из-за неиссякающего у европейцев спроса после рождественских покупок.\n",
    "\n",
    "Общее количество пользователей попавших в тесты 16666\n",
    "Общее количество пользователей попавших в обе группы 776,  4.66 % от общей группы \n",
    "\n",
    "Доля пользователей EU попавших в тест  15 %\n",
    "\n",
    "Количество пользователей EU ожидаемых в тесте: 6309.75 – это соответствует ТЗ (6000 пользователей)\n",
    "\n",
    "\n",
    "В тесте были отфильтрованы пользователи которые зарегистрировались  после 2020-12-21 "
   ]
  },
  {
   "cell_type": "markdown",
   "metadata": {},
   "source": []
  },
  {
   "cell_type": "markdown",
   "metadata": {},
   "source": [
    "### Исследовательский анализ данных"
   ]
  },
  {
   "cell_type": "code",
   "execution_count": null,
   "metadata": {},
   "outputs": [],
   "source": [
    "data = data[data['ab_test']=='recommender_system_test']"
   ]
  },
  {
   "cell_type": "code",
   "execution_count": null,
   "metadata": {},
   "outputs": [],
   "source": [
    "data.groupby('user_id').agg({'group':'nunique'}).reset_index().sort_values('group', ascending=False)\n",
    "print('Количество пользователей в группах:')\n",
    "data.groupby('group')['user_id'].nunique()\n"
   ]
  },
  {
   "cell_type": "code",
   "execution_count": null,
   "metadata": {},
   "outputs": [],
   "source": [
    "print('Сводная таблица с количеством событий в логе:')\n",
    "event_count = data.groupby('event_name').agg({'user_id':'count'}).sort_values(by='user_id',  ascending=False)\n",
    "display(event_count)"
   ]
  },
  {
   "cell_type": "code",
   "execution_count": null,
   "metadata": {},
   "outputs": [],
   "source": [
    "# Исследуем воронки на разных этапах  Посмотрим количество каждого события\n",
    "ev_group = data.groupby(['group','event_name']).agg(\n",
    "    {'user_id':'count'}).reset_index()\n",
    "ev_group"
   ]
  },
  {
   "cell_type": "code",
   "execution_count": null,
   "metadata": {},
   "outputs": [],
   "source": [
    "labels_ev = {'event_name':'Название событий', 'group':'Группа', 'user_id':'Количетсво событий'}\n",
    "px.bar(ev_group, x = 'group',\n",
    "         y = 'user_id', text = 'user_id',color = 'event_name', labels = labels_ev,\n",
    "        title = 'Количетсво события по частоте в каждой группе', barmode = 'group')"
   ]
  },
  {
   "cell_type": "code",
   "execution_count": null,
   "metadata": {},
   "outputs": [],
   "source": [
    "print(\"Всего событий А = {}\".format(ev_group[ev_group['group']=='A']['user_id'].sum()))\n",
    "print(\"Всего событий B = {}\".format(ev_group[ev_group['group']=='B']['user_id'].sum()))\n",
    "# Посмотрим скоолько пользователей совершили каждое из событий\n",
    "us_group = data.groupby(['group','event_name']).agg({'user_id':'nunique'}).sort_values(\n",
    "    by = 'user_id', ascending = False).reset_index()\n"
   ]
  },
  {
   "cell_type": "code",
   "execution_count": null,
   "metadata": {},
   "outputs": [],
   "source": [
    "px.bar(\n",
    "    us_group, x = 'group', y = 'user_id', text = 'user_id',color = 'event_name', barmode = 'group',\n",
    "    labels = labels_ev,title = 'Количество пользователей, совершивших каждое событие, по группам')\n",
    "\n"
   ]
  },
  {
   "cell_type": "code",
   "execution_count": null,
   "metadata": {},
   "outputs": [],
   "source": [
    "print(\"Всего пользователей A  = {}\".format(us_group[us_group['group'] == 'A']['user_id'].sum()))\n",
    "print(\"Всего пользователей B = {}\".format(us_group[us_group['group'] == 'B']['user_id'].sum()))"
   ]
  },
  {
   "cell_type": "code",
   "execution_count": null,
   "metadata": {},
   "outputs": [],
   "source": [
    "fun_a = data.query('group == \"A\"')\\\n",
    "                .groupby('event_name')['user_id'].nunique().reset_index().sort_values('user_id', ascending = False).reindex(index=[0, 2, 1, 3])\n",
    "fun_b = data.query('group == \"B\"')\\\n",
    "                .groupby('event_name')['user_id'].nunique().reset_index().sort_values('user_id', ascending = False).reindex(index=[0, 2, 1, 3])"
   ]
  },
  {
   "cell_type": "code",
   "execution_count": null,
   "metadata": {},
   "outputs": [],
   "source": [
    "fig = go.Figure()\n",
    "\n",
    "\n",
    "fig.add_trace(go.Funnel(\n",
    "    name = 'A',\n",
    "    y = fun_a['event_name'],\n",
    "    x = fun_a['user_id'],\n",
    "    textinfo = \"value+percent previous\"))\n",
    "\n",
    "fig.add_trace(go.Funnel(\n",
    "    name = 'B',\n",
    "    y = fun_b['event_name'],\n",
    "    x = fun_b['user_id'],\n",
    "    textinfo = \"value+percent previous\"))\n",
    "\n",
    "fig.update_layout(\n",
    "    title = {\n",
    "        'text' : 'Конверсия событий пользователей по группам А и В)',\n",
    "        'x':0.5\n",
    "    }\n",
    ")\n",
    "\n",
    "fig.show()"
   ]
  },
  {
   "cell_type": "markdown",
   "metadata": {},
   "source": [
    "Вывод <br>\n",
    "Группа А\n",
    "- В группе А  18801 событий, 6223 пользователей\n",
    "- В воронке: Переход с логина на просмотр карточки товара 65%\n",
    "Переход с карточки товара в корзину 46%\n",
    "Переход из корзины в покупку в корзину 106% (пользователей больше 100%, это может быть связано с переходом к покупке сразу с карточки товара)\n",
    "\n",
    "Группа B\n",
    "- В группе B  5055 событий, 1961 пользователей\n",
    "- В воронке: Переход с логина на просмотр карточки товара 56%\n",
    "Переход с карточки товара в корзину 49%\n",
    "Переход из корзины в покупку в корзину 100% \n",
    "\n",
    "\n"
   ]
  },
  {
   "cell_type": "markdown",
   "metadata": {},
   "source": []
  },
  {
   "cell_type": "code",
   "execution_count": null,
   "metadata": {},
   "outputs": [],
   "source": [
    "# Посмторим среднее количество событий на одного пользователя по дням\n",
    "data['day'] = data['event_dt'].dt.day\n",
    "\n",
    "mean_user_group = data.groupby(['group','user_id', 'day']).agg({'event_name':'count'}).reset_index()\n",
    "print('В среднем на одного пользователя группа А приходится {:.2f} событий в день'.format(\n",
    "    mean_user_group[mean_user_group['group'] == 'A']['event_name'].mean()))\n",
    "print('В среднем на одного пользователя группы В приходится {:.2f} событий в день'.format(\n",
    "    mean_user_group[mean_user_group['group'] == 'B']['event_name'].mean()))\n",
    "labels_mug = {'event_name':'Количество событий на пользователя',\n",
    "              'count':'Количетсво пользователей', 'group':'Группа'}\n",
    "px.histogram(mean_user_group, x = 'group', color = 'event_name',\n",
    "               labels = labels_mug, barmode = 'group',\n",
    "               title = 'Распределение количества событий по группам, по количеству пользователей')\n"
   ]
  },
  {
   "cell_type": "code",
   "execution_count": null,
   "metadata": {},
   "outputs": [],
   "source": [
    "# посмотрим на маркетинговые события в период АБ теста\n",
    "marketing_events = marketing_events.query('start_dt >= \"2020-12-07\" and finish_dt <= \"2021-01-04\"')\n",
    "print('События маркетинговых активностей в период теста')\n",
    "marketing_events\n"
   ]
  },
  {
   "cell_type": "code",
   "execution_count": null,
   "metadata": {},
   "outputs": [],
   "source": [
    "# Посмотрим на распределение событий по дням.\n",
    "count_day_ev = data.groupby(['group','day']).agg({'event_name':'count'}).reset_index()\n",
    "labels_cde = {'event_name':'Количество событий', 'day':'День месяца'}\n",
    "px.histogram(count_day_ev, x = 'day', y = 'event_name',\n",
    "               range_x = [5, 31],nbins = 20 ,color = 'group',\n",
    "               labels = labels_cde, barmode = 'overlay',color_discrete_sequence=['green','red'],\n",
    "              title = \"Распределние количества событий по дням\")\n"
   ]
  },
  {
   "cell_type": "markdown",
   "metadata": {},
   "source": [
    "<div class=\"alert alert-block alert-warning\">📝\n",
    "    \n",
    "\n",
    "__Комментарий от тимлида №3__\n",
    "\n",
    "\n",
    "Как думаешь, с чем может быть связан пик событий в группе А 21 числа?\n",
    "</div>"
   ]
  },
  {
   "cell_type": "markdown",
   "metadata": {},
   "source": [
    "<div class=\"alert alert-info\"> <b>Думаю, что это последние выходные перед европейским рождеством, все бегут покупать подарки </div>"
   ]
  },
  {
   "cell_type": "markdown",
   "metadata": {},
   "source": []
  },
  {
   "cell_type": "code",
   "execution_count": null,
   "metadata": {},
   "outputs": [],
   "source": [
    "count_day_ev = data.groupby(['group','day']).agg({'event_name':'count'}).reset_index()\n",
    "\n",
    "\n",
    "\n",
    "plt.figure(figsize = (23, 4))\n",
    "plt.grid(True)\n",
    "plt.title('Распределние количества событий по дням', size=14)\n",
    "\n",
    "sns.barplot(data = count_day_ev, x = 'day', y = 'event_name', hue = 'group')\n",
    "plt.ylabel('Количество событий')\n",
    "plt.xlabel('День')\n",
    "plt.xticks(rotation = 45)\n",
    "plt.show()\n"
   ]
  },
  {
   "cell_type": "markdown",
   "metadata": {},
   "source": []
  },
  {
   "cell_type": "code",
   "execution_count": null,
   "metadata": {},
   "outputs": [],
   "source": [
    "# посмотрим на маркетинговые события в период АБ теста\n",
    "marketing_events = marketing_events.query('start_dt >= \"2020-12-07\" and finish_dt <= \"2021-01-04\"')\n",
    "print('События маркетинговых активностей в период теста')\n",
    "marketing_events"
   ]
  },
  {
   "cell_type": "markdown",
   "metadata": {},
   "source": [
    "Вывод<br>\n",
    "\n",
    "Группа A: \n",
    "- Среднее количество 2.25 событий в день. \n",
    "- Наимельшее колличество событий 2 затем 3 затем 1 затем 4 затем 6 затем 8 \n",
    "\n",
    "- На графике распрделения событий по дням видно как c 14 по 23 декабря наблюдается пик количества событий, а после 23го пошел спад, с учетом того что была маркетингоая активность с 25 декабря по 03 января Christmas&New Year Promo.\n",
    "- Рост событий может быть вызван сезонностью перед новогодними праздниками\n",
    "\n",
    "\n",
    "Группа B: \n",
    "- Среднее количество 2.05 событий в день. \n",
    "- Наимельшее колличество событий 2 затем 1 затем 3 затем 4\n",
    "\n",
    "- На графике распрделения событий по дням видно что нет вырадденно активности как c 14 по 20 декабря наблюдается пик количества событий, а после 23 го пошел спад, с учетом того что была маркетингоая активность с 25 декабря по 03 января Christmas&New Year Promo.\n",
    "- Рост событий может быть вызван сезонностью перед новогодними праздниками\n",
    "\n",
    "\n"
   ]
  },
  {
   "cell_type": "code",
   "execution_count": null,
   "metadata": {},
   "outputs": [],
   "source": []
  },
  {
   "cell_type": "markdown",
   "metadata": {},
   "source": []
  },
  {
   "cell_type": "code",
   "execution_count": null,
   "metadata": {},
   "outputs": [],
   "source": [
    "# выделим в датафреймы каждый из тестов\n",
    "test1 = participants.query('ab_test == \"recommender_system_test\"')\n",
    "test2 = participants.query('ab_test == \"interface_eu_test\"')\n",
    "\n",
    "ff = test1.merge(test2, on='user_id', how='inner')\n",
    "\n",
    "unique_users = ff['user_id'].unique().tolist()\n",
    "len(unique_users)\n"
   ]
  },
  {
   "cell_type": "code",
   "execution_count": null,
   "metadata": {},
   "outputs": [],
   "source": [
    "# теперь проверим есть ли пользователи группы А в группе В и наоборот.\n",
    "matching = lambda a,b: '{} совпадений'.format(len(set(a) & set(b))) if len(set(a) & set(b)) else 'Совпадений нет'\n",
    "\n",
    "rst_group = participants[participants['ab_test'] == 'recommender_system_test']\n",
    "A = rst_group[rst_group['group'] == 'A']['user_id']\n",
    "B = rst_group[rst_group['group'] == 'B']['user_id']\n",
    "print(matching(A,B))\n"
   ]
  },
  {
   "cell_type": "code",
   "execution_count": null,
   "metadata": {},
   "outputs": [],
   "source": [
    "# посмотрим количество пользователей в каждой группе эксперимента\n",
    "groupby_exp = rst_group.groupby('group').agg({'user_id':'nunique'}).reset_index()\n",
    "\n",
    "groupby_exp['part_of_total'] = groupby_exp[\"user_id\"] / groupby_exp[\"user_id\"].sum()\n",
    "print(\"Количество пользователей каждой из групп\")\n",
    "groupby_exp"
   ]
  },
  {
   "cell_type": "markdown",
   "metadata": {},
   "source": [
    "В сумме  6701 пользователей – это соответствует ТЗ<br>\n",
    "Количество пользователей группы А 57%  – это может негативно сказаться на тестировании, так как группа должна не привышать хотябы 51%"
   ]
  },
  {
   "cell_type": "markdown",
   "metadata": {},
   "source": [
    "<b>Вывод по иследовательскому анализу</b> \n",
    "\n",
    "<b>Воронка</b> \n",
    "\n",
    "Вывод <br>\n",
    "Группа А\n",
    "- В группе А  18801 событий, 6223 пользователей\n",
    "- В воронке: Переход с логина на просмотр карточки товара 65%\n",
    "Переход с карточки товара в корзину 46%\n",
    "Переход из корзины в покупку в корзину 106% (пользователей больше 100%, это может быть связано с переходом к покупке сразу с карточки товара)\n",
    "\n",
    "Группа B\n",
    "- В группе B  5055 событий, 1961 пользователей\n",
    "- В воронке: Переход с логина на просмотр карточки товара 56%\n",
    "Переход с карточки товара в корзину 49%\n",
    "Переход из корзины в покупку в корзину 100% \n",
    "\n",
    "\n",
    "\n",
    "\n",
    "\n",
    "<b>Распределение количества событий по дням</b> \n",
    "\n",
    "Вывод<br>\n",
    "\n",
    "Группа A: \n",
    "- Среднее количество 2.25 событий в день. \n",
    "- Наимельшее колличество событий 2 затем 3 затем 1 затем 4 затем 6 затем 8 \n",
    "\n",
    "- На графике распрделения событий по дням видно как c 14 по 23 декабря наблюдается пик количества событий, а после 23го пошел спад, с учетом того что была маркетингоая активность с 25 декабря по 03 января Christmas&New Year Promo.\n",
    "- Рост событий может быть вызван сезонностью перед новогодними праздниками\n",
    "\n",
    "\n",
    "Группа B: \n",
    "- Среднее количество 2.05 событий в день. \n",
    "- Наимельшее колличество событий 2 затем 1 затем 3 затем 4\n",
    "\n",
    "- На графике распрделения событий по дням видно что нет вырадденно активности как c 14 по 20 декабря наблюдается пик количества событий, а после 23 го пошел спад, с учетом того что была маркетингоая активность с 25 декабря по 03 января Christmas&New Year Promo.\n",
    "- Рост событий может быть вызван сезонностью перед новогодними праздниками\n",
    "\n"
   ]
  },
  {
   "cell_type": "markdown",
   "metadata": {},
   "source": [
    "### А/В тестирование"
   ]
  },
  {
   "cell_type": "markdown",
   "metadata": {},
   "source": [
    "<b>Статистическая разница долей z-критерием</b>"
   ]
  },
  {
   "cell_type": "code",
   "execution_count": null,
   "metadata": {},
   "outputs": [],
   "source": [
    "print('Всего уникальных пользователей - {:.0f}' .format(data['user_id'].nunique()))"
   ]
  },
  {
   "cell_type": "code",
   "execution_count": null,
   "metadata": {},
   "outputs": [],
   "source": [
    "events_by_groups = data\\\n",
    "                    .pivot_table(index = 'event_name', columns = 'group', values = 'user_id', aggfunc = 'nunique')\\\n",
    "                    .sort_values('A', ascending = False)"
   ]
  },
  {
   "cell_type": "code",
   "execution_count": null,
   "metadata": {},
   "outputs": [],
   "source": [
    "events_by_groups"
   ]
  },
  {
   "cell_type": "markdown",
   "metadata": {},
   "source": [
    "При проверке гипотез о равенстве среднего будем применять метод Z-тест (z-критерий Фишера), т.к. будем проводить сравнения двух независимых выборок большого размера. Критический уровень статистической значимости примем равным 5%. Создадим функцию с применением поправки Бонферрони:"
   ]
  },
  {
   "cell_type": "code",
   "execution_count": null,
   "metadata": {},
   "outputs": [],
   "source": [
    "def z_test(group_1, group_2, eventname, alpha): \n",
    "    purchases1 = events_by_groups.loc[eventname, group_1]\n",
    "    purchases2 = events_by_groups.loc[eventname, group_2]\n",
    "    n1 = events_by_groups.iloc[0, 0]\n",
    "    n2 = events_by_groups.iloc[0, 1]\n",
    "    p1 = purchases1 / n1    \n",
    "    p2 = purchases2 / n2   \n",
    "    \n",
    "    print(purchases1, purchases2, n1, n2)\n",
    "    difference = p1 - p2    \n",
    "    p_combined = (purchases1 + purchases2) / (n1 + n2)    \n",
    "    z_value = difference / mth.sqrt(p_combined * (1 - p_combined) * (1 / n1 + 1 / n2))                \n",
    "    distr = st.norm(0, 1)    \n",
    "    p_value = (1 - distr.cdf(abs(z_value))) * 2\n",
    "\n",
    "    bonferroni_alpha = alpha / 4\n",
    "    \n",
    "    print('Проверка события:', eventname)\n",
    "    print('p-value: ',p_value)\n",
    "   \n",
    "    if (p_value < bonferroni_alpha):\n",
    "        print(\"Отвергаем нулевую гипотезу: между конверсией групп есть значимая разница\")\n",
    "    else:\n",
    "        print(\"Не получилось отвергнуть нулевую гипотезу, нет оснований считать конверсию групп разной\") \n",
    "    print('')\n",
    "     "
   ]
  },
  {
   "cell_type": "markdown",
   "metadata": {},
   "source": [
    "<b>Формулировка гипотез</b>\n",
    "\n",
    "H0: Между группами А и В нет различий конверсии по событиям\n",
    "\n",
    "H1: Между группами А и В есть различия конверсии по событиям"
   ]
  },
  {
   "cell_type": "code",
   "execution_count": null,
   "metadata": {},
   "outputs": [],
   "source": [
    "for eventname in events_by_groups.index:\n",
    "    z_test('A', 'B', eventname, 0.05)"
   ]
  },
  {
   "cell_type": "markdown",
   "metadata": {},
   "source": [
    "Для события login, проверка статистической разницы долей z-критерием невозможна, так как это действие совершили все пользователи группы А и группы В, а это число соответствует максимальному размеру выборки групп."
   ]
  },
  {
   "cell_type": "markdown",
   "metadata": {},
   "source": [
    "### Общие вывод исследования"
   ]
  },
  {
   "cell_type": "markdown",
   "metadata": {},
   "source": [
    "<b>Цель работы:</b>\n",
    "\n",
    "Было нужно  провести оценку A\\B-тестирования новой рекомендательной системы товаров для пользователей. Оценить изменились ли продажи после внедрения изменений или нет.\n",
    "\n",
    "Ожидаемый эффект: за 14 дней с момента регистрации пользователи покажут улучшение каждой метрики не менее, чем на 10%:\n",
    "\n",
    "конверсии в просмотр карточек товаров — событие product_page,\n",
    "просмотры корзины — product_cart,\n",
    "покупки — purchase.\n",
    "\n",
    "<b>Вывод по иследовательскому анализу</b> \n",
    "\n",
    "<b>Воронка</b> \n",
    "\n",
    "Группа А\n",
    "- В группе А  18246 событий, 60874 пользователей\n",
    "- В воронке: Переход с логина на просмотр карточки товара 66%\n",
    "Переход с карточки товара в корзину 48%\n",
    "Переход из корзины в покупку в корзину 108% (пользователей больше 100%, это может быть связано с переходом к покупке сразу с карточки товара)\n",
    "\n",
    "Группа B\n",
    "- В группе B  45751 событий, 14236 пользователей\n",
    "- В воронке: Переход с логина на просмотр карточки товара 64%\n",
    "Переход с карточки товара в корзину 51%\n",
    "Переход из корзины в покупку в корзину 99% \n",
    "\n",
    "<b>Распределение количества событий по дням</b> \n",
    "\n",
    "Группа A: \n",
    "- Среднее количество 2.41 событий в день. \n",
    "- Наимельшее колличество событий 2 затем 3 затем 1 затем 4 затем 6 затем 8 \n",
    "\n",
    "- На графике распрделения событий по дням видно как c 14 по 23 декабря наблюдается пик количества событий, а после 23го пошел спад, с учетом того что была маркетингоая активность с 25 декабря по 03 января Christmas&New Year Promo.\n",
    "- Рост событий может быть вызван сезонностью перед новогодними праздниками\n",
    "\n",
    "\n",
    "Группа B: \n",
    "- Среднее количество 2.32 событий в день. \n",
    "- Наимельшее колличество событий 2 затем 3 затем 1 затем 4 затем 6 затем 8\n",
    "\n",
    "- На графике распрделения событий по дням видно что нет вырадденно активности как c 14 по 20 декабря наблюдается пик количества событий, а после 23 го пошел спад, с учетом того что была маркетингоая активность с 25 декабря по 03 января Christmas&New Year Promo.\n",
    "- Рост событий может быть вызван сезонностью перед новогодними праздниками\n",
    "\n",
    "\n",
    "<b>Целевая аудитория </b>\n",
    "\n",
    "В тестах есть 887 пересечений между грапами А и B<br>\n",
    "\n",
    "Для эксперимента есть 6701 пользователей – это соответствует тз (6000) <br>\n",
    "Количество пользователей группы А 57%  – это может негативно сказаться на тестировании, так как группа должна не привышать хотябы 51%\n",
    "\n",
    "\n",
    "Одновременно с тестом recommender_system_test проходил тест interface_eu_test;<br>\n",
    "887 пользователя теста recommender_system_test также попали в тест interface_eu_test;<br>\n",
    "\n",
    "время период проведения теста совпало с двумя маркетинговыми событиями, что могло повлиять на активность пользователей;<br>\n",
    "неравномерное распределение по группам А и В;<br>\n",
    "\n",
    "нарушена логическая последовательность событий: часть пользователей оплатили покупку минуя просмотр корзины товаров.<br>\n",
    "\n",
    "Рекомендации: учесть выявленные недочеты и доработать механизм и методику проведения теста.<br>\n",
    "\n",
    "\n",
    "\n",
    "<b> По проведенному А/B тесту. Статистическая разница долей z-критерием</b>\n",
    "\n",
    "Проверка события: login<br>\n",
    "p-value:  nan<br>\n",
    "Не получилось отвергнуть нулевую гипотезу, нет оснований считать конверсию групп разной<br>\n",
    "\n",
    "Проверка события: product_page<br>\n",
    "p-value:  5.084<br>\n",
    "Отвергаем нулевую гипотезу: между конверсией групп есть значимая разница<br>\n",
    "\n",
    "Проверка события: purchase<br>\n",
    "p-value:  0.018<br>\n",
    "Не получилось отвергнуть нулевую гипотезу, нет оснований считать конверсию групп разной<br>\n",
    "\n",
    "Проверка события: product_cart<br>\n",
    "p-value:  0.150<br>\n",
    "Не получилось отвергнуть нулевую гипотезу, нет оснований считать конверсию групп разной<br>\n",
    "\n",
    "\n",
    "\n",
    "Для события login, проверка статистической разницы долей z-критерием невозможна, так как это действие совершили все пользователи группы А и группы В, а это число соответствует максимальному размеру выборки групп.<br>\n",
    "\n",
    "\n",
    "\n"
   ]
  },
  {
   "cell_type": "markdown",
   "metadata": {},
   "source": []
  },
  {
   "cell_type": "markdown",
   "metadata": {},
   "source": []
  },
  {
   "cell_type": "code",
   "execution_count": null,
   "metadata": {},
   "outputs": [],
   "source": []
  },
  {
   "cell_type": "code",
   "execution_count": null,
   "metadata": {},
   "outputs": [],
   "source": []
  },
  {
   "cell_type": "code",
   "execution_count": null,
   "metadata": {},
   "outputs": [],
   "source": []
  }
 ],
 "metadata": {
  "ExecuteTimeLog": [
   {
    "duration": 1404,
    "start_time": "2023-01-28T17:05:35.319Z"
   },
   {
    "duration": 1109,
    "start_time": "2023-01-28T17:05:36.725Z"
   },
   {
    "duration": 13,
    "start_time": "2023-01-28T17:05:37.836Z"
   },
   {
    "duration": 11,
    "start_time": "2023-01-28T17:05:37.852Z"
   },
   {
    "duration": 13,
    "start_time": "2023-01-28T17:05:37.865Z"
   },
   {
    "duration": 9,
    "start_time": "2023-01-28T17:05:37.879Z"
   },
   {
    "duration": 15,
    "start_time": "2023-01-28T17:05:37.890Z"
   },
   {
    "duration": 9,
    "start_time": "2023-01-28T17:05:37.906Z"
   },
   {
    "duration": 45,
    "start_time": "2023-01-28T17:05:37.917Z"
   },
   {
    "duration": 77,
    "start_time": "2023-01-28T17:05:37.964Z"
   },
   {
    "duration": 276,
    "start_time": "2023-01-28T17:05:38.042Z"
   },
   {
    "duration": 53,
    "start_time": "2023-01-28T17:05:38.319Z"
   },
   {
    "duration": 51,
    "start_time": "2023-01-28T17:05:38.374Z"
   },
   {
    "duration": 114,
    "start_time": "2023-01-28T17:05:38.427Z"
   },
   {
    "duration": 16,
    "start_time": "2023-01-28T17:05:38.543Z"
   },
   {
    "duration": 45,
    "start_time": "2023-01-28T17:05:38.560Z"
   },
   {
    "duration": 25,
    "start_time": "2023-01-28T17:05:38.607Z"
   },
   {
    "duration": 7,
    "start_time": "2023-01-28T17:05:38.633Z"
   },
   {
    "duration": 17,
    "start_time": "2023-01-28T17:05:38.641Z"
   },
   {
    "duration": 47,
    "start_time": "2023-01-28T17:05:38.660Z"
   },
   {
    "duration": 20,
    "start_time": "2023-01-28T17:05:38.708Z"
   },
   {
    "duration": 17,
    "start_time": "2023-01-28T17:05:38.729Z"
   },
   {
    "duration": 866,
    "start_time": "2023-01-28T17:05:38.747Z"
   },
   {
    "duration": 11,
    "start_time": "2023-01-28T17:05:39.615Z"
   },
   {
    "duration": 80,
    "start_time": "2023-01-28T17:05:39.627Z"
   },
   {
    "duration": 199,
    "start_time": "2023-01-28T17:05:39.708Z"
   },
   {
    "duration": 103,
    "start_time": "2023-01-28T17:05:39.909Z"
   },
   {
    "duration": 50,
    "start_time": "2023-01-28T17:05:40.016Z"
   },
   {
    "duration": 33,
    "start_time": "2023-01-28T17:05:40.068Z"
   },
   {
    "duration": 152,
    "start_time": "2023-01-28T17:05:40.103Z"
   },
   {
    "duration": 17,
    "start_time": "2023-01-28T17:05:40.257Z"
   },
   {
    "duration": 46,
    "start_time": "2023-01-28T17:05:40.276Z"
   },
   {
    "duration": 6,
    "start_time": "2023-01-28T17:05:40.324Z"
   },
   {
    "duration": 46,
    "start_time": "2023-01-28T17:05:40.332Z"
   },
   {
    "duration": 54,
    "start_time": "2023-01-28T17:05:40.380Z"
   },
   {
    "duration": 39,
    "start_time": "2023-01-28T17:05:40.436Z"
   },
   {
    "duration": 170,
    "start_time": "2023-01-28T17:05:40.477Z"
   },
   {
    "duration": 95,
    "start_time": "2023-01-28T17:05:40.648Z"
   },
   {
    "duration": 79,
    "start_time": "2023-01-28T17:05:40.744Z"
   },
   {
    "duration": 366,
    "start_time": "2023-01-28T17:05:40.825Z"
   },
   {
    "duration": 156,
    "start_time": "2023-01-28T17:05:41.193Z"
   },
   {
    "duration": 63,
    "start_time": "2023-01-28T17:05:41.351Z"
   },
   {
    "duration": 6,
    "start_time": "2023-01-28T17:05:41.416Z"
   },
   {
    "duration": 110,
    "start_time": "2023-01-28T17:05:41.423Z"
   },
   {
    "duration": 14,
    "start_time": "2023-01-28T17:05:41.535Z"
   },
   {
    "duration": 545,
    "start_time": "2023-01-28T17:05:41.550Z"
   },
   {
    "duration": 14,
    "start_time": "2023-01-28T17:05:42.100Z"
   },
   {
    "duration": 147,
    "start_time": "2023-01-28T17:05:42.115Z"
   },
   {
    "duration": 604,
    "start_time": "2023-01-28T17:05:42.264Z"
   },
   {
    "duration": 14,
    "start_time": "2023-01-28T17:05:42.871Z"
   },
   {
    "duration": 47,
    "start_time": "2023-01-28T17:05:42.887Z"
   },
   {
    "duration": 181,
    "start_time": "2023-01-28T17:05:42.936Z"
   },
   {
    "duration": 0,
    "start_time": "2023-01-28T17:05:43.118Z"
   },
   {
    "duration": 0,
    "start_time": "2023-01-28T17:05:43.120Z"
   },
   {
    "duration": 0,
    "start_time": "2023-01-28T17:05:43.121Z"
   },
   {
    "duration": 0,
    "start_time": "2023-01-28T17:05:43.122Z"
   },
   {
    "duration": 0,
    "start_time": "2023-01-28T17:05:43.124Z"
   },
   {
    "duration": 0,
    "start_time": "2023-01-28T17:05:43.125Z"
   },
   {
    "duration": 1286,
    "start_time": "2023-01-28T20:44:37.790Z"
   },
   {
    "duration": 2308,
    "start_time": "2023-01-28T20:44:39.078Z"
   },
   {
    "duration": 11,
    "start_time": "2023-01-28T20:44:41.388Z"
   },
   {
    "duration": 36,
    "start_time": "2023-01-28T20:44:41.401Z"
   },
   {
    "duration": 14,
    "start_time": "2023-01-28T20:44:41.440Z"
   },
   {
    "duration": 10,
    "start_time": "2023-01-28T20:44:41.455Z"
   },
   {
    "duration": 10,
    "start_time": "2023-01-28T20:44:41.467Z"
   },
   {
    "duration": 8,
    "start_time": "2023-01-28T20:44:41.478Z"
   },
   {
    "duration": 21,
    "start_time": "2023-01-28T20:44:41.487Z"
   },
   {
    "duration": 79,
    "start_time": "2023-01-28T20:44:41.511Z"
   },
   {
    "duration": 233,
    "start_time": "2023-01-28T20:44:41.592Z"
   },
   {
    "duration": 57,
    "start_time": "2023-01-28T20:44:41.827Z"
   },
   {
    "duration": 73,
    "start_time": "2023-01-28T20:44:41.886Z"
   },
   {
    "duration": 135,
    "start_time": "2023-01-28T20:44:41.961Z"
   },
   {
    "duration": 40,
    "start_time": "2023-01-28T20:44:42.098Z"
   },
   {
    "duration": 34,
    "start_time": "2023-01-28T20:44:42.139Z"
   },
   {
    "duration": 25,
    "start_time": "2023-01-28T20:44:42.176Z"
   },
   {
    "duration": 17,
    "start_time": "2023-01-28T20:44:42.221Z"
   },
   {
    "duration": 15,
    "start_time": "2023-01-28T20:44:42.240Z"
   },
   {
    "duration": 29,
    "start_time": "2023-01-28T20:44:42.257Z"
   },
   {
    "duration": 51,
    "start_time": "2023-01-28T20:44:42.287Z"
   },
   {
    "duration": 23,
    "start_time": "2023-01-28T20:44:42.340Z"
   },
   {
    "duration": 1083,
    "start_time": "2023-01-28T20:44:42.365Z"
   },
   {
    "duration": 11,
    "start_time": "2023-01-28T20:44:43.450Z"
   },
   {
    "duration": 98,
    "start_time": "2023-01-28T20:44:43.463Z"
   },
   {
    "duration": 181,
    "start_time": "2023-01-28T20:44:43.563Z"
   },
   {
    "duration": 149,
    "start_time": "2023-01-28T20:44:43.746Z"
   },
   {
    "duration": 56,
    "start_time": "2023-01-28T20:44:43.900Z"
   },
   {
    "duration": 13,
    "start_time": "2023-01-28T20:44:43.957Z"
   },
   {
    "duration": 122,
    "start_time": "2023-01-28T20:44:43.971Z"
   },
   {
    "duration": 13,
    "start_time": "2023-01-28T20:44:44.095Z"
   },
   {
    "duration": 58,
    "start_time": "2023-01-28T20:44:44.111Z"
   },
   {
    "duration": 5,
    "start_time": "2023-01-28T20:44:44.170Z"
   },
   {
    "duration": 6,
    "start_time": "2023-01-28T20:44:44.176Z"
   },
   {
    "duration": 15,
    "start_time": "2023-01-28T20:44:44.183Z"
   },
   {
    "duration": 8,
    "start_time": "2023-01-28T20:44:44.200Z"
   },
   {
    "duration": 165,
    "start_time": "2023-01-28T20:44:44.209Z"
   },
   {
    "duration": 108,
    "start_time": "2023-01-28T20:44:44.375Z"
   },
   {
    "duration": 97,
    "start_time": "2023-01-28T20:44:44.484Z"
   },
   {
    "duration": 643,
    "start_time": "2023-01-28T20:44:44.582Z"
   },
   {
    "duration": 220,
    "start_time": "2023-01-28T20:44:45.227Z"
   },
   {
    "duration": 91,
    "start_time": "2023-01-28T20:44:45.449Z"
   },
   {
    "duration": 7,
    "start_time": "2023-01-28T20:44:45.541Z"
   },
   {
    "duration": 86,
    "start_time": "2023-01-28T20:44:45.549Z"
   },
   {
    "duration": 15,
    "start_time": "2023-01-28T20:44:45.638Z"
   },
   {
    "duration": 588,
    "start_time": "2023-01-28T20:44:45.654Z"
   },
   {
    "duration": 12,
    "start_time": "2023-01-28T20:44:46.245Z"
   },
   {
    "duration": 181,
    "start_time": "2023-01-28T20:44:46.259Z"
   },
   {
    "duration": 608,
    "start_time": "2023-01-28T20:44:46.442Z"
   },
   {
    "duration": 15,
    "start_time": "2023-01-28T20:44:47.052Z"
   },
   {
    "duration": 22,
    "start_time": "2023-01-28T20:44:47.068Z"
   },
   {
    "duration": 232,
    "start_time": "2023-01-28T20:44:47.115Z"
   },
   {
    "duration": 0,
    "start_time": "2023-01-28T20:44:47.349Z"
   },
   {
    "duration": 0,
    "start_time": "2023-01-28T20:44:47.350Z"
   },
   {
    "duration": 0,
    "start_time": "2023-01-28T20:44:47.350Z"
   },
   {
    "duration": 0,
    "start_time": "2023-01-28T20:44:47.352Z"
   },
   {
    "duration": 0,
    "start_time": "2023-01-28T20:44:47.354Z"
   },
   {
    "duration": 0,
    "start_time": "2023-01-28T20:44:47.355Z"
   },
   {
    "duration": 31,
    "start_time": "2023-01-28T20:54:45.445Z"
   },
   {
    "duration": 1489,
    "start_time": "2023-01-28T21:20:20.902Z"
   },
   {
    "duration": 1151,
    "start_time": "2023-01-28T21:20:22.394Z"
   },
   {
    "duration": 14,
    "start_time": "2023-01-28T21:20:23.547Z"
   },
   {
    "duration": 9,
    "start_time": "2023-01-28T21:20:23.563Z"
   },
   {
    "duration": 18,
    "start_time": "2023-01-28T21:20:23.574Z"
   },
   {
    "duration": 8,
    "start_time": "2023-01-28T21:20:23.742Z"
   },
   {
    "duration": 12,
    "start_time": "2023-01-28T21:20:25.234Z"
   },
   {
    "duration": 4,
    "start_time": "2023-01-28T21:20:25.376Z"
   },
   {
    "duration": 21,
    "start_time": "2023-01-28T21:20:25.724Z"
   },
   {
    "duration": 67,
    "start_time": "2023-01-28T21:20:26.373Z"
   },
   {
    "duration": 307,
    "start_time": "2023-01-28T21:20:26.442Z"
   },
   {
    "duration": 72,
    "start_time": "2023-01-28T21:20:26.751Z"
   },
   {
    "duration": 48,
    "start_time": "2023-01-28T21:20:26.907Z"
   },
   {
    "duration": 123,
    "start_time": "2023-01-28T21:20:27.452Z"
   },
   {
    "duration": 19,
    "start_time": "2023-01-28T21:20:27.970Z"
   },
   {
    "duration": 34,
    "start_time": "2023-01-28T21:20:28.112Z"
   },
   {
    "duration": 28,
    "start_time": "2023-01-28T21:20:28.493Z"
   },
   {
    "duration": 7,
    "start_time": "2023-01-28T21:20:41.276Z"
   },
   {
    "duration": 14,
    "start_time": "2023-01-28T21:20:41.634Z"
   },
   {
    "duration": 32,
    "start_time": "2023-01-28T21:20:42.305Z"
   },
   {
    "duration": 23,
    "start_time": "2023-01-28T21:20:42.616Z"
   },
   {
    "duration": 19,
    "start_time": "2023-01-28T21:20:42.830Z"
   },
   {
    "duration": 944,
    "start_time": "2023-01-28T21:20:43.330Z"
   },
   {
    "duration": 10,
    "start_time": "2023-01-28T21:20:44.276Z"
   },
   {
    "duration": 63,
    "start_time": "2023-01-28T21:21:02.810Z"
   },
   {
    "duration": 207,
    "start_time": "2023-01-28T21:21:03.465Z"
   },
   {
    "duration": 120,
    "start_time": "2023-01-28T21:21:03.674Z"
   },
   {
    "duration": 46,
    "start_time": "2023-01-28T21:21:04.301Z"
   },
   {
    "duration": 17,
    "start_time": "2023-01-28T21:21:04.479Z"
   },
   {
    "duration": 105,
    "start_time": "2023-01-28T21:21:04.688Z"
   },
   {
    "duration": 18,
    "start_time": "2023-01-28T21:21:04.908Z"
   },
   {
    "duration": 39,
    "start_time": "2023-01-28T21:21:15.015Z"
   },
   {
    "duration": 7,
    "start_time": "2023-01-28T21:21:15.462Z"
   },
   {
    "duration": 4,
    "start_time": "2023-01-28T21:21:28.448Z"
   },
   {
    "duration": 17,
    "start_time": "2023-01-28T21:21:29.471Z"
   },
   {
    "duration": 8,
    "start_time": "2023-01-28T21:21:29.683Z"
   },
   {
    "duration": 136,
    "start_time": "2023-01-28T21:21:29.916Z"
   },
   {
    "duration": 129,
    "start_time": "2023-01-28T21:21:30.340Z"
   },
   {
    "duration": 86,
    "start_time": "2023-01-28T21:22:11.926Z"
   },
   {
    "duration": 402,
    "start_time": "2023-01-28T21:22:12.516Z"
   },
   {
    "duration": 112,
    "start_time": "2023-01-28T21:22:13.043Z"
   },
   {
    "duration": 61,
    "start_time": "2023-01-28T21:22:13.515Z"
   },
   {
    "duration": 6,
    "start_time": "2023-01-28T21:22:14.916Z"
   },
   {
    "duration": 84,
    "start_time": "2023-01-28T21:22:38.337Z"
   },
   {
    "duration": 15,
    "start_time": "2023-01-28T21:22:38.580Z"
   },
   {
    "duration": 648,
    "start_time": "2023-01-28T21:22:40.224Z"
   },
   {
    "duration": 14,
    "start_time": "2023-01-28T21:22:40.874Z"
   },
   {
    "duration": 104,
    "start_time": "2023-01-28T21:22:41.175Z"
   },
   {
    "duration": 644,
    "start_time": "2023-01-28T21:22:41.913Z"
   },
   {
    "duration": 14,
    "start_time": "2023-01-28T21:22:42.559Z"
   },
   {
    "duration": 20,
    "start_time": "2023-01-28T21:22:43.727Z"
   },
   {
    "duration": 163,
    "start_time": "2023-01-28T21:22:43.949Z"
   },
   {
    "duration": 16,
    "start_time": "2023-01-28T21:22:52.520Z"
   },
   {
    "duration": 54,
    "start_time": "2023-01-28T21:22:54.622Z"
   },
   {
    "duration": 133,
    "start_time": "2023-01-28T21:22:54.815Z"
   },
   {
    "duration": 7,
    "start_time": "2023-01-28T21:22:54.965Z"
   },
   {
    "duration": 6,
    "start_time": "2023-01-28T21:22:55.307Z"
   },
   {
    "duration": 11,
    "start_time": "2023-01-28T21:22:55.822Z"
   },
   {
    "duration": 5,
    "start_time": "2023-01-28T21:31:53.986Z"
   },
   {
    "duration": 9,
    "start_time": "2023-01-28T21:38:05.345Z"
   },
   {
    "duration": 11,
    "start_time": "2023-01-28T21:38:26.018Z"
   },
   {
    "duration": 12,
    "start_time": "2023-01-28T21:38:32.487Z"
   },
   {
    "duration": 77,
    "start_time": "2023-01-28T21:43:25.016Z"
   },
   {
    "duration": 23,
    "start_time": "2023-01-28T21:43:38.476Z"
   },
   {
    "duration": 42,
    "start_time": "2023-01-28T21:43:40.297Z"
   },
   {
    "duration": 9,
    "start_time": "2023-01-28T21:46:34.251Z"
   },
   {
    "duration": 1468,
    "start_time": "2023-01-28T21:47:04.398Z"
   },
   {
    "duration": 21,
    "start_time": "2023-01-28T21:47:29.672Z"
   },
   {
    "duration": 71,
    "start_time": "2023-01-28T21:47:39.102Z"
   },
   {
    "duration": 10,
    "start_time": "2023-01-28T21:49:44.785Z"
   },
   {
    "duration": 74,
    "start_time": "2023-01-28T21:50:38.571Z"
   },
   {
    "duration": 7,
    "start_time": "2023-01-28T21:50:42.376Z"
   },
   {
    "duration": 4,
    "start_time": "2023-01-28T21:50:48.419Z"
   },
   {
    "duration": 18,
    "start_time": "2023-01-28T21:51:24.653Z"
   },
   {
    "duration": 9,
    "start_time": "2023-01-28T21:51:32.225Z"
   },
   {
    "duration": 7,
    "start_time": "2023-01-28T21:51:39.969Z"
   },
   {
    "duration": 10,
    "start_time": "2023-01-28T21:51:41.683Z"
   },
   {
    "duration": 5,
    "start_time": "2023-01-28T21:51:45.003Z"
   },
   {
    "duration": 9,
    "start_time": "2023-01-28T21:53:21.975Z"
   },
   {
    "duration": 9,
    "start_time": "2023-01-28T22:01:44.541Z"
   },
   {
    "duration": 10,
    "start_time": "2023-01-28T22:01:50.073Z"
   },
   {
    "duration": 7,
    "start_time": "2023-01-28T22:01:54.625Z"
   },
   {
    "duration": 4,
    "start_time": "2023-01-28T22:01:57.056Z"
   },
   {
    "duration": 10,
    "start_time": "2023-01-28T22:02:02.180Z"
   },
   {
    "duration": 10,
    "start_time": "2023-01-28T22:02:12.155Z"
   },
   {
    "duration": 8,
    "start_time": "2023-01-28T22:02:26.721Z"
   },
   {
    "duration": 6,
    "start_time": "2023-01-28T22:02:30.434Z"
   },
   {
    "duration": 38,
    "start_time": "2023-01-28T22:02:38.287Z"
   },
   {
    "duration": 6,
    "start_time": "2023-01-28T22:02:39.413Z"
   },
   {
    "duration": 9,
    "start_time": "2023-01-28T22:02:53.783Z"
   },
   {
    "duration": 4,
    "start_time": "2023-01-28T22:02:57.236Z"
   },
   {
    "duration": 10,
    "start_time": "2023-01-28T22:03:11.177Z"
   },
   {
    "duration": 4,
    "start_time": "2023-01-28T22:03:19.806Z"
   },
   {
    "duration": 28,
    "start_time": "2023-01-28T22:05:50.256Z"
   },
   {
    "duration": 7,
    "start_time": "2023-01-28T22:06:25.958Z"
   },
   {
    "duration": 10,
    "start_time": "2023-01-28T22:06:41.466Z"
   },
   {
    "duration": 13,
    "start_time": "2023-01-28T22:06:51.944Z"
   },
   {
    "duration": 25,
    "start_time": "2023-01-28T22:08:13.513Z"
   },
   {
    "duration": 28,
    "start_time": "2023-01-28T22:08:19.796Z"
   },
   {
    "duration": 30,
    "start_time": "2023-01-28T22:08:24.285Z"
   },
   {
    "duration": 10,
    "start_time": "2023-01-28T22:12:39.462Z"
   },
   {
    "duration": 9,
    "start_time": "2023-01-28T22:13:00.178Z"
   },
   {
    "duration": 70,
    "start_time": "2023-01-28T22:13:22.919Z"
   },
   {
    "duration": 15,
    "start_time": "2023-01-28T22:13:26.483Z"
   },
   {
    "duration": 13,
    "start_time": "2023-01-28T22:13:49.868Z"
   },
   {
    "duration": 4,
    "start_time": "2023-01-28T22:13:54.583Z"
   },
   {
    "duration": 13,
    "start_time": "2023-01-28T22:14:04.290Z"
   },
   {
    "duration": 4,
    "start_time": "2023-01-28T22:14:04.756Z"
   },
   {
    "duration": 4,
    "start_time": "2023-01-28T22:14:57.917Z"
   },
   {
    "duration": 3,
    "start_time": "2023-01-28T22:15:09.869Z"
   },
   {
    "duration": 18,
    "start_time": "2023-01-28T22:15:17.585Z"
   },
   {
    "duration": 10,
    "start_time": "2023-01-28T22:15:17.911Z"
   },
   {
    "duration": 64,
    "start_time": "2023-01-28T22:15:18.130Z"
   },
   {
    "duration": 96,
    "start_time": "2023-01-28T22:15:19.463Z"
   },
   {
    "duration": 67,
    "start_time": "2023-01-28T22:25:49.836Z"
   },
   {
    "duration": 57,
    "start_time": "2023-01-28T22:26:51.891Z"
   },
   {
    "duration": 87,
    "start_time": "2023-01-28T22:27:35.534Z"
   },
   {
    "duration": 135,
    "start_time": "2023-01-28T22:30:06.568Z"
   },
   {
    "duration": 144,
    "start_time": "2023-01-28T22:30:53.915Z"
   },
   {
    "duration": 139,
    "start_time": "2023-01-28T22:31:35.462Z"
   },
   {
    "duration": 149,
    "start_time": "2023-01-28T22:31:40.539Z"
   },
   {
    "duration": 130,
    "start_time": "2023-01-28T22:31:57.343Z"
   },
   {
    "duration": 227,
    "start_time": "2023-01-28T22:32:06.946Z"
   },
   {
    "duration": 126,
    "start_time": "2023-01-28T22:33:07.609Z"
   },
   {
    "duration": 6,
    "start_time": "2023-01-28T22:33:14.534Z"
   },
   {
    "duration": 1304,
    "start_time": "2023-01-28T22:33:15.306Z"
   },
   {
    "duration": 10,
    "start_time": "2023-01-28T22:33:16.612Z"
   },
   {
    "duration": 15,
    "start_time": "2023-01-28T22:33:16.623Z"
   },
   {
    "duration": 8,
    "start_time": "2023-01-28T22:33:16.778Z"
   },
   {
    "duration": 8,
    "start_time": "2023-01-28T22:33:17.216Z"
   },
   {
    "duration": 13,
    "start_time": "2023-01-28T22:33:18.614Z"
   },
   {
    "duration": 5,
    "start_time": "2023-01-28T22:33:18.749Z"
   },
   {
    "duration": 28,
    "start_time": "2023-01-28T22:33:19.094Z"
   },
   {
    "duration": 83,
    "start_time": "2023-01-28T22:33:19.594Z"
   },
   {
    "duration": 274,
    "start_time": "2023-01-28T22:33:19.750Z"
   },
   {
    "duration": 62,
    "start_time": "2023-01-28T22:33:20.027Z"
   },
   {
    "duration": 46,
    "start_time": "2023-01-28T22:33:20.266Z"
   },
   {
    "duration": 133,
    "start_time": "2023-01-28T22:33:20.745Z"
   },
   {
    "duration": 19,
    "start_time": "2023-01-28T22:33:21.277Z"
   },
   {
    "duration": 34,
    "start_time": "2023-01-28T22:33:21.436Z"
   },
   {
    "duration": 34,
    "start_time": "2023-01-28T22:33:21.755Z"
   },
   {
    "duration": 9,
    "start_time": "2023-01-28T22:33:23.849Z"
   },
   {
    "duration": 15,
    "start_time": "2023-01-28T22:33:24.018Z"
   },
   {
    "duration": 35,
    "start_time": "2023-01-28T22:33:24.350Z"
   },
   {
    "duration": 33,
    "start_time": "2023-01-28T22:33:24.548Z"
   },
   {
    "duration": 30,
    "start_time": "2023-01-28T22:33:24.730Z"
   },
   {
    "duration": 997,
    "start_time": "2023-01-28T22:33:25.066Z"
   },
   {
    "duration": 12,
    "start_time": "2023-01-28T22:33:26.066Z"
   },
   {
    "duration": 85,
    "start_time": "2023-01-28T22:33:26.271Z"
   },
   {
    "duration": 226,
    "start_time": "2023-01-28T22:33:26.826Z"
   },
   {
    "duration": 152,
    "start_time": "2023-01-28T22:33:27.054Z"
   },
   {
    "duration": 133,
    "start_time": "2023-01-28T22:33:27.567Z"
   },
   {
    "duration": 47,
    "start_time": "2023-01-28T22:33:28.938Z"
   },
   {
    "duration": 16,
    "start_time": "2023-01-28T22:33:29.120Z"
   },
   {
    "duration": 141,
    "start_time": "2023-01-28T22:33:29.313Z"
   },
   {
    "duration": 19,
    "start_time": "2023-01-28T22:33:29.535Z"
   },
   {
    "duration": 41,
    "start_time": "2023-01-28T22:33:30.708Z"
   },
   {
    "duration": 6,
    "start_time": "2023-01-28T22:33:31.123Z"
   },
   {
    "duration": 13,
    "start_time": "2023-01-28T22:33:31.876Z"
   },
   {
    "duration": 5,
    "start_time": "2023-01-28T22:33:32.200Z"
   },
   {
    "duration": 4,
    "start_time": "2023-01-28T22:33:33.221Z"
   },
   {
    "duration": 20,
    "start_time": "2023-01-28T22:33:34.534Z"
   },
   {
    "duration": 8,
    "start_time": "2023-01-28T22:33:34.876Z"
   },
   {
    "duration": 172,
    "start_time": "2023-01-28T22:33:35.166Z"
   },
   {
    "duration": 92,
    "start_time": "2023-01-28T22:33:35.754Z"
   },
   {
    "duration": 121,
    "start_time": "2023-01-28T22:33:39.509Z"
   },
   {
    "duration": 67,
    "start_time": "2023-01-28T22:35:27.501Z"
   },
   {
    "duration": 4,
    "start_time": "2023-01-28T22:35:50.800Z"
   },
   {
    "duration": 4,
    "start_time": "2023-01-28T22:39:44.530Z"
   },
   {
    "duration": 18,
    "start_time": "2023-01-28T22:39:45.101Z"
   },
   {
    "duration": 10,
    "start_time": "2023-01-28T22:39:45.289Z"
   },
   {
    "duration": 61,
    "start_time": "2023-01-28T22:39:45.683Z"
   },
   {
    "duration": 97,
    "start_time": "2023-01-28T22:39:46.114Z"
   },
   {
    "duration": 85,
    "start_time": "2023-01-28T22:39:49.194Z"
   },
   {
    "duration": 60,
    "start_time": "2023-01-28T22:39:49.586Z"
   },
   {
    "duration": 107,
    "start_time": "2023-01-28T22:39:50.672Z"
   },
   {
    "duration": 61,
    "start_time": "2023-01-28T22:39:51.838Z"
   },
   {
    "duration": 6,
    "start_time": "2023-01-28T22:39:52.590Z"
   },
   {
    "duration": 6,
    "start_time": "2023-01-28T22:40:37.100Z"
   },
   {
    "duration": 80,
    "start_time": "2023-01-28T22:40:38.201Z"
   },
   {
    "duration": 15,
    "start_time": "2023-01-28T22:40:38.384Z"
   },
   {
    "duration": 597,
    "start_time": "2023-01-28T22:40:38.961Z"
   },
   {
    "duration": 14,
    "start_time": "2023-01-28T22:40:39.561Z"
   },
   {
    "duration": 135,
    "start_time": "2023-01-28T22:40:39.577Z"
   },
   {
    "duration": 534,
    "start_time": "2023-01-28T22:40:40.045Z"
   },
   {
    "duration": 29,
    "start_time": "2023-01-28T22:43:04.545Z"
   },
   {
    "duration": 19,
    "start_time": "2023-01-28T22:43:10.470Z"
   },
   {
    "duration": 36,
    "start_time": "2023-01-28T22:43:59.244Z"
   },
   {
    "duration": 13,
    "start_time": "2023-01-28T22:43:59.549Z"
   },
   {
    "duration": 219,
    "start_time": "2023-01-28T22:43:59.748Z"
   },
   {
    "duration": 26,
    "start_time": "2023-01-28T22:44:00.151Z"
   },
   {
    "duration": 30,
    "start_time": "2023-01-28T22:44:01.454Z"
   },
   {
    "duration": 6,
    "start_time": "2023-01-28T22:44:01.774Z"
   },
   {
    "duration": 13,
    "start_time": "2023-01-28T22:44:02.090Z"
   },
   {
    "duration": 4,
    "start_time": "2023-01-28T22:44:02.246Z"
   },
   {
    "duration": 4,
    "start_time": "2023-01-28T22:44:03.338Z"
   },
   {
    "duration": 26,
    "start_time": "2023-01-28T22:44:03.938Z"
   },
   {
    "duration": 8,
    "start_time": "2023-01-28T22:44:04.116Z"
   },
   {
    "duration": 61,
    "start_time": "2023-01-28T22:44:04.310Z"
   },
   {
    "duration": 259,
    "start_time": "2023-01-28T22:44:04.719Z"
   },
   {
    "duration": 61,
    "start_time": "2023-01-28T22:44:09.583Z"
   },
   {
    "duration": 4,
    "start_time": "2023-01-28T22:44:21.169Z"
   },
   {
    "duration": 1056,
    "start_time": "2023-01-28T22:44:22.098Z"
   },
   {
    "duration": 7,
    "start_time": "2023-01-28T22:44:23.156Z"
   },
   {
    "duration": 30,
    "start_time": "2023-01-28T22:44:23.165Z"
   },
   {
    "duration": 8,
    "start_time": "2023-01-28T22:44:23.673Z"
   },
   {
    "duration": 9,
    "start_time": "2023-01-28T22:44:24.257Z"
   },
   {
    "duration": 12,
    "start_time": "2023-01-28T22:44:25.940Z"
   },
   {
    "duration": 7,
    "start_time": "2023-01-28T22:44:26.119Z"
   },
   {
    "duration": 22,
    "start_time": "2023-01-28T22:44:26.546Z"
   },
   {
    "duration": 66,
    "start_time": "2023-01-28T22:44:27.102Z"
   },
   {
    "duration": 261,
    "start_time": "2023-01-28T22:44:27.279Z"
   },
   {
    "duration": 58,
    "start_time": "2023-01-28T22:44:27.543Z"
   },
   {
    "duration": 40,
    "start_time": "2023-01-28T22:44:27.820Z"
   },
   {
    "duration": 121,
    "start_time": "2023-01-28T22:44:28.338Z"
   },
   {
    "duration": 19,
    "start_time": "2023-01-28T22:44:28.924Z"
   },
   {
    "duration": 32,
    "start_time": "2023-01-28T22:44:29.120Z"
   },
   {
    "duration": 27,
    "start_time": "2023-01-28T22:44:29.478Z"
   },
   {
    "duration": 8,
    "start_time": "2023-01-28T22:44:31.648Z"
   },
   {
    "duration": 14,
    "start_time": "2023-01-28T22:44:31.837Z"
   },
   {
    "duration": 41,
    "start_time": "2023-01-28T22:44:32.224Z"
   },
   {
    "duration": 22,
    "start_time": "2023-01-28T22:44:32.415Z"
   },
   {
    "duration": 18,
    "start_time": "2023-01-28T22:44:32.623Z"
   },
   {
    "duration": 899,
    "start_time": "2023-01-28T22:44:32.976Z"
   },
   {
    "duration": 12,
    "start_time": "2023-01-28T22:44:33.877Z"
   },
   {
    "duration": 84,
    "start_time": "2023-01-28T22:44:34.414Z"
   },
   {
    "duration": 205,
    "start_time": "2023-01-28T22:44:34.967Z"
   },
   {
    "duration": 121,
    "start_time": "2023-01-28T22:44:35.174Z"
   },
   {
    "duration": 174,
    "start_time": "2023-01-28T22:44:35.670Z"
   },
   {
    "duration": 13,
    "start_time": "2023-01-28T22:44:35.892Z"
   },
   {
    "duration": 40,
    "start_time": "2023-01-28T22:44:36.838Z"
   },
   {
    "duration": 13,
    "start_time": "2023-01-28T22:44:37.006Z"
   },
   {
    "duration": 126,
    "start_time": "2023-01-28T22:44:37.177Z"
   },
   {
    "duration": 17,
    "start_time": "2023-01-28T22:44:37.359Z"
   },
   {
    "duration": 30,
    "start_time": "2023-01-28T22:44:38.298Z"
   },
   {
    "duration": 6,
    "start_time": "2023-01-28T22:44:38.680Z"
   },
   {
    "duration": 12,
    "start_time": "2023-01-28T22:44:39.061Z"
   },
   {
    "duration": 3,
    "start_time": "2023-01-28T22:44:39.260Z"
   },
   {
    "duration": 4,
    "start_time": "2023-01-28T22:44:39.634Z"
   },
   {
    "duration": 16,
    "start_time": "2023-01-28T22:44:40.228Z"
   },
   {
    "duration": 9,
    "start_time": "2023-01-28T22:44:40.404Z"
   },
   {
    "duration": 166,
    "start_time": "2023-01-28T22:44:40.652Z"
   },
   {
    "duration": 65,
    "start_time": "2023-01-28T22:45:00.868Z"
   },
   {
    "duration": 64,
    "start_time": "2023-01-28T22:45:17.306Z"
   },
   {
    "duration": 68,
    "start_time": "2023-01-28T22:45:23.205Z"
   },
   {
    "duration": 92,
    "start_time": "2023-01-28T22:45:23.829Z"
   },
   {
    "duration": 117,
    "start_time": "2023-01-28T22:48:33.551Z"
   },
   {
    "duration": 17,
    "start_time": "2023-01-28T22:48:34.067Z"
   },
   {
    "duration": 120,
    "start_time": "2023-01-28T22:48:38.970Z"
   },
   {
    "duration": 13,
    "start_time": "2023-01-28T22:55:34.988Z"
   },
   {
    "duration": 81,
    "start_time": "2023-01-28T22:55:42.677Z"
   },
   {
    "duration": 11,
    "start_time": "2023-01-28T22:55:46.236Z"
   },
   {
    "duration": 81,
    "start_time": "2023-01-28T22:57:11.098Z"
   },
   {
    "duration": 11,
    "start_time": "2023-01-28T22:58:10.697Z"
   },
   {
    "duration": 14,
    "start_time": "2023-01-28T23:00:46.820Z"
   },
   {
    "duration": 34,
    "start_time": "2023-01-28T23:01:00.155Z"
   },
   {
    "duration": 74,
    "start_time": "2023-01-28T23:01:22.891Z"
   },
   {
    "duration": 12,
    "start_time": "2023-01-28T23:02:57.921Z"
   },
   {
    "duration": 11,
    "start_time": "2023-01-28T23:03:15.472Z"
   },
   {
    "duration": 9,
    "start_time": "2023-01-28T23:03:30.070Z"
   },
   {
    "duration": 11,
    "start_time": "2023-01-28T23:03:35.530Z"
   },
   {
    "duration": 11,
    "start_time": "2023-01-28T23:04:42.755Z"
   },
   {
    "duration": 11,
    "start_time": "2023-01-28T23:04:50.340Z"
   },
   {
    "duration": 74,
    "start_time": "2023-01-28T23:05:19.039Z"
   },
   {
    "duration": 17,
    "start_time": "2023-01-28T23:06:53.578Z"
   },
   {
    "duration": 24,
    "start_time": "2023-01-28T23:07:15.964Z"
   },
   {
    "duration": 16,
    "start_time": "2023-01-28T23:07:41.648Z"
   },
   {
    "duration": 15,
    "start_time": "2023-01-28T23:07:49.442Z"
   },
   {
    "duration": 16,
    "start_time": "2023-01-28T23:07:55.892Z"
   },
   {
    "duration": 65,
    "start_time": "2023-01-28T23:08:17.535Z"
   },
   {
    "duration": 148,
    "start_time": "2023-01-28T23:08:18.776Z"
   },
   {
    "duration": 119,
    "start_time": "2023-01-28T23:08:19.318Z"
   },
   {
    "duration": 165,
    "start_time": "2023-01-28T23:08:27.171Z"
   },
   {
    "duration": 13,
    "start_time": "2023-01-28T23:08:27.338Z"
   },
   {
    "duration": 91,
    "start_time": "2023-01-28T23:10:16.146Z"
   },
   {
    "duration": 14,
    "start_time": "2023-01-28T23:10:16.363Z"
   },
   {
    "duration": 39,
    "start_time": "2023-01-28T23:10:23.707Z"
   },
   {
    "duration": 12,
    "start_time": "2023-01-28T23:10:23.965Z"
   },
   {
    "duration": 146,
    "start_time": "2023-01-28T23:10:25.224Z"
   },
   {
    "duration": 17,
    "start_time": "2023-01-28T23:10:25.727Z"
   },
   {
    "duration": 29,
    "start_time": "2023-01-28T23:11:06.446Z"
   },
   {
    "duration": 4,
    "start_time": "2023-01-28T23:12:19.788Z"
   },
   {
    "duration": 17,
    "start_time": "2023-01-28T23:12:21.849Z"
   },
   {
    "duration": 9,
    "start_time": "2023-01-28T23:12:24.252Z"
   },
   {
    "duration": 176,
    "start_time": "2023-01-28T23:12:24.453Z"
   },
   {
    "duration": 90,
    "start_time": "2023-01-28T23:12:31.390Z"
   },
   {
    "duration": 80,
    "start_time": "2023-01-28T23:14:32.160Z"
   },
   {
    "duration": 58,
    "start_time": "2023-01-28T23:14:33.007Z"
   },
   {
    "duration": 107,
    "start_time": "2023-01-28T23:14:33.285Z"
   },
   {
    "duration": 169,
    "start_time": "2023-01-28T23:14:35.273Z"
   },
   {
    "duration": 7,
    "start_time": "2023-01-28T23:14:36.222Z"
   },
   {
    "duration": 36,
    "start_time": "2023-01-28T23:15:10.874Z"
   },
   {
    "duration": 1333,
    "start_time": "2023-01-28T23:15:15.555Z"
   },
   {
    "duration": 6,
    "start_time": "2023-01-28T23:15:32.396Z"
   },
   {
    "duration": 25,
    "start_time": "2023-01-28T23:16:31.281Z"
   },
   {
    "duration": 4,
    "start_time": "2023-01-28T23:17:21.949Z"
   },
   {
    "duration": 1020,
    "start_time": "2023-01-28T23:17:22.708Z"
   },
   {
    "duration": 9,
    "start_time": "2023-01-28T23:17:23.730Z"
   },
   {
    "duration": 17,
    "start_time": "2023-01-28T23:17:23.740Z"
   },
   {
    "duration": 9,
    "start_time": "2023-01-28T23:17:24.098Z"
   },
   {
    "duration": 8,
    "start_time": "2023-01-28T23:17:24.640Z"
   },
   {
    "duration": 10,
    "start_time": "2023-01-28T23:17:26.162Z"
   },
   {
    "duration": 5,
    "start_time": "2023-01-28T23:17:26.328Z"
   },
   {
    "duration": 19,
    "start_time": "2023-01-28T23:17:26.666Z"
   },
   {
    "duration": 65,
    "start_time": "2023-01-28T23:17:27.187Z"
   },
   {
    "duration": 237,
    "start_time": "2023-01-28T23:17:27.390Z"
   },
   {
    "duration": 64,
    "start_time": "2023-01-28T23:17:27.629Z"
   },
   {
    "duration": 41,
    "start_time": "2023-01-28T23:17:27.931Z"
   },
   {
    "duration": 122,
    "start_time": "2023-01-28T23:17:28.467Z"
   },
   {
    "duration": 20,
    "start_time": "2023-01-28T23:17:29.052Z"
   },
   {
    "duration": 32,
    "start_time": "2023-01-28T23:17:29.226Z"
   },
   {
    "duration": 28,
    "start_time": "2023-01-28T23:17:29.575Z"
   },
   {
    "duration": 8,
    "start_time": "2023-01-28T23:17:31.774Z"
   },
   {
    "duration": 14,
    "start_time": "2023-01-28T23:17:31.998Z"
   },
   {
    "duration": 31,
    "start_time": "2023-01-28T23:17:32.495Z"
   },
   {
    "duration": 22,
    "start_time": "2023-01-28T23:17:32.678Z"
   },
   {
    "duration": 19,
    "start_time": "2023-01-28T23:17:32.872Z"
   },
   {
    "duration": 879,
    "start_time": "2023-01-28T23:17:33.246Z"
   },
   {
    "duration": 11,
    "start_time": "2023-01-28T23:17:34.127Z"
   },
   {
    "duration": 17,
    "start_time": "2023-01-28T23:17:34.175Z"
   },
   {
    "duration": 65,
    "start_time": "2023-01-28T23:17:35.131Z"
   },
   {
    "duration": 167,
    "start_time": "2023-01-28T23:17:35.728Z"
   },
   {
    "duration": 113,
    "start_time": "2023-01-28T23:17:35.966Z"
   },
   {
    "duration": 161,
    "start_time": "2023-01-28T23:17:37.588Z"
   },
   {
    "duration": 12,
    "start_time": "2023-01-28T23:17:37.752Z"
   },
   {
    "duration": 40,
    "start_time": "2023-01-28T23:17:39.186Z"
   },
   {
    "duration": 12,
    "start_time": "2023-01-28T23:17:39.415Z"
   },
   {
    "duration": 128,
    "start_time": "2023-01-28T23:17:39.628Z"
   },
   {
    "duration": 17,
    "start_time": "2023-01-28T23:17:39.905Z"
   },
   {
    "duration": 30,
    "start_time": "2023-01-28T23:17:41.303Z"
   },
   {
    "duration": 6,
    "start_time": "2023-01-28T23:17:41.666Z"
   },
   {
    "duration": 12,
    "start_time": "2023-01-28T23:17:42.034Z"
   },
   {
    "duration": 4,
    "start_time": "2023-01-28T23:17:42.272Z"
   },
   {
    "duration": 5,
    "start_time": "2023-01-28T23:17:42.696Z"
   },
   {
    "duration": 15,
    "start_time": "2023-01-28T23:17:43.613Z"
   },
   {
    "duration": 9,
    "start_time": "2023-01-28T23:17:44.065Z"
   },
   {
    "duration": 182,
    "start_time": "2023-01-28T23:17:44.409Z"
   },
   {
    "duration": 94,
    "start_time": "2023-01-28T23:17:45.210Z"
   },
   {
    "duration": 11,
    "start_time": "2023-01-28T23:18:34.741Z"
   },
   {
    "duration": 75,
    "start_time": "2023-01-28T23:18:40.700Z"
   },
   {
    "duration": 59,
    "start_time": "2023-01-28T23:20:39.439Z"
   },
   {
    "duration": 102,
    "start_time": "2023-01-28T23:20:40.445Z"
   },
   {
    "duration": 56,
    "start_time": "2023-01-28T23:20:40.709Z"
   },
   {
    "duration": 7,
    "start_time": "2023-01-28T23:20:40.962Z"
   },
   {
    "duration": 7,
    "start_time": "2023-01-28T23:20:54.280Z"
   },
   {
    "duration": 76,
    "start_time": "2023-01-28T23:21:17.565Z"
   },
   {
    "duration": 12,
    "start_time": "2023-01-28T23:21:18.586Z"
   },
   {
    "duration": 536,
    "start_time": "2023-01-28T23:21:22.166Z"
   },
   {
    "duration": 13,
    "start_time": "2023-01-28T23:21:23.513Z"
   },
   {
    "duration": 94,
    "start_time": "2023-01-28T23:21:23.763Z"
   },
   {
    "duration": 507,
    "start_time": "2023-01-28T23:21:26.863Z"
   },
   {
    "duration": 13,
    "start_time": "2023-01-28T23:21:28.013Z"
   },
   {
    "duration": 19,
    "start_time": "2023-01-28T23:21:30.124Z"
   },
   {
    "duration": 11,
    "start_time": "2023-01-28T23:21:30.664Z"
   },
   {
    "duration": 15,
    "start_time": "2023-01-28T23:21:34.294Z"
   },
   {
    "duration": 14,
    "start_time": "2023-01-28T23:22:33.890Z"
   },
   {
    "duration": 78,
    "start_time": "2023-01-28T23:22:40.888Z"
   },
   {
    "duration": 10,
    "start_time": "2023-01-28T23:24:23.972Z"
   },
   {
    "duration": 17,
    "start_time": "2023-01-28T23:24:28.623Z"
   },
   {
    "duration": 1191,
    "start_time": "2023-01-28T23:24:29.473Z"
   },
   {
    "duration": 0,
    "start_time": "2023-01-28T23:24:30.665Z"
   },
   {
    "duration": 0,
    "start_time": "2023-01-28T23:24:30.667Z"
   },
   {
    "duration": 6,
    "start_time": "2023-01-28T23:24:30.911Z"
   },
   {
    "duration": 78,
    "start_time": "2023-01-28T23:24:41.299Z"
   },
   {
    "duration": 55,
    "start_time": "2023-01-28T23:24:41.971Z"
   },
   {
    "duration": 101,
    "start_time": "2023-01-28T23:24:42.155Z"
   },
   {
    "duration": 60,
    "start_time": "2023-01-28T23:24:42.315Z"
   },
   {
    "duration": 6,
    "start_time": "2023-01-28T23:24:42.545Z"
   },
   {
    "duration": 6,
    "start_time": "2023-01-28T23:24:42.765Z"
   },
   {
    "duration": 79,
    "start_time": "2023-01-28T23:24:43.640Z"
   },
   {
    "duration": 33,
    "start_time": "2023-01-28T23:25:10.650Z"
   },
   {
    "duration": 7,
    "start_time": "2023-01-28T23:25:16.705Z"
   },
   {
    "duration": 7,
    "start_time": "2023-01-28T23:27:24.259Z"
   },
   {
    "duration": 14,
    "start_time": "2023-01-28T23:31:40.317Z"
   },
   {
    "duration": 72,
    "start_time": "2023-01-28T23:45:44.893Z"
   },
   {
    "duration": 66,
    "start_time": "2023-01-28T23:46:06.431Z"
   },
   {
    "duration": 349,
    "start_time": "2023-01-28T23:46:52.922Z"
   },
   {
    "duration": 4,
    "start_time": "2023-01-28T23:47:06.308Z"
   },
   {
    "duration": 354,
    "start_time": "2023-01-28T23:47:19.816Z"
   },
   {
    "duration": 51,
    "start_time": "2023-01-28T23:47:38.853Z"
   },
   {
    "duration": 53,
    "start_time": "2023-01-28T23:47:42.164Z"
   },
   {
    "duration": 55,
    "start_time": "2023-01-28T23:47:45.951Z"
   },
   {
    "duration": 53,
    "start_time": "2023-01-28T23:48:19.034Z"
   },
   {
    "duration": 67,
    "start_time": "2023-01-28T23:49:43.889Z"
   },
   {
    "duration": 3613,
    "start_time": "2023-01-28T23:50:15.195Z"
   },
   {
    "duration": 21,
    "start_time": "2023-01-28T23:50:49.185Z"
   },
   {
    "duration": 18,
    "start_time": "2023-01-28T23:50:49.949Z"
   },
   {
    "duration": 403,
    "start_time": "2023-01-28T23:50:51.014Z"
   },
   {
    "duration": 13,
    "start_time": "2023-01-28T23:50:52.589Z"
   },
   {
    "duration": 17,
    "start_time": "2023-01-28T23:51:06.454Z"
   },
   {
    "duration": 409,
    "start_time": "2023-01-28T23:51:32.785Z"
   },
   {
    "duration": 464,
    "start_time": "2023-01-28T23:51:36.766Z"
   },
   {
    "duration": 14,
    "start_time": "2023-01-28T23:51:37.623Z"
   },
   {
    "duration": 25,
    "start_time": "2023-01-28T23:51:57.517Z"
   },
   {
    "duration": 15,
    "start_time": "2023-01-28T23:51:58.606Z"
   },
   {
    "duration": 26,
    "start_time": "2023-01-28T23:52:03.603Z"
   },
   {
    "duration": 14,
    "start_time": "2023-01-28T23:52:05.262Z"
   },
   {
    "duration": 17,
    "start_time": "2023-01-28T23:52:11.232Z"
   },
   {
    "duration": 69,
    "start_time": "2023-01-28T23:52:27.553Z"
   },
   {
    "duration": 20,
    "start_time": "2023-01-28T23:52:28.372Z"
   },
   {
    "duration": 61,
    "start_time": "2023-01-28T23:52:29.082Z"
   },
   {
    "duration": 7,
    "start_time": "2023-01-28T23:52:31.561Z"
   },
   {
    "duration": 25,
    "start_time": "2023-01-28T23:52:33.315Z"
   },
   {
    "duration": 13,
    "start_time": "2023-01-28T23:52:33.894Z"
   },
   {
    "duration": 131,
    "start_time": "2023-01-28T23:52:38.051Z"
   },
   {
    "duration": 14,
    "start_time": "2023-01-28T23:52:38.972Z"
   },
   {
    "duration": 58,
    "start_time": "2023-01-28T23:52:39.468Z"
   },
   {
    "duration": 462,
    "start_time": "2023-01-28T23:52:42.733Z"
   },
   {
    "duration": 15,
    "start_time": "2023-01-28T23:52:45.010Z"
   },
   {
    "duration": 19,
    "start_time": "2023-01-28T23:52:46.715Z"
   },
   {
    "duration": 11,
    "start_time": "2023-01-28T23:52:47.787Z"
   },
   {
    "duration": 21,
    "start_time": "2023-01-28T23:52:49.339Z"
   },
   {
    "duration": 10,
    "start_time": "2023-01-28T23:52:51.920Z"
   },
   {
    "duration": 22,
    "start_time": "2023-01-28T23:52:52.108Z"
   },
   {
    "duration": 7,
    "start_time": "2023-01-28T23:52:52.579Z"
   },
   {
    "duration": 5,
    "start_time": "2023-01-28T23:52:53.611Z"
   },
   {
    "duration": 11,
    "start_time": "2023-01-28T23:52:55.281Z"
   },
   {
    "duration": 6,
    "start_time": "2023-01-28T23:54:03.678Z"
   },
   {
    "duration": 32,
    "start_time": "2023-01-28T23:54:04.394Z"
   },
   {
    "duration": 13,
    "start_time": "2023-01-28T23:54:04.619Z"
   },
   {
    "duration": 126,
    "start_time": "2023-01-28T23:54:35.602Z"
   },
   {
    "duration": 15,
    "start_time": "2023-01-28T23:54:36.936Z"
   },
   {
    "duration": 165,
    "start_time": "2023-01-28T23:54:37.401Z"
   },
   {
    "duration": 456,
    "start_time": "2023-01-28T23:54:37.939Z"
   },
   {
    "duration": 13,
    "start_time": "2023-01-28T23:54:38.533Z"
   },
   {
    "duration": 19,
    "start_time": "2023-01-28T23:54:39.162Z"
   },
   {
    "duration": 13,
    "start_time": "2023-01-28T23:54:39.649Z"
   },
   {
    "duration": 15,
    "start_time": "2023-01-28T23:54:40.161Z"
   },
   {
    "duration": 73,
    "start_time": "2023-01-28T23:55:17.253Z"
   },
   {
    "duration": 72,
    "start_time": "2023-01-28T23:55:20.859Z"
   },
   {
    "duration": 25,
    "start_time": "2023-01-28T23:55:26.145Z"
   },
   {
    "duration": 80,
    "start_time": "2023-01-28T23:59:45.021Z"
   },
   {
    "duration": 19,
    "start_time": "2023-01-28T23:59:45.650Z"
   },
   {
    "duration": 60,
    "start_time": "2023-01-28T23:59:46.225Z"
   },
   {
    "duration": 6,
    "start_time": "2023-01-28T23:59:51.267Z"
   },
   {
    "duration": 24,
    "start_time": "2023-01-28T23:59:57.121Z"
   },
   {
    "duration": 12,
    "start_time": "2023-01-28T23:59:57.395Z"
   },
   {
    "duration": 146,
    "start_time": "2023-01-29T00:02:49.558Z"
   },
   {
    "duration": 14,
    "start_time": "2023-01-29T00:02:50.007Z"
   },
   {
    "duration": 57,
    "start_time": "2023-01-29T00:02:50.702Z"
   },
   {
    "duration": 462,
    "start_time": "2023-01-29T00:02:53.582Z"
   },
   {
    "duration": 13,
    "start_time": "2023-01-29T00:02:56.968Z"
   },
   {
    "duration": 25,
    "start_time": "2023-01-29T00:02:58.676Z"
   },
   {
    "duration": 11,
    "start_time": "2023-01-29T00:02:58.995Z"
   },
   {
    "duration": 15,
    "start_time": "2023-01-29T00:03:02.740Z"
   },
   {
    "duration": 9,
    "start_time": "2023-01-29T00:05:37.976Z"
   },
   {
    "duration": 22,
    "start_time": "2023-01-29T00:05:39.717Z"
   },
   {
    "duration": 7,
    "start_time": "2023-01-29T00:05:40.474Z"
   },
   {
    "duration": 6,
    "start_time": "2023-01-29T00:05:45.804Z"
   },
   {
    "duration": 11,
    "start_time": "2023-01-29T00:05:49.306Z"
   },
   {
    "duration": 4,
    "start_time": "2023-01-29T00:09:43.569Z"
   },
   {
    "duration": 1064,
    "start_time": "2023-01-29T00:09:43.578Z"
   },
   {
    "duration": 9,
    "start_time": "2023-01-29T00:09:44.644Z"
   },
   {
    "duration": 20,
    "start_time": "2023-01-29T00:09:44.656Z"
   },
   {
    "duration": 25,
    "start_time": "2023-01-29T00:09:44.678Z"
   },
   {
    "duration": 10,
    "start_time": "2023-01-29T00:09:44.705Z"
   },
   {
    "duration": 35,
    "start_time": "2023-01-29T00:09:44.717Z"
   },
   {
    "duration": 10,
    "start_time": "2023-01-29T00:09:44.754Z"
   },
   {
    "duration": 40,
    "start_time": "2023-01-29T00:09:44.766Z"
   },
   {
    "duration": 67,
    "start_time": "2023-01-29T00:09:44.808Z"
   },
   {
    "duration": 265,
    "start_time": "2023-01-29T00:09:44.878Z"
   },
   {
    "duration": 59,
    "start_time": "2023-01-29T00:09:45.145Z"
   },
   {
    "duration": 56,
    "start_time": "2023-01-29T00:09:45.206Z"
   },
   {
    "duration": 140,
    "start_time": "2023-01-29T00:09:45.264Z"
   },
   {
    "duration": 29,
    "start_time": "2023-01-29T00:09:45.406Z"
   },
   {
    "duration": 44,
    "start_time": "2023-01-29T00:09:45.437Z"
   },
   {
    "duration": 42,
    "start_time": "2023-01-29T00:09:45.483Z"
   },
   {
    "duration": 7,
    "start_time": "2023-01-29T00:09:45.527Z"
   },
   {
    "duration": 15,
    "start_time": "2023-01-29T00:09:45.536Z"
   },
   {
    "duration": 33,
    "start_time": "2023-01-29T00:09:45.553Z"
   },
   {
    "duration": 55,
    "start_time": "2023-01-29T00:09:45.589Z"
   },
   {
    "duration": 22,
    "start_time": "2023-01-29T00:09:45.646Z"
   },
   {
    "duration": 918,
    "start_time": "2023-01-29T00:09:45.670Z"
   },
   {
    "duration": 16,
    "start_time": "2023-01-29T00:09:46.591Z"
   },
   {
    "duration": 28,
    "start_time": "2023-01-29T00:09:46.621Z"
   },
   {
    "duration": 82,
    "start_time": "2023-01-29T00:09:46.651Z"
   },
   {
    "duration": 200,
    "start_time": "2023-01-29T00:09:46.734Z"
   },
   {
    "duration": 123,
    "start_time": "2023-01-29T00:09:46.937Z"
   },
   {
    "duration": 187,
    "start_time": "2023-01-29T00:09:47.065Z"
   },
   {
    "duration": 12,
    "start_time": "2023-01-29T00:09:47.254Z"
   },
   {
    "duration": 54,
    "start_time": "2023-01-29T00:09:47.268Z"
   },
   {
    "duration": 13,
    "start_time": "2023-01-29T00:09:47.324Z"
   },
   {
    "duration": 152,
    "start_time": "2023-01-29T00:09:47.339Z"
   },
   {
    "duration": 16,
    "start_time": "2023-01-29T00:09:47.493Z"
   },
   {
    "duration": 36,
    "start_time": "2023-01-29T00:09:47.510Z"
   },
   {
    "duration": 5,
    "start_time": "2023-01-29T00:09:47.548Z"
   },
   {
    "duration": 14,
    "start_time": "2023-01-29T00:09:47.554Z"
   },
   {
    "duration": 3,
    "start_time": "2023-01-29T00:09:47.570Z"
   },
   {
    "duration": 46,
    "start_time": "2023-01-29T00:09:47.575Z"
   },
   {
    "duration": 16,
    "start_time": "2023-01-29T00:09:47.623Z"
   },
   {
    "duration": 9,
    "start_time": "2023-01-29T00:09:47.641Z"
   },
   {
    "duration": 194,
    "start_time": "2023-01-29T00:09:47.651Z"
   },
   {
    "duration": 107,
    "start_time": "2023-01-29T00:09:47.846Z"
   },
   {
    "duration": 32,
    "start_time": "2023-01-29T00:09:47.955Z"
   },
   {
    "duration": 40,
    "start_time": "2023-01-29T00:09:47.989Z"
   },
   {
    "duration": 13,
    "start_time": "2023-01-29T00:09:48.031Z"
   },
   {
    "duration": 16,
    "start_time": "2023-01-29T00:09:48.046Z"
   },
   {
    "duration": 86,
    "start_time": "2023-01-29T00:09:48.064Z"
   },
   {
    "duration": 19,
    "start_time": "2023-01-29T00:09:48.152Z"
   },
   {
    "duration": 75,
    "start_time": "2023-01-29T00:09:48.172Z"
   },
   {
    "duration": 6,
    "start_time": "2023-01-29T00:09:48.248Z"
   },
   {
    "duration": 24,
    "start_time": "2023-01-29T00:09:48.256Z"
   },
   {
    "duration": 39,
    "start_time": "2023-01-29T00:09:48.282Z"
   },
   {
    "duration": 258,
    "start_time": "2023-01-29T00:09:48.323Z"
   },
   {
    "duration": 13,
    "start_time": "2023-01-29T00:09:48.583Z"
   },
   {
    "duration": 82,
    "start_time": "2023-01-29T00:09:48.598Z"
   },
   {
    "duration": 471,
    "start_time": "2023-01-29T00:09:48.682Z"
   },
   {
    "duration": 14,
    "start_time": "2023-01-29T00:09:49.154Z"
   },
   {
    "duration": 19,
    "start_time": "2023-01-29T00:09:49.170Z"
   },
   {
    "duration": 36,
    "start_time": "2023-01-29T00:09:49.190Z"
   },
   {
    "duration": 14,
    "start_time": "2023-01-29T00:09:49.228Z"
   },
   {
    "duration": 8,
    "start_time": "2023-01-29T00:09:49.244Z"
   },
   {
    "duration": 20,
    "start_time": "2023-01-29T00:09:49.254Z"
   },
   {
    "duration": 7,
    "start_time": "2023-01-29T00:09:49.276Z"
   },
   {
    "duration": 38,
    "start_time": "2023-01-29T00:09:49.285Z"
   },
   {
    "duration": 19,
    "start_time": "2023-01-29T00:09:49.325Z"
   },
   {
    "duration": 1194,
    "start_time": "2023-01-29T00:47:37.701Z"
   },
   {
    "duration": 1220,
    "start_time": "2023-01-29T00:47:38.897Z"
   },
   {
    "duration": 11,
    "start_time": "2023-01-29T00:47:40.118Z"
   },
   {
    "duration": 10,
    "start_time": "2023-01-29T00:47:40.131Z"
   },
   {
    "duration": 19,
    "start_time": "2023-01-29T00:47:40.143Z"
   },
   {
    "duration": 10,
    "start_time": "2023-01-29T00:47:40.163Z"
   },
   {
    "duration": 13,
    "start_time": "2023-01-29T00:47:40.175Z"
   },
   {
    "duration": 13,
    "start_time": "2023-01-29T00:47:40.189Z"
   },
   {
    "duration": 22,
    "start_time": "2023-01-29T00:47:40.204Z"
   },
   {
    "duration": 52,
    "start_time": "2023-01-29T00:47:40.228Z"
   },
   {
    "duration": 251,
    "start_time": "2023-01-29T00:47:40.282Z"
   },
   {
    "duration": 49,
    "start_time": "2023-01-29T00:47:40.535Z"
   },
   {
    "duration": 68,
    "start_time": "2023-01-29T00:47:40.585Z"
   },
   {
    "duration": 144,
    "start_time": "2023-01-29T00:47:40.655Z"
   },
   {
    "duration": 16,
    "start_time": "2023-01-29T00:47:40.810Z"
   },
   {
    "duration": 28,
    "start_time": "2023-01-29T00:47:40.827Z"
   },
   {
    "duration": 23,
    "start_time": "2023-01-29T00:47:40.857Z"
   },
   {
    "duration": 30,
    "start_time": "2023-01-29T00:47:40.881Z"
   },
   {
    "duration": 11,
    "start_time": "2023-01-29T00:47:40.912Z"
   },
   {
    "duration": 28,
    "start_time": "2023-01-29T00:47:40.925Z"
   },
   {
    "duration": 19,
    "start_time": "2023-01-29T00:47:40.954Z"
   },
   {
    "duration": 46,
    "start_time": "2023-01-29T00:47:40.975Z"
   },
   {
    "duration": 954,
    "start_time": "2023-01-29T00:47:41.022Z"
   },
   {
    "duration": 9,
    "start_time": "2023-01-29T00:47:41.977Z"
   },
   {
    "duration": 28,
    "start_time": "2023-01-29T00:47:41.987Z"
   },
   {
    "duration": 63,
    "start_time": "2023-01-29T00:47:42.017Z"
   },
   {
    "duration": 169,
    "start_time": "2023-01-29T00:47:42.081Z"
   },
   {
    "duration": 120,
    "start_time": "2023-01-29T00:47:42.253Z"
   },
   {
    "duration": 173,
    "start_time": "2023-01-29T00:47:42.374Z"
   },
   {
    "duration": 11,
    "start_time": "2023-01-29T00:47:42.548Z"
   },
   {
    "duration": 52,
    "start_time": "2023-01-29T00:47:42.560Z"
   },
   {
    "duration": 11,
    "start_time": "2023-01-29T00:47:42.613Z"
   },
   {
    "duration": 145,
    "start_time": "2023-01-29T00:47:42.626Z"
   },
   {
    "duration": 43,
    "start_time": "2023-01-29T00:47:42.773Z"
   },
   {
    "duration": 48,
    "start_time": "2023-01-29T00:47:42.819Z"
   },
   {
    "duration": 5,
    "start_time": "2023-01-29T00:47:42.869Z"
   },
   {
    "duration": 44,
    "start_time": "2023-01-29T00:47:42.875Z"
   },
   {
    "duration": 17,
    "start_time": "2023-01-29T00:47:42.920Z"
   },
   {
    "duration": 9,
    "start_time": "2023-01-29T00:47:42.938Z"
   },
   {
    "duration": 25,
    "start_time": "2023-01-29T00:47:42.949Z"
   },
   {
    "duration": 20,
    "start_time": "2023-01-29T00:47:42.976Z"
   },
   {
    "duration": 235,
    "start_time": "2023-01-29T00:47:42.998Z"
   },
   {
    "duration": 213,
    "start_time": "2023-01-29T00:47:43.235Z"
   },
   {
    "duration": 84,
    "start_time": "2023-01-29T00:47:43.450Z"
   },
   {
    "duration": 86,
    "start_time": "2023-01-29T00:47:43.536Z"
   },
   {
    "duration": 14,
    "start_time": "2023-01-29T00:47:43.624Z"
   },
   {
    "duration": 85,
    "start_time": "2023-01-29T00:47:43.640Z"
   },
   {
    "duration": 658,
    "start_time": "2023-01-29T00:47:43.727Z"
   },
   {
    "duration": 24,
    "start_time": "2023-01-29T00:47:44.387Z"
   },
   {
    "duration": 197,
    "start_time": "2023-01-29T00:47:44.413Z"
   },
   {
    "duration": 6,
    "start_time": "2023-01-29T00:47:44.612Z"
   },
   {
    "duration": 45,
    "start_time": "2023-01-29T00:47:44.619Z"
   },
   {
    "duration": 18,
    "start_time": "2023-01-29T00:47:44.666Z"
   },
   {
    "duration": 134,
    "start_time": "2023-01-29T00:47:44.686Z"
   },
   {
    "duration": 13,
    "start_time": "2023-01-29T00:47:44.821Z"
   },
   {
    "duration": 78,
    "start_time": "2023-01-29T00:47:44.835Z"
   },
   {
    "duration": 434,
    "start_time": "2023-01-29T00:47:44.915Z"
   },
   {
    "duration": 12,
    "start_time": "2023-01-29T00:47:45.350Z"
   },
   {
    "duration": 18,
    "start_time": "2023-01-29T00:47:45.363Z"
   },
   {
    "duration": 9,
    "start_time": "2023-01-29T00:47:45.382Z"
   },
   {
    "duration": 29,
    "start_time": "2023-01-29T00:47:45.392Z"
   },
   {
    "duration": 7,
    "start_time": "2023-01-29T00:47:45.422Z"
   },
   {
    "duration": 22,
    "start_time": "2023-01-29T00:47:45.431Z"
   },
   {
    "duration": 15,
    "start_time": "2023-01-29T00:47:45.455Z"
   },
   {
    "duration": 7,
    "start_time": "2023-01-29T00:47:45.471Z"
   },
   {
    "duration": 33,
    "start_time": "2023-01-29T00:47:45.479Z"
   },
   {
    "duration": 13,
    "start_time": "2023-01-29T00:48:48.571Z"
   },
   {
    "duration": 26,
    "start_time": "2023-01-29T00:54:29.012Z"
   },
   {
    "duration": 6,
    "start_time": "2023-01-29T00:56:17.643Z"
   },
   {
    "duration": 11,
    "start_time": "2023-01-29T00:56:19.339Z"
   },
   {
    "duration": 1362,
    "start_time": "2023-01-29T07:54:34.246Z"
   },
   {
    "duration": 1465,
    "start_time": "2023-01-29T07:54:35.610Z"
   },
   {
    "duration": 11,
    "start_time": "2023-01-29T07:54:37.077Z"
   },
   {
    "duration": 10,
    "start_time": "2023-01-29T07:54:37.090Z"
   },
   {
    "duration": 18,
    "start_time": "2023-01-29T07:54:37.102Z"
   },
   {
    "duration": 16,
    "start_time": "2023-01-29T07:54:37.122Z"
   },
   {
    "duration": 11,
    "start_time": "2023-01-29T07:54:38.332Z"
   },
   {
    "duration": 5,
    "start_time": "2023-01-29T07:54:38.489Z"
   },
   {
    "duration": 29,
    "start_time": "2023-01-29T07:54:38.751Z"
   },
   {
    "duration": 65,
    "start_time": "2023-01-29T07:54:39.227Z"
   },
   {
    "duration": 238,
    "start_time": "2023-01-29T07:54:39.401Z"
   },
   {
    "duration": 60,
    "start_time": "2023-01-29T07:54:39.641Z"
   },
   {
    "duration": 42,
    "start_time": "2023-01-29T07:54:39.943Z"
   },
   {
    "duration": 124,
    "start_time": "2023-01-29T07:54:40.392Z"
   },
   {
    "duration": 24,
    "start_time": "2023-01-29T07:54:40.829Z"
   },
   {
    "duration": 34,
    "start_time": "2023-01-29T07:54:40.953Z"
   },
   {
    "duration": 27,
    "start_time": "2023-01-29T07:54:41.274Z"
   },
   {
    "duration": 10,
    "start_time": "2023-01-29T07:54:43.155Z"
   },
   {
    "duration": 12,
    "start_time": "2023-01-29T07:54:43.275Z"
   },
   {
    "duration": 32,
    "start_time": "2023-01-29T07:54:43.678Z"
   },
   {
    "duration": 20,
    "start_time": "2023-01-29T07:54:43.873Z"
   },
   {
    "duration": 16,
    "start_time": "2023-01-29T07:54:44.069Z"
   },
   {
    "duration": 904,
    "start_time": "2023-01-29T07:54:44.417Z"
   },
   {
    "duration": 11,
    "start_time": "2023-01-29T07:54:45.325Z"
   },
   {
    "duration": 16,
    "start_time": "2023-01-29T07:54:45.338Z"
   },
   {
    "duration": 58,
    "start_time": "2023-01-29T07:54:46.230Z"
   },
   {
    "duration": 171,
    "start_time": "2023-01-29T07:54:46.806Z"
   },
   {
    "duration": 97,
    "start_time": "2023-01-29T07:54:47.005Z"
   },
   {
    "duration": 159,
    "start_time": "2023-01-29T07:54:47.772Z"
   },
   {
    "duration": 12,
    "start_time": "2023-01-29T07:54:48.100Z"
   },
   {
    "duration": 38,
    "start_time": "2023-01-29T07:54:49.234Z"
   },
   {
    "duration": 13,
    "start_time": "2023-01-29T07:54:49.457Z"
   },
   {
    "duration": 123,
    "start_time": "2023-01-29T07:54:49.629Z"
   },
   {
    "duration": 16,
    "start_time": "2023-01-29T07:54:49.779Z"
   },
   {
    "duration": 25,
    "start_time": "2023-01-29T07:54:50.560Z"
   },
   {
    "duration": 6,
    "start_time": "2023-01-29T07:54:50.812Z"
   },
   {
    "duration": 15,
    "start_time": "2023-01-29T07:54:51.115Z"
   },
   {
    "duration": 4,
    "start_time": "2023-01-29T07:54:51.250Z"
   },
   {
    "duration": 5,
    "start_time": "2023-01-29T07:54:51.692Z"
   },
   {
    "duration": 16,
    "start_time": "2023-01-29T07:54:52.248Z"
   },
   {
    "duration": 12,
    "start_time": "2023-01-29T07:54:52.425Z"
   },
   {
    "duration": 150,
    "start_time": "2023-01-29T07:54:52.593Z"
   },
   {
    "duration": 91,
    "start_time": "2023-01-29T07:54:52.892Z"
   },
   {
    "duration": 26,
    "start_time": "2023-01-29T07:54:54.949Z"
   },
   {
    "duration": 24,
    "start_time": "2023-01-29T07:54:55.140Z"
   },
   {
    "duration": 13,
    "start_time": "2023-01-29T07:54:55.304Z"
   },
   {
    "duration": 15,
    "start_time": "2023-01-29T07:54:55.469Z"
   },
   {
    "duration": 464,
    "start_time": "2023-01-29T07:54:55.662Z"
   },
   {
    "duration": 20,
    "start_time": "2023-01-29T07:54:56.128Z"
   },
   {
    "duration": 215,
    "start_time": "2023-01-29T07:54:56.150Z"
   },
   {
    "duration": 6,
    "start_time": "2023-01-29T07:54:56.367Z"
   },
   {
    "duration": 22,
    "start_time": "2023-01-29T07:54:56.943Z"
   },
   {
    "duration": 14,
    "start_time": "2023-01-29T07:54:57.174Z"
   },
   {
    "duration": 150,
    "start_time": "2023-01-29T07:54:58.218Z"
   },
   {
    "duration": 18,
    "start_time": "2023-01-29T07:54:58.661Z"
   },
   {
    "duration": 83,
    "start_time": "2023-01-29T07:54:58.982Z"
   },
   {
    "duration": 467,
    "start_time": "2023-01-29T07:54:59.803Z"
   },
   {
    "duration": 14,
    "start_time": "2023-01-29T07:55:00.344Z"
   },
   {
    "duration": 19,
    "start_time": "2023-01-29T07:55:01.803Z"
   },
   {
    "duration": 11,
    "start_time": "2023-01-29T07:55:01.991Z"
   },
   {
    "duration": 15,
    "start_time": "2023-01-29T07:55:02.922Z"
   },
   {
    "duration": 8,
    "start_time": "2023-01-29T07:55:04.855Z"
   },
   {
    "duration": 24,
    "start_time": "2023-01-29T07:55:05.116Z"
   },
   {
    "duration": 7,
    "start_time": "2023-01-29T07:55:05.385Z"
   },
   {
    "duration": 6,
    "start_time": "2023-01-29T07:55:06.369Z"
   },
   {
    "duration": 9,
    "start_time": "2023-01-29T07:55:07.279Z"
   },
   {
    "duration": 18,
    "start_time": "2023-01-29T07:57:59.608Z"
   },
   {
    "duration": 16,
    "start_time": "2023-01-29T07:59:24.276Z"
   },
   {
    "duration": 8,
    "start_time": "2023-01-29T08:00:23.740Z"
   },
   {
    "duration": 17,
    "start_time": "2023-01-29T08:00:28.445Z"
   },
   {
    "duration": 8,
    "start_time": "2023-01-29T08:01:50.079Z"
   },
   {
    "duration": 21,
    "start_time": "2023-01-29T08:01:51.416Z"
   },
   {
    "duration": 4,
    "start_time": "2023-01-29T08:02:10.521Z"
   },
   {
    "duration": 1044,
    "start_time": "2023-01-29T08:02:11.158Z"
   },
   {
    "duration": 9,
    "start_time": "2023-01-29T08:02:12.204Z"
   },
   {
    "duration": 11,
    "start_time": "2023-01-29T08:02:12.214Z"
   },
   {
    "duration": 9,
    "start_time": "2023-01-29T08:02:12.768Z"
   },
   {
    "duration": 10,
    "start_time": "2023-01-29T08:02:13.296Z"
   },
   {
    "duration": 9,
    "start_time": "2023-01-29T08:02:14.781Z"
   },
   {
    "duration": 5,
    "start_time": "2023-01-29T08:02:14.921Z"
   },
   {
    "duration": 22,
    "start_time": "2023-01-29T08:02:15.275Z"
   },
   {
    "duration": 55,
    "start_time": "2023-01-29T08:02:15.769Z"
   },
   {
    "duration": 292,
    "start_time": "2023-01-29T08:02:15.916Z"
   },
   {
    "duration": 73,
    "start_time": "2023-01-29T08:02:16.211Z"
   },
   {
    "duration": 37,
    "start_time": "2023-01-29T08:02:16.324Z"
   },
   {
    "duration": 130,
    "start_time": "2023-01-29T08:02:17.017Z"
   },
   {
    "duration": 17,
    "start_time": "2023-01-29T08:02:17.565Z"
   },
   {
    "duration": 29,
    "start_time": "2023-01-29T08:02:17.726Z"
   },
   {
    "duration": 29,
    "start_time": "2023-01-29T08:02:18.107Z"
   },
   {
    "duration": 8,
    "start_time": "2023-01-29T08:04:39.177Z"
   },
   {
    "duration": 13,
    "start_time": "2023-01-29T08:04:40.163Z"
   },
   {
    "duration": 38,
    "start_time": "2023-01-29T08:04:40.606Z"
   },
   {
    "duration": 21,
    "start_time": "2023-01-29T08:04:40.758Z"
   },
   {
    "duration": 17,
    "start_time": "2023-01-29T08:04:41.065Z"
   },
   {
    "duration": 942,
    "start_time": "2023-01-29T08:04:41.477Z"
   },
   {
    "duration": 11,
    "start_time": "2023-01-29T08:04:42.422Z"
   },
   {
    "duration": 25,
    "start_time": "2023-01-29T08:04:42.784Z"
   },
   {
    "duration": 80,
    "start_time": "2023-01-29T08:04:48.173Z"
   },
   {
    "duration": 226,
    "start_time": "2023-01-29T08:04:49.988Z"
   },
   {
    "duration": 119,
    "start_time": "2023-01-29T08:04:50.737Z"
   },
   {
    "duration": 189,
    "start_time": "2023-01-29T08:05:02.566Z"
   },
   {
    "duration": 12,
    "start_time": "2023-01-29T08:05:04.399Z"
   },
   {
    "duration": 26,
    "start_time": "2023-01-29T08:05:05.608Z"
   },
   {
    "duration": 71,
    "start_time": "2023-01-29T08:05:25.131Z"
   },
   {
    "duration": 68,
    "start_time": "2023-01-29T08:05:28.388Z"
   },
   {
    "duration": 69,
    "start_time": "2023-01-29T08:06:38.282Z"
   },
   {
    "duration": 73,
    "start_time": "2023-01-29T08:06:40.903Z"
   },
   {
    "duration": 4,
    "start_time": "2023-01-29T08:07:10.268Z"
   },
   {
    "duration": 1088,
    "start_time": "2023-01-29T08:07:10.276Z"
   },
   {
    "duration": 7,
    "start_time": "2023-01-29T08:07:11.366Z"
   },
   {
    "duration": 10,
    "start_time": "2023-01-29T08:07:11.375Z"
   },
   {
    "duration": 8,
    "start_time": "2023-01-29T08:07:11.387Z"
   },
   {
    "duration": 8,
    "start_time": "2023-01-29T08:07:11.397Z"
   },
   {
    "duration": 12,
    "start_time": "2023-01-29T08:07:11.406Z"
   },
   {
    "duration": 12,
    "start_time": "2023-01-29T08:07:11.419Z"
   },
   {
    "duration": 25,
    "start_time": "2023-01-29T08:07:11.432Z"
   },
   {
    "duration": 104,
    "start_time": "2023-01-29T08:07:11.459Z"
   },
   {
    "duration": 248,
    "start_time": "2023-01-29T08:07:11.567Z"
   },
   {
    "duration": 47,
    "start_time": "2023-01-29T08:07:11.816Z"
   },
   {
    "duration": 49,
    "start_time": "2023-01-29T08:07:11.864Z"
   },
   {
    "duration": 120,
    "start_time": "2023-01-29T08:07:11.915Z"
   },
   {
    "duration": 17,
    "start_time": "2023-01-29T08:07:12.037Z"
   },
   {
    "duration": 59,
    "start_time": "2023-01-29T08:07:12.055Z"
   },
   {
    "duration": 26,
    "start_time": "2023-01-29T08:07:12.116Z"
   },
   {
    "duration": 7,
    "start_time": "2023-01-29T08:07:12.144Z"
   },
   {
    "duration": 17,
    "start_time": "2023-01-29T08:07:12.152Z"
   },
   {
    "duration": 50,
    "start_time": "2023-01-29T08:07:12.170Z"
   },
   {
    "duration": 21,
    "start_time": "2023-01-29T08:07:12.222Z"
   },
   {
    "duration": 18,
    "start_time": "2023-01-29T08:07:12.244Z"
   },
   {
    "duration": 869,
    "start_time": "2023-01-29T08:07:12.263Z"
   },
   {
    "duration": 10,
    "start_time": "2023-01-29T08:07:13.134Z"
   },
   {
    "duration": 15,
    "start_time": "2023-01-29T08:07:13.145Z"
   },
   {
    "duration": 95,
    "start_time": "2023-01-29T08:07:13.161Z"
   },
   {
    "duration": 181,
    "start_time": "2023-01-29T08:07:13.258Z"
   },
   {
    "duration": 114,
    "start_time": "2023-01-29T08:07:13.441Z"
   },
   {
    "duration": 172,
    "start_time": "2023-01-29T08:07:13.560Z"
   },
   {
    "duration": 31,
    "start_time": "2023-01-29T08:07:13.734Z"
   },
   {
    "duration": 52,
    "start_time": "2023-01-29T08:07:13.766Z"
   },
   {
    "duration": 11,
    "start_time": "2023-01-29T08:07:13.820Z"
   },
   {
    "duration": 130,
    "start_time": "2023-01-29T08:07:13.832Z"
   },
   {
    "duration": 17,
    "start_time": "2023-01-29T08:07:13.963Z"
   },
   {
    "duration": 39,
    "start_time": "2023-01-29T08:07:13.991Z"
   },
   {
    "duration": 4,
    "start_time": "2023-01-29T08:07:14.032Z"
   },
   {
    "duration": 13,
    "start_time": "2023-01-29T08:07:14.038Z"
   },
   {
    "duration": 4,
    "start_time": "2023-01-29T08:07:14.052Z"
   },
   {
    "duration": 33,
    "start_time": "2023-01-29T08:07:14.058Z"
   },
   {
    "duration": 16,
    "start_time": "2023-01-29T08:07:14.093Z"
   },
   {
    "duration": 10,
    "start_time": "2023-01-29T08:07:14.111Z"
   },
   {
    "duration": 156,
    "start_time": "2023-01-29T08:07:14.123Z"
   },
   {
    "duration": 86,
    "start_time": "2023-01-29T08:07:14.281Z"
   },
   {
    "duration": 37,
    "start_time": "2023-01-29T08:07:14.368Z"
   },
   {
    "duration": 25,
    "start_time": "2023-01-29T08:07:14.406Z"
   },
   {
    "duration": 12,
    "start_time": "2023-01-29T08:07:14.433Z"
   },
   {
    "duration": 54,
    "start_time": "2023-01-29T08:07:14.447Z"
   },
   {
    "duration": 54,
    "start_time": "2023-01-29T08:07:14.503Z"
   },
   {
    "duration": 42,
    "start_time": "2023-01-29T08:07:14.559Z"
   },
   {
    "duration": 52,
    "start_time": "2023-01-29T08:07:14.604Z"
   },
   {
    "duration": 7,
    "start_time": "2023-01-29T08:07:14.658Z"
   },
   {
    "duration": 46,
    "start_time": "2023-01-29T08:07:14.667Z"
   },
   {
    "duration": 12,
    "start_time": "2023-01-29T08:07:14.714Z"
   },
   {
    "duration": 238,
    "start_time": "2023-01-29T08:07:14.728Z"
   },
   {
    "duration": 25,
    "start_time": "2023-01-29T08:07:14.968Z"
   },
   {
    "duration": 60,
    "start_time": "2023-01-29T08:07:14.995Z"
   },
   {
    "duration": 467,
    "start_time": "2023-01-29T08:07:15.057Z"
   },
   {
    "duration": 17,
    "start_time": "2023-01-29T08:07:15.527Z"
   },
   {
    "duration": 27,
    "start_time": "2023-01-29T08:07:15.546Z"
   },
   {
    "duration": 23,
    "start_time": "2023-01-29T08:07:15.575Z"
   },
   {
    "duration": 18,
    "start_time": "2023-01-29T08:07:15.600Z"
   },
   {
    "duration": 9,
    "start_time": "2023-01-29T08:07:15.620Z"
   },
   {
    "duration": 23,
    "start_time": "2023-01-29T08:07:15.630Z"
   },
   {
    "duration": 7,
    "start_time": "2023-01-29T08:07:15.655Z"
   },
   {
    "duration": 6,
    "start_time": "2023-01-29T08:07:15.692Z"
   },
   {
    "duration": 16,
    "start_time": "2023-01-29T08:07:15.699Z"
   },
   {
    "duration": 4,
    "start_time": "2023-01-29T08:12:36.796Z"
   },
   {
    "duration": 956,
    "start_time": "2023-01-29T08:12:37.577Z"
   },
   {
    "duration": 8,
    "start_time": "2023-01-29T08:12:38.535Z"
   },
   {
    "duration": 11,
    "start_time": "2023-01-29T08:12:38.544Z"
   },
   {
    "duration": 11,
    "start_time": "2023-01-29T08:12:38.926Z"
   },
   {
    "duration": 8,
    "start_time": "2023-01-29T08:12:39.327Z"
   },
   {
    "duration": 10,
    "start_time": "2023-01-29T08:12:40.772Z"
   },
   {
    "duration": 5,
    "start_time": "2023-01-29T08:12:40.922Z"
   },
   {
    "duration": 24,
    "start_time": "2023-01-29T08:12:41.215Z"
   },
   {
    "duration": 53,
    "start_time": "2023-01-29T08:12:41.646Z"
   },
   {
    "duration": 222,
    "start_time": "2023-01-29T08:12:41.761Z"
   },
   {
    "duration": 51,
    "start_time": "2023-01-29T08:12:41.985Z"
   },
   {
    "duration": 39,
    "start_time": "2023-01-29T08:12:42.293Z"
   },
   {
    "duration": 127,
    "start_time": "2023-01-29T08:12:42.765Z"
   },
   {
    "duration": 22,
    "start_time": "2023-01-29T08:12:43.350Z"
   },
   {
    "duration": 30,
    "start_time": "2023-01-29T08:12:43.556Z"
   },
   {
    "duration": 24,
    "start_time": "2023-01-29T08:12:43.899Z"
   },
   {
    "duration": 10,
    "start_time": "2023-01-29T08:12:45.908Z"
   },
   {
    "duration": 16,
    "start_time": "2023-01-29T08:12:46.101Z"
   },
   {
    "duration": 35,
    "start_time": "2023-01-29T08:12:46.459Z"
   },
   {
    "duration": 20,
    "start_time": "2023-01-29T08:12:46.631Z"
   },
   {
    "duration": 17,
    "start_time": "2023-01-29T08:12:46.774Z"
   },
   {
    "duration": 862,
    "start_time": "2023-01-29T08:12:47.187Z"
   },
   {
    "duration": 10,
    "start_time": "2023-01-29T08:12:48.051Z"
   },
   {
    "duration": 18,
    "start_time": "2023-01-29T08:12:48.098Z"
   },
   {
    "duration": 60,
    "start_time": "2023-01-29T08:12:49.064Z"
   },
   {
    "duration": 171,
    "start_time": "2023-01-29T08:12:49.600Z"
   },
   {
    "duration": 106,
    "start_time": "2023-01-29T08:12:49.773Z"
   },
   {
    "duration": 153,
    "start_time": "2023-01-29T08:12:50.403Z"
   },
   {
    "duration": 34,
    "start_time": "2023-01-29T08:12:51.151Z"
   },
   {
    "duration": 39,
    "start_time": "2023-01-29T08:12:52.752Z"
   },
   {
    "duration": 13,
    "start_time": "2023-01-29T08:12:52.944Z"
   },
   {
    "duration": 133,
    "start_time": "2023-01-29T08:12:53.134Z"
   },
   {
    "duration": 17,
    "start_time": "2023-01-29T08:12:53.344Z"
   },
   {
    "duration": 26,
    "start_time": "2023-01-29T08:12:54.398Z"
   },
   {
    "duration": 6,
    "start_time": "2023-01-29T08:12:54.844Z"
   },
   {
    "duration": 141,
    "start_time": "2023-01-29T08:13:13.164Z"
   },
   {
    "duration": 37,
    "start_time": "2023-01-29T08:13:14.188Z"
   },
   {
    "duration": 12,
    "start_time": "2023-01-29T08:13:14.431Z"
   },
   {
    "duration": 184,
    "start_time": "2023-01-29T08:13:14.706Z"
   },
   {
    "duration": 18,
    "start_time": "2023-01-29T08:13:14.910Z"
   },
   {
    "duration": 25,
    "start_time": "2023-01-29T08:13:16.272Z"
   },
   {
    "duration": 8,
    "start_time": "2023-01-29T08:13:17.440Z"
   },
   {
    "duration": 12,
    "start_time": "2023-01-29T08:13:18.171Z"
   },
   {
    "duration": 4,
    "start_time": "2023-01-29T08:13:18.438Z"
   },
   {
    "duration": 4,
    "start_time": "2023-01-29T08:13:20.195Z"
   },
   {
    "duration": 24,
    "start_time": "2023-01-29T08:13:21.658Z"
   },
   {
    "duration": 8,
    "start_time": "2023-01-29T08:13:22.218Z"
   },
   {
    "duration": 191,
    "start_time": "2023-01-29T08:13:22.475Z"
   },
   {
    "duration": 52,
    "start_time": "2023-01-29T08:13:51.989Z"
   },
   {
    "duration": 131,
    "start_time": "2023-01-29T08:15:08.771Z"
   },
   {
    "duration": 4,
    "start_time": "2023-01-29T08:17:17.366Z"
   },
   {
    "duration": 1055,
    "start_time": "2023-01-29T08:17:17.374Z"
   },
   {
    "duration": 8,
    "start_time": "2023-01-29T08:17:18.431Z"
   },
   {
    "duration": 10,
    "start_time": "2023-01-29T08:17:18.440Z"
   },
   {
    "duration": 11,
    "start_time": "2023-01-29T08:17:18.453Z"
   },
   {
    "duration": 10,
    "start_time": "2023-01-29T08:17:18.465Z"
   },
   {
    "duration": 13,
    "start_time": "2023-01-29T08:17:18.476Z"
   },
   {
    "duration": 10,
    "start_time": "2023-01-29T08:17:18.491Z"
   },
   {
    "duration": 20,
    "start_time": "2023-01-29T08:17:18.503Z"
   },
   {
    "duration": 67,
    "start_time": "2023-01-29T08:17:18.525Z"
   },
   {
    "duration": 230,
    "start_time": "2023-01-29T08:17:18.595Z"
   },
   {
    "duration": 51,
    "start_time": "2023-01-29T08:17:18.827Z"
   },
   {
    "duration": 39,
    "start_time": "2023-01-29T08:17:18.892Z"
   },
   {
    "duration": 136,
    "start_time": "2023-01-29T08:17:18.933Z"
   },
   {
    "duration": 35,
    "start_time": "2023-01-29T08:17:19.071Z"
   },
   {
    "duration": 31,
    "start_time": "2023-01-29T08:17:19.108Z"
   },
   {
    "duration": 24,
    "start_time": "2023-01-29T08:17:19.140Z"
   },
   {
    "duration": 27,
    "start_time": "2023-01-29T08:17:19.166Z"
   },
   {
    "duration": 14,
    "start_time": "2023-01-29T08:17:19.195Z"
   },
   {
    "duration": 36,
    "start_time": "2023-01-29T08:17:19.211Z"
   },
   {
    "duration": 50,
    "start_time": "2023-01-29T08:17:19.249Z"
   },
   {
    "duration": 17,
    "start_time": "2023-01-29T08:17:19.301Z"
   },
   {
    "duration": 881,
    "start_time": "2023-01-29T08:17:19.320Z"
   },
   {
    "duration": 9,
    "start_time": "2023-01-29T08:17:20.203Z"
   },
   {
    "duration": 17,
    "start_time": "2023-01-29T08:17:20.214Z"
   },
   {
    "duration": 90,
    "start_time": "2023-01-29T08:17:20.233Z"
   },
   {
    "duration": 162,
    "start_time": "2023-01-29T08:17:20.325Z"
   },
   {
    "duration": 106,
    "start_time": "2023-01-29T08:17:20.491Z"
   },
   {
    "duration": 165,
    "start_time": "2023-01-29T08:17:20.601Z"
   },
   {
    "duration": 43,
    "start_time": "2023-01-29T08:17:20.768Z"
   },
   {
    "duration": 12,
    "start_time": "2023-01-29T08:17:20.812Z"
   },
   {
    "duration": 136,
    "start_time": "2023-01-29T08:17:20.826Z"
   },
   {
    "duration": 17,
    "start_time": "2023-01-29T08:17:20.964Z"
   },
   {
    "duration": 27,
    "start_time": "2023-01-29T08:17:20.992Z"
   },
   {
    "duration": 5,
    "start_time": "2023-01-29T08:17:21.021Z"
   },
   {
    "duration": 17,
    "start_time": "2023-01-29T08:17:21.027Z"
   },
   {
    "duration": 3,
    "start_time": "2023-01-29T08:17:21.045Z"
   },
   {
    "duration": 7,
    "start_time": "2023-01-29T08:17:21.049Z"
   },
   {
    "duration": 41,
    "start_time": "2023-01-29T08:17:21.057Z"
   },
   {
    "duration": 11,
    "start_time": "2023-01-29T08:17:21.100Z"
   },
   {
    "duration": 160,
    "start_time": "2023-01-29T08:17:21.112Z"
   },
   {
    "duration": 87,
    "start_time": "2023-01-29T08:17:21.274Z"
   },
   {
    "duration": 54,
    "start_time": "2023-01-29T08:17:21.363Z"
   },
   {
    "duration": 26,
    "start_time": "2023-01-29T08:17:21.419Z"
   },
   {
    "duration": 24,
    "start_time": "2023-01-29T08:17:21.447Z"
   },
   {
    "duration": 13,
    "start_time": "2023-01-29T08:17:21.491Z"
   },
   {
    "duration": 19,
    "start_time": "2023-01-29T08:17:21.506Z"
   },
   {
    "duration": 95,
    "start_time": "2023-01-29T08:17:21.527Z"
   },
   {
    "duration": 20,
    "start_time": "2023-01-29T08:17:21.624Z"
   },
   {
    "duration": 73,
    "start_time": "2023-01-29T08:17:21.645Z"
   },
   {
    "duration": 6,
    "start_time": "2023-01-29T08:17:21.720Z"
   },
   {
    "duration": 24,
    "start_time": "2023-01-29T08:17:21.727Z"
   },
   {
    "duration": 12,
    "start_time": "2023-01-29T08:17:21.753Z"
   },
   {
    "duration": 156,
    "start_time": "2023-01-29T08:17:21.767Z"
   },
   {
    "duration": 12,
    "start_time": "2023-01-29T08:17:21.925Z"
   },
   {
    "duration": 80,
    "start_time": "2023-01-29T08:17:21.939Z"
   },
   {
    "duration": 546,
    "start_time": "2023-01-29T08:17:22.021Z"
   },
   {
    "duration": 13,
    "start_time": "2023-01-29T08:17:22.568Z"
   },
   {
    "duration": 27,
    "start_time": "2023-01-29T08:17:22.583Z"
   },
   {
    "duration": 10,
    "start_time": "2023-01-29T08:17:22.612Z"
   },
   {
    "duration": 25,
    "start_time": "2023-01-29T08:17:22.624Z"
   },
   {
    "duration": 7,
    "start_time": "2023-01-29T08:17:22.651Z"
   },
   {
    "duration": 47,
    "start_time": "2023-01-29T08:17:22.660Z"
   },
   {
    "duration": 6,
    "start_time": "2023-01-29T08:17:22.709Z"
   },
   {
    "duration": 8,
    "start_time": "2023-01-29T08:17:22.716Z"
   },
   {
    "duration": 20,
    "start_time": "2023-01-29T08:17:22.725Z"
   },
   {
    "duration": 78,
    "start_time": "2023-01-29T08:22:49.572Z"
   },
   {
    "duration": 497,
    "start_time": "2023-01-29T08:24:15.768Z"
   },
   {
    "duration": 11,
    "start_time": "2023-01-29T08:24:16.379Z"
   },
   {
    "duration": 16,
    "start_time": "2023-01-29T08:24:18.099Z"
   },
   {
    "duration": 9,
    "start_time": "2023-01-29T08:24:18.277Z"
   },
   {
    "duration": 13,
    "start_time": "2023-01-29T08:24:19.581Z"
   },
   {
    "duration": 8,
    "start_time": "2023-01-29T08:24:50.909Z"
   },
   {
    "duration": 18,
    "start_time": "2023-01-29T08:24:51.455Z"
   },
   {
    "duration": 7,
    "start_time": "2023-01-29T08:24:52.192Z"
   },
   {
    "duration": 7,
    "start_time": "2023-01-29T08:24:57.053Z"
   },
   {
    "duration": 12,
    "start_time": "2023-01-29T08:24:59.270Z"
   },
   {
    "duration": 69,
    "start_time": "2023-01-29T08:25:35.300Z"
   },
   {
    "duration": 4,
    "start_time": "2023-01-29T08:25:52.394Z"
   },
   {
    "duration": 1073,
    "start_time": "2023-01-29T08:25:52.401Z"
   },
   {
    "duration": 8,
    "start_time": "2023-01-29T08:25:53.476Z"
   },
   {
    "duration": 22,
    "start_time": "2023-01-29T08:25:53.485Z"
   },
   {
    "duration": 50,
    "start_time": "2023-01-29T08:25:53.509Z"
   },
   {
    "duration": 14,
    "start_time": "2023-01-29T08:25:53.561Z"
   },
   {
    "duration": 27,
    "start_time": "2023-01-29T08:25:53.577Z"
   },
   {
    "duration": 16,
    "start_time": "2023-01-29T08:25:53.606Z"
   },
   {
    "duration": 59,
    "start_time": "2023-01-29T08:25:53.624Z"
   },
   {
    "duration": 62,
    "start_time": "2023-01-29T08:25:53.684Z"
   },
   {
    "duration": 225,
    "start_time": "2023-01-29T08:25:53.748Z"
   },
   {
    "duration": 51,
    "start_time": "2023-01-29T08:25:53.975Z"
   },
   {
    "duration": 119,
    "start_time": "2023-01-29T08:25:54.028Z"
   },
   {
    "duration": 164,
    "start_time": "2023-01-29T08:25:54.149Z"
   },
   {
    "duration": 17,
    "start_time": "2023-01-29T08:25:54.314Z"
   },
   {
    "duration": 32,
    "start_time": "2023-01-29T08:25:54.333Z"
   },
   {
    "duration": 44,
    "start_time": "2023-01-29T08:25:54.367Z"
   },
   {
    "duration": 25,
    "start_time": "2023-01-29T08:25:54.413Z"
   },
   {
    "duration": 23,
    "start_time": "2023-01-29T08:25:54.440Z"
   },
   {
    "duration": 39,
    "start_time": "2023-01-29T08:25:54.465Z"
   },
   {
    "duration": 22,
    "start_time": "2023-01-29T08:25:54.506Z"
   },
   {
    "duration": 19,
    "start_time": "2023-01-29T08:25:54.530Z"
   },
   {
    "duration": 930,
    "start_time": "2023-01-29T08:25:54.550Z"
   },
   {
    "duration": 19,
    "start_time": "2023-01-29T08:25:55.483Z"
   },
   {
    "duration": 16,
    "start_time": "2023-01-29T08:25:55.504Z"
   },
   {
    "duration": 85,
    "start_time": "2023-01-29T08:25:55.522Z"
   },
   {
    "duration": 173,
    "start_time": "2023-01-29T08:25:55.609Z"
   },
   {
    "duration": 98,
    "start_time": "2023-01-29T08:25:55.784Z"
   },
   {
    "duration": 201,
    "start_time": "2023-01-29T08:25:55.891Z"
   },
   {
    "duration": 47,
    "start_time": "2023-01-29T08:25:56.095Z"
   },
   {
    "duration": 11,
    "start_time": "2023-01-29T08:25:56.145Z"
   },
   {
    "duration": 152,
    "start_time": "2023-01-29T08:25:56.158Z"
   },
   {
    "duration": 15,
    "start_time": "2023-01-29T08:25:56.311Z"
   },
   {
    "duration": 30,
    "start_time": "2023-01-29T08:25:56.328Z"
   },
   {
    "duration": 6,
    "start_time": "2023-01-29T08:25:56.360Z"
   },
   {
    "duration": 37,
    "start_time": "2023-01-29T08:25:56.368Z"
   },
   {
    "duration": 4,
    "start_time": "2023-01-29T08:25:56.408Z"
   },
   {
    "duration": 9,
    "start_time": "2023-01-29T08:25:56.414Z"
   },
   {
    "duration": 27,
    "start_time": "2023-01-29T08:25:56.425Z"
   },
   {
    "duration": 11,
    "start_time": "2023-01-29T08:25:56.454Z"
   },
   {
    "duration": 147,
    "start_time": "2023-01-29T08:25:56.467Z"
   },
   {
    "duration": 100,
    "start_time": "2023-01-29T08:25:56.616Z"
   },
   {
    "duration": 40,
    "start_time": "2023-01-29T08:25:56.717Z"
   },
   {
    "duration": 43,
    "start_time": "2023-01-29T08:25:56.759Z"
   },
   {
    "duration": 24,
    "start_time": "2023-01-29T08:25:56.804Z"
   },
   {
    "duration": 17,
    "start_time": "2023-01-29T08:25:56.830Z"
   },
   {
    "duration": 45,
    "start_time": "2023-01-29T08:25:56.849Z"
   },
   {
    "duration": 56,
    "start_time": "2023-01-29T08:25:56.895Z"
   },
   {
    "duration": 41,
    "start_time": "2023-01-29T08:25:56.953Z"
   },
   {
    "duration": 54,
    "start_time": "2023-01-29T08:25:56.996Z"
   },
   {
    "duration": 6,
    "start_time": "2023-01-29T08:25:57.052Z"
   },
   {
    "duration": 44,
    "start_time": "2023-01-29T08:25:57.060Z"
   },
   {
    "duration": 11,
    "start_time": "2023-01-29T08:25:57.106Z"
   },
   {
    "duration": 153,
    "start_time": "2023-01-29T08:25:57.119Z"
   },
   {
    "duration": 20,
    "start_time": "2023-01-29T08:25:57.274Z"
   },
   {
    "duration": 56,
    "start_time": "2023-01-29T08:25:57.295Z"
   },
   {
    "duration": 464,
    "start_time": "2023-01-29T08:25:57.353Z"
   },
   {
    "duration": 12,
    "start_time": "2023-01-29T08:25:57.819Z"
   },
   {
    "duration": 19,
    "start_time": "2023-01-29T08:25:57.832Z"
   },
   {
    "duration": 9,
    "start_time": "2023-01-29T08:25:57.852Z"
   },
   {
    "duration": 30,
    "start_time": "2023-01-29T08:25:57.863Z"
   },
   {
    "duration": 7,
    "start_time": "2023-01-29T08:25:57.894Z"
   },
   {
    "duration": 26,
    "start_time": "2023-01-29T08:25:57.902Z"
   },
   {
    "duration": 6,
    "start_time": "2023-01-29T08:25:57.930Z"
   },
   {
    "duration": 117,
    "start_time": "2023-01-29T08:25:57.937Z"
   },
   {
    "duration": 22,
    "start_time": "2023-01-29T08:25:58.056Z"
   },
   {
    "duration": 1290,
    "start_time": "2023-01-29T10:05:40.338Z"
   },
   {
    "duration": 1097,
    "start_time": "2023-01-29T10:05:41.630Z"
   },
   {
    "duration": 13,
    "start_time": "2023-01-29T10:05:42.728Z"
   },
   {
    "duration": 11,
    "start_time": "2023-01-29T10:05:42.743Z"
   },
   {
    "duration": 15,
    "start_time": "2023-01-29T10:05:42.756Z"
   },
   {
    "duration": 15,
    "start_time": "2023-01-29T10:05:42.772Z"
   },
   {
    "duration": 33,
    "start_time": "2023-01-29T10:05:42.789Z"
   },
   {
    "duration": 14,
    "start_time": "2023-01-29T10:05:42.824Z"
   },
   {
    "duration": 29,
    "start_time": "2023-01-29T10:05:42.839Z"
   },
   {
    "duration": 72,
    "start_time": "2023-01-29T10:05:42.869Z"
   },
   {
    "duration": 264,
    "start_time": "2023-01-29T10:05:42.943Z"
   },
   {
    "duration": 67,
    "start_time": "2023-01-29T10:05:43.209Z"
   },
   {
    "duration": 56,
    "start_time": "2023-01-29T10:05:43.278Z"
   },
   {
    "duration": 149,
    "start_time": "2023-01-29T10:05:43.337Z"
   },
   {
    "duration": 36,
    "start_time": "2023-01-29T10:05:43.487Z"
   },
   {
    "duration": 35,
    "start_time": "2023-01-29T10:05:43.525Z"
   },
   {
    "duration": 31,
    "start_time": "2023-01-29T10:05:43.562Z"
   },
   {
    "duration": 30,
    "start_time": "2023-01-29T10:05:43.595Z"
   },
   {
    "duration": 19,
    "start_time": "2023-01-29T10:05:43.627Z"
   },
   {
    "duration": 48,
    "start_time": "2023-01-29T10:05:43.648Z"
   },
   {
    "duration": 40,
    "start_time": "2023-01-29T10:05:43.698Z"
   },
   {
    "duration": 19,
    "start_time": "2023-01-29T10:05:43.740Z"
   },
   {
    "duration": 1003,
    "start_time": "2023-01-29T10:05:43.761Z"
   },
   {
    "duration": 10,
    "start_time": "2023-01-29T10:05:44.765Z"
   },
   {
    "duration": 17,
    "start_time": "2023-01-29T10:05:44.777Z"
   },
   {
    "duration": 80,
    "start_time": "2023-01-29T10:05:44.796Z"
   },
   {
    "duration": 230,
    "start_time": "2023-01-29T10:05:44.877Z"
   },
   {
    "duration": 137,
    "start_time": "2023-01-29T10:05:45.109Z"
   },
   {
    "duration": 179,
    "start_time": "2023-01-29T10:05:45.248Z"
   },
   {
    "duration": 42,
    "start_time": "2023-01-29T10:05:45.428Z"
   },
   {
    "duration": 12,
    "start_time": "2023-01-29T10:05:45.472Z"
   },
   {
    "duration": 145,
    "start_time": "2023-01-29T10:05:45.486Z"
   },
   {
    "duration": 16,
    "start_time": "2023-01-29T10:05:45.633Z"
   },
   {
    "duration": 29,
    "start_time": "2023-01-29T10:05:45.651Z"
   },
   {
    "duration": 5,
    "start_time": "2023-01-29T10:05:45.682Z"
   },
   {
    "duration": 38,
    "start_time": "2023-01-29T10:05:45.688Z"
   },
   {
    "duration": 4,
    "start_time": "2023-01-29T10:05:45.728Z"
   },
   {
    "duration": 7,
    "start_time": "2023-01-29T10:05:45.733Z"
   },
   {
    "duration": 20,
    "start_time": "2023-01-29T10:05:45.741Z"
   },
   {
    "duration": 11,
    "start_time": "2023-01-29T10:05:45.763Z"
   },
   {
    "duration": 174,
    "start_time": "2023-01-29T10:05:45.778Z"
   },
   {
    "duration": 103,
    "start_time": "2023-01-29T10:05:45.954Z"
   },
   {
    "duration": 50,
    "start_time": "2023-01-29T10:05:46.059Z"
   },
   {
    "duration": 32,
    "start_time": "2023-01-29T10:05:46.111Z"
   },
   {
    "duration": 28,
    "start_time": "2023-01-29T10:05:46.144Z"
   },
   {
    "duration": 13,
    "start_time": "2023-01-29T10:05:46.173Z"
   },
   {
    "duration": 52,
    "start_time": "2023-01-29T10:05:46.188Z"
   },
   {
    "duration": 566,
    "start_time": "2023-01-29T10:05:46.242Z"
   },
   {
    "duration": 28,
    "start_time": "2023-01-29T10:05:46.809Z"
   },
   {
    "duration": 233,
    "start_time": "2023-01-29T10:05:46.839Z"
   },
   {
    "duration": 8,
    "start_time": "2023-01-29T10:05:47.074Z"
   },
   {
    "duration": 40,
    "start_time": "2023-01-29T10:05:47.084Z"
   },
   {
    "duration": 17,
    "start_time": "2023-01-29T10:05:47.126Z"
   },
   {
    "duration": 164,
    "start_time": "2023-01-29T10:05:47.145Z"
   },
   {
    "duration": 13,
    "start_time": "2023-01-29T10:05:47.320Z"
   },
   {
    "duration": 61,
    "start_time": "2023-01-29T10:05:47.334Z"
   },
   {
    "duration": 520,
    "start_time": "2023-01-29T10:05:47.397Z"
   },
   {
    "duration": 14,
    "start_time": "2023-01-29T10:05:47.921Z"
   },
   {
    "duration": 19,
    "start_time": "2023-01-29T10:05:47.938Z"
   },
   {
    "duration": 10,
    "start_time": "2023-01-29T10:05:47.958Z"
   },
   {
    "duration": 17,
    "start_time": "2023-01-29T10:05:47.970Z"
   },
   {
    "duration": 8,
    "start_time": "2023-01-29T10:05:48.021Z"
   },
   {
    "duration": 24,
    "start_time": "2023-01-29T10:05:48.031Z"
   },
   {
    "duration": 6,
    "start_time": "2023-01-29T10:05:48.057Z"
   },
   {
    "duration": 6,
    "start_time": "2023-01-29T10:05:48.065Z"
   },
   {
    "duration": 20,
    "start_time": "2023-01-29T10:05:48.072Z"
   },
   {
    "duration": 1898,
    "start_time": "2023-03-27T14:29:56.193Z"
   },
   {
    "duration": 2056,
    "start_time": "2023-03-27T14:29:58.097Z"
   },
   {
    "duration": 12,
    "start_time": "2023-03-27T14:30:00.155Z"
   },
   {
    "duration": 58,
    "start_time": "2023-03-27T14:30:00.169Z"
   },
   {
    "duration": 9,
    "start_time": "2023-03-27T14:30:00.229Z"
   },
   {
    "duration": 33,
    "start_time": "2023-03-27T14:30:00.240Z"
   },
   {
    "duration": 47,
    "start_time": "2023-03-27T14:30:00.283Z"
   },
   {
    "duration": 8,
    "start_time": "2023-03-27T14:30:00.332Z"
   },
   {
    "duration": 76,
    "start_time": "2023-03-27T14:30:00.342Z"
   },
   {
    "duration": 89,
    "start_time": "2023-03-27T14:30:00.422Z"
   },
   {
    "duration": 411,
    "start_time": "2023-03-27T14:30:00.513Z"
   },
   {
    "duration": 72,
    "start_time": "2023-03-27T14:30:00.927Z"
   },
   {
    "duration": 145,
    "start_time": "2023-03-27T14:30:01.000Z"
   },
   {
    "duration": 192,
    "start_time": "2023-03-27T14:30:01.149Z"
   },
   {
    "duration": 18,
    "start_time": "2023-03-27T14:30:01.342Z"
   },
   {
    "duration": 109,
    "start_time": "2023-03-27T14:30:01.362Z"
   },
   {
    "duration": 64,
    "start_time": "2023-03-27T14:30:01.472Z"
   },
   {
    "duration": 26,
    "start_time": "2023-03-27T14:30:01.538Z"
   },
   {
    "duration": 96,
    "start_time": "2023-03-27T14:30:01.566Z"
   },
   {
    "duration": 86,
    "start_time": "2023-03-27T14:30:01.664Z"
   },
   {
    "duration": 76,
    "start_time": "2023-03-27T14:30:01.752Z"
   },
   {
    "duration": 31,
    "start_time": "2023-03-27T14:30:01.829Z"
   },
   {
    "duration": 1337,
    "start_time": "2023-03-27T14:30:01.862Z"
   },
   {
    "duration": 22,
    "start_time": "2023-03-27T14:30:03.208Z"
   },
   {
    "duration": 18,
    "start_time": "2023-03-27T14:30:03.231Z"
   },
   {
    "duration": 93,
    "start_time": "2023-03-27T14:30:03.251Z"
   },
   {
    "duration": 273,
    "start_time": "2023-03-27T14:30:03.345Z"
   },
   {
    "duration": 141,
    "start_time": "2023-03-27T14:30:03.628Z"
   }
  ],
  "kernelspec": {
   "display_name": "Python 3",
   "language": "python",
   "name": "python3"
  },
  "language_info": {
   "codemirror_mode": {
    "name": "ipython",
    "version": 3
   },
   "file_extension": ".py",
   "mimetype": "text/x-python",
   "name": "python",
   "nbconvert_exporter": "python",
   "pygments_lexer": "ipython3",
   "version": "3.8.5"
  },
  "toc": {
   "base_numbering": 1,
   "nav_menu": {},
   "number_sections": true,
   "sideBar": true,
   "skip_h1_title": true,
   "title_cell": "Table of Contents",
   "title_sidebar": "Contents",
   "toc_cell": false,
   "toc_position": {},
   "toc_section_display": true,
   "toc_window_display": true
  }
 },
 "nbformat": 4,
 "nbformat_minor": 4
}
